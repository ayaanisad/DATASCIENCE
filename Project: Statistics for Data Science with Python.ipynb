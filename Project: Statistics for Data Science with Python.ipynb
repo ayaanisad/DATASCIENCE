{
    "cells": [
        {
            "cell_type": "markdown",
            "metadata": {},
            "source": "# IBM PEER GRADED ASSIGNMENT\n## Statistics for Data Science with Python By IBM\n#### Created by: Aya Anisa Dwinidasari - 970038\nTelkom Athon #2 Data Science"
        },
        {
            "cell_type": "markdown",
            "metadata": {},
            "source": "### Import Libraries"
        },
        {
            "cell_type": "code",
            "execution_count": 1,
            "metadata": {},
            "outputs": [],
            "source": "import numpy as np\nimport pandas as pd\nimport statsmodels.api as sm\nimport seaborn as sns\nimport matplotlib.pyplot as plt \nimport scipy.stats"
        },
        {
            "cell_type": "code",
            "execution_count": 2,
            "metadata": {},
            "outputs": [],
            "source": "boston_url = 'https://cf-courses-data.s3.us.cloud-object-storage.appdomain.cloud/IBMDeveloperSkillsNetwork-ST0151EN-SkillsNetwork/labs/boston_housing.csv'\nboston_df=pd.read_csv(boston_url)"
        },
        {
            "cell_type": "code",
            "execution_count": 3,
            "metadata": {},
            "outputs": [
                {
                    "data": {
                        "text/html": "<div>\n<style scoped>\n    .dataframe tbody tr th:only-of-type {\n        vertical-align: middle;\n    }\n\n    .dataframe tbody tr th {\n        vertical-align: top;\n    }\n\n    .dataframe thead th {\n        text-align: right;\n    }\n</style>\n<table border=\"1\" class=\"dataframe\">\n  <thead>\n    <tr style=\"text-align: right;\">\n      <th></th>\n      <th>Unnamed: 0</th>\n      <th>CRIM</th>\n      <th>ZN</th>\n      <th>INDUS</th>\n      <th>CHAS</th>\n      <th>NOX</th>\n      <th>RM</th>\n      <th>AGE</th>\n      <th>DIS</th>\n      <th>RAD</th>\n      <th>TAX</th>\n      <th>PTRATIO</th>\n      <th>LSTAT</th>\n      <th>MEDV</th>\n    </tr>\n  </thead>\n  <tbody>\n    <tr>\n      <th>0</th>\n      <td>0</td>\n      <td>0.00632</td>\n      <td>18.0</td>\n      <td>2.31</td>\n      <td>0.0</td>\n      <td>0.538</td>\n      <td>6.575</td>\n      <td>65.2</td>\n      <td>4.0900</td>\n      <td>1.0</td>\n      <td>296.0</td>\n      <td>15.3</td>\n      <td>4.98</td>\n      <td>24.0</td>\n    </tr>\n    <tr>\n      <th>1</th>\n      <td>1</td>\n      <td>0.02731</td>\n      <td>0.0</td>\n      <td>7.07</td>\n      <td>0.0</td>\n      <td>0.469</td>\n      <td>6.421</td>\n      <td>78.9</td>\n      <td>4.9671</td>\n      <td>2.0</td>\n      <td>242.0</td>\n      <td>17.8</td>\n      <td>9.14</td>\n      <td>21.6</td>\n    </tr>\n    <tr>\n      <th>2</th>\n      <td>2</td>\n      <td>0.02729</td>\n      <td>0.0</td>\n      <td>7.07</td>\n      <td>0.0</td>\n      <td>0.469</td>\n      <td>7.185</td>\n      <td>61.1</td>\n      <td>4.9671</td>\n      <td>2.0</td>\n      <td>242.0</td>\n      <td>17.8</td>\n      <td>4.03</td>\n      <td>34.7</td>\n    </tr>\n    <tr>\n      <th>3</th>\n      <td>3</td>\n      <td>0.03237</td>\n      <td>0.0</td>\n      <td>2.18</td>\n      <td>0.0</td>\n      <td>0.458</td>\n      <td>6.998</td>\n      <td>45.8</td>\n      <td>6.0622</td>\n      <td>3.0</td>\n      <td>222.0</td>\n      <td>18.7</td>\n      <td>2.94</td>\n      <td>33.4</td>\n    </tr>\n    <tr>\n      <th>4</th>\n      <td>4</td>\n      <td>0.06905</td>\n      <td>0.0</td>\n      <td>2.18</td>\n      <td>0.0</td>\n      <td>0.458</td>\n      <td>7.147</td>\n      <td>54.2</td>\n      <td>6.0622</td>\n      <td>3.0</td>\n      <td>222.0</td>\n      <td>18.7</td>\n      <td>5.33</td>\n      <td>36.2</td>\n    </tr>\n  </tbody>\n</table>\n</div>",
                        "text/plain": "   Unnamed: 0     CRIM    ZN  INDUS  CHAS    NOX     RM   AGE     DIS  RAD  \\\n0           0  0.00632  18.0   2.31   0.0  0.538  6.575  65.2  4.0900  1.0   \n1           1  0.02731   0.0   7.07   0.0  0.469  6.421  78.9  4.9671  2.0   \n2           2  0.02729   0.0   7.07   0.0  0.469  7.185  61.1  4.9671  2.0   \n3           3  0.03237   0.0   2.18   0.0  0.458  6.998  45.8  6.0622  3.0   \n4           4  0.06905   0.0   2.18   0.0  0.458  7.147  54.2  6.0622  3.0   \n\n     TAX  PTRATIO  LSTAT  MEDV  \n0  296.0     15.3   4.98  24.0  \n1  242.0     17.8   9.14  21.6  \n2  242.0     17.8   4.03  34.7  \n3  222.0     18.7   2.94  33.4  \n4  222.0     18.7   5.33  36.2  "
                    },
                    "execution_count": 3,
                    "metadata": {},
                    "output_type": "execute_result"
                }
            ],
            "source": "boston_df.head()"
        },
        {
            "cell_type": "code",
            "execution_count": 4,
            "metadata": {},
            "outputs": [],
            "source": "boston_df.drop(boston_df.columns[boston_df.columns.str.contains('unnamed',case = False)],axis = 1, inplace = True)"
        },
        {
            "cell_type": "code",
            "execution_count": 5,
            "metadata": {},
            "outputs": [
                {
                    "data": {
                        "text/html": "<div>\n<style scoped>\n    .dataframe tbody tr th:only-of-type {\n        vertical-align: middle;\n    }\n\n    .dataframe tbody tr th {\n        vertical-align: top;\n    }\n\n    .dataframe thead th {\n        text-align: right;\n    }\n</style>\n<table border=\"1\" class=\"dataframe\">\n  <thead>\n    <tr style=\"text-align: right;\">\n      <th></th>\n      <th>CRIM</th>\n      <th>ZN</th>\n      <th>INDUS</th>\n      <th>CHAS</th>\n      <th>NOX</th>\n      <th>RM</th>\n      <th>AGE</th>\n      <th>DIS</th>\n      <th>RAD</th>\n      <th>TAX</th>\n      <th>PTRATIO</th>\n      <th>LSTAT</th>\n      <th>MEDV</th>\n    </tr>\n  </thead>\n  <tbody>\n    <tr>\n      <th>0</th>\n      <td>0.00632</td>\n      <td>18.0</td>\n      <td>2.31</td>\n      <td>0.0</td>\n      <td>0.538</td>\n      <td>6.575</td>\n      <td>65.2</td>\n      <td>4.0900</td>\n      <td>1.0</td>\n      <td>296.0</td>\n      <td>15.3</td>\n      <td>4.98</td>\n      <td>24.0</td>\n    </tr>\n    <tr>\n      <th>1</th>\n      <td>0.02731</td>\n      <td>0.0</td>\n      <td>7.07</td>\n      <td>0.0</td>\n      <td>0.469</td>\n      <td>6.421</td>\n      <td>78.9</td>\n      <td>4.9671</td>\n      <td>2.0</td>\n      <td>242.0</td>\n      <td>17.8</td>\n      <td>9.14</td>\n      <td>21.6</td>\n    </tr>\n    <tr>\n      <th>2</th>\n      <td>0.02729</td>\n      <td>0.0</td>\n      <td>7.07</td>\n      <td>0.0</td>\n      <td>0.469</td>\n      <td>7.185</td>\n      <td>61.1</td>\n      <td>4.9671</td>\n      <td>2.0</td>\n      <td>242.0</td>\n      <td>17.8</td>\n      <td>4.03</td>\n      <td>34.7</td>\n    </tr>\n    <tr>\n      <th>3</th>\n      <td>0.03237</td>\n      <td>0.0</td>\n      <td>2.18</td>\n      <td>0.0</td>\n      <td>0.458</td>\n      <td>6.998</td>\n      <td>45.8</td>\n      <td>6.0622</td>\n      <td>3.0</td>\n      <td>222.0</td>\n      <td>18.7</td>\n      <td>2.94</td>\n      <td>33.4</td>\n    </tr>\n    <tr>\n      <th>4</th>\n      <td>0.06905</td>\n      <td>0.0</td>\n      <td>2.18</td>\n      <td>0.0</td>\n      <td>0.458</td>\n      <td>7.147</td>\n      <td>54.2</td>\n      <td>6.0622</td>\n      <td>3.0</td>\n      <td>222.0</td>\n      <td>18.7</td>\n      <td>5.33</td>\n      <td>36.2</td>\n    </tr>\n  </tbody>\n</table>\n</div>",
                        "text/plain": "      CRIM    ZN  INDUS  CHAS    NOX     RM   AGE     DIS  RAD    TAX  \\\n0  0.00632  18.0   2.31   0.0  0.538  6.575  65.2  4.0900  1.0  296.0   \n1  0.02731   0.0   7.07   0.0  0.469  6.421  78.9  4.9671  2.0  242.0   \n2  0.02729   0.0   7.07   0.0  0.469  7.185  61.1  4.9671  2.0  242.0   \n3  0.03237   0.0   2.18   0.0  0.458  6.998  45.8  6.0622  3.0  222.0   \n4  0.06905   0.0   2.18   0.0  0.458  7.147  54.2  6.0622  3.0  222.0   \n\n   PTRATIO  LSTAT  MEDV  \n0     15.3   4.98  24.0  \n1     17.8   9.14  21.6  \n2     17.8   4.03  34.7  \n3     18.7   2.94  33.4  \n4     18.7   5.33  36.2  "
                    },
                    "execution_count": 5,
                    "metadata": {},
                    "output_type": "execute_result"
                }
            ],
            "source": "boston_df.head()"
        },
        {
            "cell_type": "code",
            "execution_count": 6,
            "metadata": {},
            "outputs": [
                {
                    "name": "stdout",
                    "output_type": "stream",
                    "text": "<class 'pandas.core.frame.DataFrame'>\nRangeIndex: 506 entries, 0 to 505\nData columns (total 13 columns):\n #   Column   Non-Null Count  Dtype  \n---  ------   --------------  -----  \n 0   CRIM     506 non-null    float64\n 1   ZN       506 non-null    float64\n 2   INDUS    506 non-null    float64\n 3   CHAS     506 non-null    float64\n 4   NOX      506 non-null    float64\n 5   RM       506 non-null    float64\n 6   AGE      506 non-null    float64\n 7   DIS      506 non-null    float64\n 8   RAD      506 non-null    float64\n 9   TAX      506 non-null    float64\n 10  PTRATIO  506 non-null    float64\n 11  LSTAT    506 non-null    float64\n 12  MEDV     506 non-null    float64\ndtypes: float64(13)\nmemory usage: 51.5 KB\n"
                }
            ],
            "source": "boston_df.info()"
        },
        {
            "cell_type": "code",
            "execution_count": 7,
            "metadata": {},
            "outputs": [
                {
                    "data": {
                        "text/plain": "CRIM       float64\nZN         float64\nINDUS      float64\nCHAS       float64\nNOX        float64\nRM         float64\nAGE        float64\nDIS        float64\nRAD        float64\nTAX        float64\nPTRATIO    float64\nLSTAT      float64\nMEDV       float64\ndtype: object"
                    },
                    "execution_count": 7,
                    "metadata": {},
                    "output_type": "execute_result"
                }
            ],
            "source": "boston_df.dtypes"
        },
        {
            "cell_type": "code",
            "execution_count": 8,
            "metadata": {},
            "outputs": [
                {
                    "data": {
                        "text/plain": "CRIM       False\nZN         False\nINDUS      False\nCHAS       False\nNOX        False\nRM         False\nAGE        False\nDIS        False\nRAD        False\nTAX        False\nPTRATIO    False\nLSTAT      False\nMEDV       False\ndtype: bool"
                    },
                    "execution_count": 8,
                    "metadata": {},
                    "output_type": "execute_result"
                }
            ],
            "source": "boston_df.isnull().any()"
        },
        {
            "cell_type": "markdown",
            "metadata": {},
            "source": "## For the \"Median value of owner-occupied homes\" provide a boxplot"
        },
        {
            "cell_type": "code",
            "execution_count": 9,
            "metadata": {
                "scrolled": true
            },
            "outputs": [
                {
                    "data": {
                        "text/plain": "Text(0.5, 1.0, 'Boxplot Median value of owner-occupied homes (MEDV)')"
                    },
                    "execution_count": 9,
                    "metadata": {},
                    "output_type": "execute_result"
                },
                {
                    "data": {
                        "image/png": "[encoded data removed]",
                        "text/plain": "<Figure size 432x288 with 1 Axes>"
                    },
                    "metadata": {
                        "needs_background": "light"
                    },
                    "output_type": "display_data"
                }
            ],
            "source": "ax = sns.boxplot(y='MEDV', data=boston_df)\nplt.title(\"Boxplot Median value of owner-occupied homes (MEDV)\")"
        },
        {
            "cell_type": "markdown",
            "metadata": {},
            "source": "There are outlier shown on the boxplot"
        },
        {
            "cell_type": "markdown",
            "metadata": {},
            "source": "## Provide a  histogram for the Charles river variable"
        },
        {
            "cell_type": "code",
            "execution_count": 10,
            "metadata": {
                "scrolled": true
            },
            "outputs": [
                {
                    "data": {
                        "text/plain": "Text(0.5, 1.0, 'Histogram for the Charles river variable (CHAS)')"
                    },
                    "execution_count": 10,
                    "metadata": {},
                    "output_type": "execute_result"
                },
                {
                    "data": {
                        "image/png": "[encoded data removed]",
                        "text/plain": "<Figure size 432x288 with 1 Axes>"
                    },
                    "metadata": {
                        "needs_background": "light"
                    },
                    "output_type": "display_data"
                }
            ],
            "source": "#sns.catplot(x='CHAS', kind='count', data=boston_df)\nplt.hist(boston_df['CHAS'])\nplt.title(\"Histogram for the Charles river variable (CHAS)\")"
        },
        {
            "cell_type": "markdown",
            "metadata": {},
            "source": "The histogram shown that there are many zero variable of CHAS, which means the tracts don't belong to Charles River"
        },
        {
            "cell_type": "markdown",
            "metadata": {},
            "source": "## Provide a boxplot for the MEDV variable vs the AGE variable."
        },
        {
            "cell_type": "code",
            "execution_count": 11,
            "metadata": {},
            "outputs": [],
            "source": "## (Discretize the age variable into three groups of 35 years and younger, between 35 and 70 years and 70 years and older)\nboston_df.loc[(boston_df['AGE'] <= 35), 'age_group'] = '35 years and younger'\nboston_df.loc[(boston_df['AGE'] > 35)&(boston_df['AGE'] < 70), 'age_group'] = 'between 35 and 70 years'\nboston_df.loc[(boston_df['AGE'] >= 70), 'age_group'] = '70 years and older'"
        },
        {
            "cell_type": "code",
            "execution_count": 12,
            "metadata": {},
            "outputs": [
                {
                    "data": {
                        "text/plain": "Text(0.5, 1.0, 'Boxplot for the MEDV variable vs the AGE variable')"
                    },
                    "execution_count": 12,
                    "metadata": {},
                    "output_type": "execute_result"
                },
                {
                    "data": {
                        "image/png": "[encoded data removed]",
                        "text/plain": "<Figure size 432x288 with 1 Axes>"
                    },
                    "metadata": {
                        "needs_background": "light"
                    },
                    "output_type": "display_data"
                }
            ],
            "source": "ax = sns.boxplot(x=\"MEDV\", y=\"age_group\", data=boston_df)\nplt.title(\"Boxplot for the MEDV variable vs the AGE variable\")"
        },
        {
            "cell_type": "markdown",
            "metadata": {},
            "source": "There are difference MEDV house price range shown on the boxplot. It can be defined that the group age of 23 years and younger has bigger MEDV value of house price"
        },
        {
            "cell_type": "markdown",
            "metadata": {},
            "source": "## Provide a scatter plot to show the relationship between Nitric oxide concentrations and the proportion of non-retail business acres per town. What can you say about the relationship?"
        },
        {
            "cell_type": "code",
            "execution_count": 13,
            "metadata": {},
            "outputs": [
                {
                    "data": {
                        "text/plain": "Text(0.5, 1.0, 'Scatter Plot NOx Concentration vs the proportion of non-retail business acres per town')"
                    },
                    "execution_count": 13,
                    "metadata": {},
                    "output_type": "execute_result"
                },
                {
                    "data": {
                        "image/png": "[encoded data removed]",
                        "text/plain": "<Figure size 432x216 with 1 Axes>"
                    },
                    "metadata": {
                        "needs_background": "light"
                    },
                    "output_type": "display_data"
                }
            ],
            "source": "sns.relplot(x=\"NOX\", y=\"INDUS\" ,\n            data=boston_df, height = 3, aspect = 2)\nplt.title(\"Scatter Plot NOx Concentration vs the proportion of non-retail business acres per town\")"
        },
        {
            "cell_type": "markdown",
            "metadata": {},
            "source": "After the NOX value=0.6, the INDUS tends to be constant, after it goes on an almost linear trend."
        },
        {
            "cell_type": "markdown",
            "metadata": {},
            "source": "## Create a histogram for the pupil to teacher ratio variable"
        },
        {
            "cell_type": "code",
            "execution_count": 14,
            "metadata": {},
            "outputs": [
                {
                    "data": {
                        "text/plain": "Text(0.5, 1.0, 'Histogram for the pupil to teacher ratio variable')"
                    },
                    "execution_count": 14,
                    "metadata": {},
                    "output_type": "execute_result"
                },
                {
                    "data": {
                        "image/png": "[encoded data removed]",
                        "text/plain": "<Figure size 432x288 with 1 Axes>"
                    },
                    "metadata": {
                        "needs_background": "light"
                    },
                    "output_type": "display_data"
                }
            ],
            "source": "plt.hist(boston_df['PTRATIO'])\nplt.title(\"Histogram for the pupil to teacher ratio variable\")"
        },
        {
            "cell_type": "markdown",
            "metadata": {},
            "source": "Pupil to teacher ratio is highest at the range of 20 - 21"
        },
        {
            "cell_type": "markdown",
            "metadata": {},
            "source": "# Task 5: Use the appropriate tests to answer the questions provided."
        },
        {
            "cell_type": "markdown",
            "metadata": {},
            "source": "## 5.1 Is there a significant difference in median value of houses bounded by the Charles river or not? (T-test for independent samples)"
        },
        {
            "cell_type": "markdown",
            "metadata": {},
            "source": "State the hypothesis\n\n-   $H_0: \u00b5_1 = \u00b5_2$ (\"there is no difference in median value of houses bounded by the Charles river\")\n-   $H_1: \u00b5_1 \u2260 \u00b5_2$ (\"there is a difference in median value of houses bounded by the Charles river\")\n"
        },
        {
            "cell_type": "code",
            "execution_count": 15,
            "metadata": {},
            "outputs": [
                {
                    "data": {
                        "text/plain": "[Text(0, 0.5, 'Frequency'), Text(0.5, 0, 'Normal Distribution')]"
                    },
                    "execution_count": 15,
                    "metadata": {},
                    "output_type": "execute_result"
                },
                {
                    "data": {
                        "image/png": "[encoded data removed]",
                        "text/plain": "<Figure size 432x288 with 1 Axes>"
                    },
                    "metadata": {
                        "needs_background": "light"
                    },
                    "output_type": "display_data"
                }
            ],
            "source": "ax = sns.distplot(boston_df['MEDV'],\n                  bins=20,\n                  kde=True,\n                  color='red',\n                  hist_kws={\"linewidth\": 15,'alpha':1})\nax.set(xlabel='Normal Distribution', ylabel='Frequency')\n## we can assume it is normal"
        },
        {
            "cell_type": "markdown",
            "metadata": {},
            "source": " We can use the Levene's Test in Python to check test significance"
        },
        {
            "cell_type": "code",
            "execution_count": 16,
            "metadata": {},
            "outputs": [
                {
                    "data": {
                        "text/plain": "LeveneResult(statistic=8.75190489604598, pvalue=0.003238119367639829)"
                    },
                    "execution_count": 16,
                    "metadata": {},
                    "output_type": "execute_result"
                }
            ],
            "source": "scipy.stats.levene(boston_df[boston_df['CHAS'] == 0]['MEDV'],\n                   boston_df[boston_df['CHAS'] == 1]['MEDV'], center='mean')\n\n# since the p-value is less than 0.05 we can assume inequality of variance"
        },
        {
            "cell_type": "markdown",
            "metadata": {},
            "source": "Use the <code>ttest_ind</code> from the <code>scipy_stats</code> library\n"
        },
        {
            "cell_type": "code",
            "execution_count": 17,
            "metadata": {},
            "outputs": [
                {
                    "data": {
                        "text/plain": "Ttest_indResult(statistic=-3.996437466090509, pvalue=7.390623170519905e-05)"
                    },
                    "execution_count": 17,
                    "metadata": {},
                    "output_type": "execute_result"
                }
            ],
            "source": "scipy.stats.ttest_ind(boston_df[boston_df['CHAS'] == 0] ['MEDV'],\n                   boston_df[boston_df['CHAS'] == 1]['MEDV'], equal_var = True)"
        },
        {
            "cell_type": "markdown",
            "metadata": {},
            "source": "**Conclusion:** Since the p-value is less than alpha value 0.05, we reject the null hypothesis as there is enough proof that there is a statistical difference in median value of houses bounded by the Charles river\n"
        },
        {
            "cell_type": "markdown",
            "metadata": {},
            "source": "## 5.2 Is there a difference in Median values of houses (MEDV) for each proportion of owner occupied units built prior to 1940 (AGE)? (ANOVA)"
        },
        {
            "cell_type": "code",
            "execution_count": 18,
            "metadata": {
                "scrolled": true
            },
            "outputs": [
                {
                    "data": {
                        "text/plain": "100.0    43\n96.0      4\n98.2      4\n95.4      4\n97.9      4\n         ..\n47.6      1\n92.7      1\n13.9      1\n58.4      1\n40.1      1\nName: AGE, Length: 356, dtype: int64"
                    },
                    "execution_count": 18,
                    "metadata": {},
                    "output_type": "execute_result"
                }
            ],
            "source": "boston_df[\"AGE\"].value_counts()"
        },
        {
            "cell_type": "code",
            "execution_count": 19,
            "metadata": {
                "scrolled": true
            },
            "outputs": [
                {
                    "data": {
                        "text/html": "<div>\n<style scoped>\n    .dataframe tbody tr th:only-of-type {\n        vertical-align: middle;\n    }\n\n    .dataframe tbody tr th {\n        vertical-align: top;\n    }\n\n    .dataframe thead th {\n        text-align: right;\n    }\n</style>\n<table border=\"1\" class=\"dataframe\">\n  <thead>\n    <tr style=\"text-align: right;\">\n      <th></th>\n      <th>CRIM</th>\n      <th>ZN</th>\n      <th>INDUS</th>\n      <th>CHAS</th>\n      <th>NOX</th>\n      <th>RM</th>\n      <th>AGE</th>\n      <th>DIS</th>\n      <th>RAD</th>\n      <th>TAX</th>\n      <th>PTRATIO</th>\n      <th>LSTAT</th>\n      <th>MEDV</th>\n      <th>age_group</th>\n    </tr>\n  </thead>\n  <tbody>\n    <tr>\n      <th>0</th>\n      <td>0.00632</td>\n      <td>18.0</td>\n      <td>2.31</td>\n      <td>0.0</td>\n      <td>0.538</td>\n      <td>6.575</td>\n      <td>65.2</td>\n      <td>4.0900</td>\n      <td>1.0</td>\n      <td>296.0</td>\n      <td>15.3</td>\n      <td>4.98</td>\n      <td>24.0</td>\n      <td>between 35 and 70 years</td>\n    </tr>\n    <tr>\n      <th>1</th>\n      <td>0.02731</td>\n      <td>0.0</td>\n      <td>7.07</td>\n      <td>0.0</td>\n      <td>0.469</td>\n      <td>6.421</td>\n      <td>78.9</td>\n      <td>4.9671</td>\n      <td>2.0</td>\n      <td>242.0</td>\n      <td>17.8</td>\n      <td>9.14</td>\n      <td>21.6</td>\n      <td>70 years and older</td>\n    </tr>\n    <tr>\n      <th>2</th>\n      <td>0.02729</td>\n      <td>0.0</td>\n      <td>7.07</td>\n      <td>0.0</td>\n      <td>0.469</td>\n      <td>7.185</td>\n      <td>61.1</td>\n      <td>4.9671</td>\n      <td>2.0</td>\n      <td>242.0</td>\n      <td>17.8</td>\n      <td>4.03</td>\n      <td>34.7</td>\n      <td>between 35 and 70 years</td>\n    </tr>\n    <tr>\n      <th>3</th>\n      <td>0.03237</td>\n      <td>0.0</td>\n      <td>2.18</td>\n      <td>0.0</td>\n      <td>0.458</td>\n      <td>6.998</td>\n      <td>45.8</td>\n      <td>6.0622</td>\n      <td>3.0</td>\n      <td>222.0</td>\n      <td>18.7</td>\n      <td>2.94</td>\n      <td>33.4</td>\n      <td>between 35 and 70 years</td>\n    </tr>\n    <tr>\n      <th>4</th>\n      <td>0.06905</td>\n      <td>0.0</td>\n      <td>2.18</td>\n      <td>0.0</td>\n      <td>0.458</td>\n      <td>7.147</td>\n      <td>54.2</td>\n      <td>6.0622</td>\n      <td>3.0</td>\n      <td>222.0</td>\n      <td>18.7</td>\n      <td>5.33</td>\n      <td>36.2</td>\n      <td>between 35 and 70 years</td>\n    </tr>\n  </tbody>\n</table>\n</div>",
                        "text/plain": "      CRIM    ZN  INDUS  CHAS    NOX     RM   AGE     DIS  RAD    TAX  \\\n0  0.00632  18.0   2.31   0.0  0.538  6.575  65.2  4.0900  1.0  296.0   \n1  0.02731   0.0   7.07   0.0  0.469  6.421  78.9  4.9671  2.0  242.0   \n2  0.02729   0.0   7.07   0.0  0.469  7.185  61.1  4.9671  2.0  242.0   \n3  0.03237   0.0   2.18   0.0  0.458  6.998  45.8  6.0622  3.0  222.0   \n4  0.06905   0.0   2.18   0.0  0.458  7.147  54.2  6.0622  3.0  222.0   \n\n   PTRATIO  LSTAT  MEDV                age_group  \n0     15.3   4.98  24.0  between 35 and 70 years  \n1     17.8   9.14  21.6       70 years and older  \n2     17.8   4.03  34.7  between 35 and 70 years  \n3     18.7   2.94  33.4  between 35 and 70 years  \n4     18.7   5.33  36.2  between 35 and 70 years  "
                    },
                    "execution_count": 19,
                    "metadata": {},
                    "output_type": "execute_result"
                }
            ],
            "source": "## (Discretize the age variable into three groups of 35 years and younger, between 35 and 70 years and 70 years and older)\nboston_df.loc[(boston_df[\"AGE\"] <= 35), 'age_group'] = '35 years and younger'\nboston_df.loc[(boston_df[\"AGE\"] > 35)&(boston_df['AGE'] < 70), 'age_group'] = 'between 35 and 70 years'\nboston_df.loc[(boston_df[\"AGE\"] >= 70), 'age_group'] = '70 years and older'\nboston_df.head()"
        },
        {
            "cell_type": "markdown",
            "metadata": {},
            "source": "State the hypothesis\n\n-   $H_0: \u00b5_1 = \u00b5_2 = \u00b5_3$ (the three population means are equal)\n-   $H_1:$ At least one of the means differ\n\nTest for equality of variance"
        },
        {
            "cell_type": "code",
            "execution_count": 20,
            "metadata": {
                "scrolled": true
            },
            "outputs": [
                {
                    "data": {
                        "text/plain": "LeveneResult(statistic=2.7806200293748304, pvalue=0.06295337343259205)"
                    },
                    "execution_count": 20,
                    "metadata": {},
                    "output_type": "execute_result"
                }
            ],
            "source": "scipy.stats.levene(boston_df[boston_df[\"age_group\"] == '35 years and younger'][\"MEDV\"],\n                  boston_df[boston_df[\"age_group\"] == 'between 35 and 70 years'][\"MEDV\"], \n                  boston_df[boston_df[\"age_group\"] == '70 years and older'][\"MEDV\"], \n                   center='mean')\n# since the p-value is less than 0.05, the variance are not equal, for the purposes of this exercise, we will move along"
        },
        {
            "cell_type": "markdown",
            "metadata": {},
            "source": "First, separate the three samples (one for each job category) into a variable each.\n"
        },
        {
            "cell_type": "code",
            "execution_count": 21,
            "metadata": {},
            "outputs": [],
            "source": "low = boston_df[boston_df[\"age_group\"] == '35 years and younger'][\"MEDV\"]\nmid = boston_df[boston_df[\"age_group\"] == 'between 35 and 70 years'][\"MEDV\"]\nhigh = boston_df[boston_df[\"age_group\"] == '70 years and older'][\"MEDV\"]"
        },
        {
            "cell_type": "markdown",
            "metadata": {},
            "source": "Run the ANOVA"
        },
        {
            "cell_type": "code",
            "execution_count": 22,
            "metadata": {},
            "outputs": [
                {
                    "name": "stdout",
                    "output_type": "stream",
                    "text": "F_Statistic: 36.40764999196599, P-Value: 1.7105011022702984e-15\n"
                }
            ],
            "source": "f_statistic, p_value = scipy.stats.f_oneway(low,mid,high)\nprint(\"F_Statistic: {0}, P-Value: {1}\".format(f_statistic,p_value))"
        },
        {
            "cell_type": "markdown",
            "metadata": {},
            "source": "**Conclusion:** Since the p-value is less than 0.05, we will reject the null hypothesis as there is significant evidence that at least one of the means differ.\n"
        },
        {
            "cell_type": "markdown",
            "metadata": {},
            "source": "## 5.3 Can we conclude that there is no relationship between Nitric oxide concentrations and proportion of non-retail business acres per town? (Pearson Correlation)"
        },
        {
            "cell_type": "markdown",
            "metadata": {},
            "source": "State the hypothesis:\n\n-   $H_0:$ Nitric oxide concentrations is not correlated with proportion of non-retail business acres per town\n-   $H_1:$ Nitric oxide concentrations is correlated with proportion of non-retail business acres per town"
        },
        {
            "cell_type": "markdown",
            "metadata": {},
            "source": "Since they are both continuous variables we can use a pearson correlation test and draw a scatter plot\n"
        },
        {
            "cell_type": "code",
            "execution_count": 23,
            "metadata": {},
            "outputs": [
                {
                    "data": {
                        "text/plain": "(0.763651446920915, 7.913361061239593e-98)"
                    },
                    "execution_count": 23,
                    "metadata": {},
                    "output_type": "execute_result"
                }
            ],
            "source": "scipy.stats.pearsonr(boston_df['NOX'], boston_df['INDUS'])"
        },
        {
            "cell_type": "markdown",
            "metadata": {},
            "source": "**Conclusion:** Since the p-value  (Sig. (2-tailed)  < 0.05, we reject  the Null hypothesis and conclude that there  exists a relationship between  NOX concentration and propotion of non retail business acres per town\n"
        },
        {
            "cell_type": "markdown",
            "metadata": {},
            "source": "## 5.4 What is the impact of an additional weighted distance  to the five Boston employment centres on the median value of owner occupied homes? (Regression analysis)"
        },
        {
            "cell_type": "markdown",
            "metadata": {},
            "source": "Initially, we had used the t-test to test if there was a statistical difference in evaluations for the weighted distance to the five Boston employment, we are now going to use regression. We will state the null hypothesis:\n\n-   $H_0: \u03b21$ = 0 (weighted distance to the five Boston employment centres has no effect on the median value of owner occupied homes)\n-   $H_1: \u03b21$ is not equal to 0 (weighted distance to the five Boston employment centres has an effect on the median value of owner occupied homes)\n"
        },
        {
            "cell_type": "code",
            "execution_count": 24,
            "metadata": {},
            "outputs": [
                {
                    "data": {
                        "text/html": "<table class=\"simpletable\">\n<caption>OLS Regression Results</caption>\n<tr>\n  <th>Dep. Variable:</th>          <td>MEDV</td>       <th>  R-squared:         </th> <td>   0.062</td>\n</tr>\n<tr>\n  <th>Model:</th>                   <td>OLS</td>       <th>  Adj. R-squared:    </th> <td>   0.061</td>\n</tr>\n<tr>\n  <th>Method:</th>             <td>Least Squares</td>  <th>  F-statistic:       </th> <td>   33.58</td>\n</tr>\n<tr>\n  <th>Date:</th>             <td>Thu, 08 Jul 2021</td> <th>  Prob (F-statistic):</th> <td>1.21e-08</td>\n</tr>\n<tr>\n  <th>Time:</th>                 <td>14:52:43</td>     <th>  Log-Likelihood:    </th> <td> -1823.9</td>\n</tr>\n<tr>\n  <th>No. Observations:</th>      <td>   506</td>      <th>  AIC:               </th> <td>   3652.</td>\n</tr>\n<tr>\n  <th>Df Residuals:</th>          <td>   504</td>      <th>  BIC:               </th> <td>   3660.</td>\n</tr>\n<tr>\n  <th>Df Model:</th>              <td>     1</td>      <th>                     </th>     <td> </td>   \n</tr>\n<tr>\n  <th>Covariance Type:</th>      <td>nonrobust</td>    <th>                     </th>     <td> </td>   \n</tr>\n</table>\n<table class=\"simpletable\">\n<tr>\n    <td></td>       <th>coef</th>     <th>std err</th>      <th>t</th>      <th>P>|t|</th>  <th>[0.025</th>    <th>0.975]</th>  \n</tr>\n<tr>\n  <th>const</th> <td>   18.3901</td> <td>    0.817</td> <td>   22.499</td> <td> 0.000</td> <td>   16.784</td> <td>   19.996</td>\n</tr>\n<tr>\n  <th>DIS</th>   <td>    1.0916</td> <td>    0.188</td> <td>    5.795</td> <td> 0.000</td> <td>    0.722</td> <td>    1.462</td>\n</tr>\n</table>\n<table class=\"simpletable\">\n<tr>\n  <th>Omnibus:</th>       <td>139.779</td> <th>  Durbin-Watson:     </th> <td>   0.570</td>\n</tr>\n<tr>\n  <th>Prob(Omnibus):</th> <td> 0.000</td>  <th>  Jarque-Bera (JB):  </th> <td> 305.104</td>\n</tr>\n<tr>\n  <th>Skew:</th>          <td> 1.466</td>  <th>  Prob(JB):          </th> <td>5.59e-67</td>\n</tr>\n<tr>\n  <th>Kurtosis:</th>      <td> 5.424</td>  <th>  Cond. No.          </th> <td>    9.32</td>\n</tr>\n</table><br/><br/>Warnings:<br/>[1] Standard Errors assume that the covariance matrix of the errors is correctly specified.",
                        "text/plain": "<class 'statsmodels.iolib.summary.Summary'>\n\"\"\"\n                            OLS Regression Results                            \n==============================================================================\nDep. Variable:                   MEDV   R-squared:                       0.062\nModel:                            OLS   Adj. R-squared:                  0.061\nMethod:                 Least Squares   F-statistic:                     33.58\nDate:                Thu, 08 Jul 2021   Prob (F-statistic):           1.21e-08\nTime:                        14:52:43   Log-Likelihood:                -1823.9\nNo. Observations:                 506   AIC:                             3652.\nDf Residuals:                     504   BIC:                             3660.\nDf Model:                           1                                         \nCovariance Type:            nonrobust                                         \n==============================================================================\n                 coef    std err          t      P>|t|      [0.025      0.975]\n------------------------------------------------------------------------------\nconst         18.3901      0.817     22.499      0.000      16.784      19.996\nDIS            1.0916      0.188      5.795      0.000       0.722       1.462\n==============================================================================\nOmnibus:                      139.779   Durbin-Watson:                   0.570\nProb(Omnibus):                  0.000   Jarque-Bera (JB):              305.104\nSkew:                           1.466   Prob(JB):                     5.59e-67\nKurtosis:                       5.424   Cond. No.                         9.32\n==============================================================================\n\nWarnings:\n[1] Standard Errors assume that the covariance matrix of the errors is correctly specified.\n\"\"\""
                    },
                    "execution_count": 24,
                    "metadata": {},
                    "output_type": "execute_result"
                }
            ],
            "source": "## X is the input variables (or independent variables)\nX = boston_df['DIS']\n## y is the target/dependent variable\ny = boston_df['MEDV']\n## add an intercept (beta_0) to our model\nX = sm.add_constant(X) \n\nmodel = sm.OLS(y, X).fit()\npredictions = model.predict(X)\n\n# Print out the statistics\nmodel.summary()"
        },
        {
            "cell_type": "code",
            "execution_count": 25,
            "metadata": {},
            "outputs": [
                {
                    "data": {
                        "text/plain": "0.24899799195977465"
                    },
                    "execution_count": 25,
                    "metadata": {},
                    "output_type": "execute_result"
                }
            ],
            "source": "np.sqrt(0.062)"
        },
        {
            "cell_type": "markdown",
            "metadata": {},
            "source": "**Conclusion:** Like the t-test, the p-value is less than the alpha (\u03b1) level = 0.05, so we reject the null hypothesis as there is evidence that there is a difference in mean evaluation scores based on gender. The coefficient 1.0916 means that the distance get 0.168 values MEDV.\nThe R-squared 0.062 below the 1 and the square root is 0.248 (close to 0), which mean the DIS and MEDV has extremely **weak correlation.**"
        }
    ],
    "metadata": {
        "kernelspec": {
            "display_name": "Python 3.7",
            "language": "python",
            "name": "python3"
        },
        "language_info": {
            "codemirror_mode": {
                "name": "ipython",
                "version": 3
            },
            "file_extension": ".py",
            "mimetype": "text/x-python",
            "name": "python",
            "nbconvert_exporter": "python",
            "pygments_lexer": "ipython3",
            "version": "3.7.10"
        }
    },
    "nbformat": 4,
    "nbformat_minor": 1
}