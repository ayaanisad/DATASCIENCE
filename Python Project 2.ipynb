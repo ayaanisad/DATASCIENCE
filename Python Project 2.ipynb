{
    "cells": [
        {
            "cell_type": "markdown",
            "id": "pdLY9fdGKPEV",
            "metadata": {
                "id": "pdLY9fdGKPEV"
            },
            "source": "# **ASSIGNMENT 2nd MENTORING 25-6-2021**\n## Created by: \n## *AYA ANISA DWINIDASARI - 970038 - NO ABSEN 10*"
        },
        {
            "cell_type": "markdown",
            "id": "2fa52f1d",
            "metadata": {
                "id": "2fa52f1d"
            },
            "source": "## Variable Expression"
        },
        {
            "cell_type": "code",
            "execution_count": null,
            "id": "9542a372",
            "metadata": {
                "colab": {
                    "base_uri": "https://localhost:8080/"
                },
                "id": "9542a372",
                "outputId": "30646fcf-34c6-4ffa-9598-2d8c4cb4ad33"
            },
            "outputs": [
                {
                    "data": {
                        "text/plain": "int"
                    },
                    "execution_count": 61,
                    "metadata": {
                        "tags": []
                    },
                    "output_type": "execute_result"
                }
            ],
            "source": "A = 10\ntype(A)"
        },
        {
            "cell_type": "code",
            "execution_count": null,
            "id": "6a5ae802",
            "metadata": {
                "colab": {
                    "base_uri": "https://localhost:8080/"
                },
                "id": "6a5ae802",
                "outputId": "cc99f1c1-4a12-4e5c-c1e4-d9b58b9264c4"
            },
            "outputs": [
                {
                    "data": {
                        "text/plain": "float"
                    },
                    "execution_count": 62,
                    "metadata": {
                        "tags": []
                    },
                    "output_type": "execute_result"
                }
            ],
            "source": "B = 10.0\ntype(B)"
        },
        {
            "cell_type": "code",
            "execution_count": null,
            "id": "f18134de",
            "metadata": {
                "colab": {
                    "base_uri": "https://localhost:8080/"
                },
                "id": "f18134de",
                "outputId": "8e07e9da-7018-4736-e411-5427ced5cf0c"
            },
            "outputs": [
                {
                    "data": {
                        "text/plain": "str"
                    },
                    "execution_count": 63,
                    "metadata": {
                        "tags": []
                    },
                    "output_type": "execute_result"
                }
            ],
            "source": "C = \"Hello World\"\ntype(C)"
        },
        {
            "cell_type": "code",
            "execution_count": null,
            "id": "1db8d5ec",
            "metadata": {
                "colab": {
                    "base_uri": "https://localhost:8080/"
                },
                "id": "1db8d5ec",
                "outputId": "fc604f8d-181c-4459-c21d-79e7b712bd8c"
            },
            "outputs": [
                {
                    "data": {
                        "text/plain": "bool"
                    },
                    "execution_count": 64,
                    "metadata": {
                        "tags": []
                    },
                    "output_type": "execute_result"
                }
            ],
            "source": "D = True\ntype(D)"
        },
        {
            "cell_type": "code",
            "execution_count": null,
            "id": "a711ce9e",
            "metadata": {
                "colab": {
                    "base_uri": "https://localhost:8080/"
                },
                "id": "a711ce9e",
                "outputId": "c6389bd4-ca0b-42ee-e117-bf192a70d86b"
            },
            "outputs": [
                {
                    "data": {
                        "text/plain": "2"
                    },
                    "execution_count": 65,
                    "metadata": {
                        "tags": []
                    },
                    "output_type": "execute_result"
                }
            ],
            "source": "11//4"
        },
        {
            "cell_type": "code",
            "execution_count": null,
            "id": "36b5d1d3",
            "metadata": {
                "colab": {
                    "base_uri": "https://localhost:8080/"
                },
                "id": "36b5d1d3",
                "outputId": "e0dfd9bb-8b5f-47c3-ca18-ee01d8d9c27b"
            },
            "outputs": [
                {
                    "data": {
                        "text/plain": "3"
                    },
                    "execution_count": 66,
                    "metadata": {
                        "tags": []
                    },
                    "output_type": "execute_result"
                }
            ],
            "source": "11%4"
        },
        {
            "cell_type": "markdown",
            "id": "ef8fa368",
            "metadata": {
                "id": "ef8fa368"
            },
            "source": "## String Operation"
        },
        {
            "cell_type": "code",
            "execution_count": null,
            "id": "1d175da3",
            "metadata": {
                "colab": {
                    "base_uri": "https://localhost:8080/"
                },
                "id": "1d175da3",
                "outputId": "f030abba-d087-4fbf-ad4b-ec3ad33ac8dc"
            },
            "outputs": [
                {
                    "data": {
                        "text/plain": "str"
                    },
                    "execution_count": 242,
                    "metadata": {
                        "tags": []
                    },
                    "output_type": "execute_result"
                }
            ],
            "source": "name = \"Michael Jackson\"\ntype(name)"
        },
        {
            "cell_type": "code",
            "execution_count": null,
            "id": "e4629a0a",
            "metadata": {
                "colab": {
                    "base_uri": "https://localhost:8080/",
                    "height": 35
                },
                "id": "e4629a0a",
                "outputId": "25fafd9a-4e67-44fb-952a-0e6dad2d2c18"
            },
            "outputs": [
                {
                    "data": {
                        "application/vnd.google.colaboratory.intrinsic+json": {
                            "type": "string"
                        },
                        "text/plain": "'M'"
                    },
                    "execution_count": 243,
                    "metadata": {
                        "tags": []
                    },
                    "output_type": "execute_result"
                }
            ],
            "source": "name[0]"
        },
        {
            "cell_type": "code",
            "execution_count": null,
            "id": "_A8LmuTXB4U0",
            "metadata": {
                "colab": {
                    "base_uri": "https://localhost:8080/",
                    "height": 35
                },
                "id": "_A8LmuTXB4U0",
                "outputId": "1a25d8d5-bd4d-4710-f95e-ceaab3fc6761"
            },
            "outputs": [
                {
                    "data": {
                        "application/vnd.google.colaboratory.intrinsic+json": {
                            "type": "string"
                        },
                        "text/plain": "'s'"
                    },
                    "execution_count": 244,
                    "metadata": {
                        "tags": []
                    },
                    "output_type": "execute_result"
                }
            ],
            "source": "name[-3]"
        },
        {
            "cell_type": "code",
            "execution_count": null,
            "id": "1FjkWfUXCQ5G",
            "metadata": {
                "colab": {
                    "base_uri": "https://localhost:8080/",
                    "height": 35
                },
                "id": "1FjkWfUXCQ5G",
                "outputId": "794016b5-ee8e-497d-e7d0-2c93fabca257"
            },
            "outputs": [
                {
                    "data": {
                        "application/vnd.google.colaboratory.intrinsic+json": {
                            "type": "string"
                        },
                        "text/plain": "'Mich'"
                    },
                    "execution_count": 245,
                    "metadata": {
                        "tags": []
                    },
                    "output_type": "execute_result"
                }
            ],
            "source": "name[0:4]"
        },
        {
            "cell_type": "code",
            "execution_count": null,
            "id": "34f5b3c3",
            "metadata": {
                "colab": {
                    "base_uri": "https://localhost:8080/",
                    "height": 35
                },
                "id": "34f5b3c3",
                "outputId": "58184283-d368-4211-e116-5e081be5a898"
            },
            "outputs": [
                {
                    "data": {
                        "application/vnd.google.colaboratory.intrinsic+json": {
                            "type": "string"
                        },
                        "text/plain": "'McalJcsn'"
                    },
                    "execution_count": 68,
                    "metadata": {
                        "tags": []
                    },
                    "output_type": "execute_result"
                }
            ],
            "source": "name[::2]"
        },
        {
            "cell_type": "code",
            "execution_count": null,
            "id": "PIktH5HiCQzM",
            "metadata": {
                "colab": {
                    "base_uri": "https://localhost:8080/"
                },
                "id": "PIktH5HiCQzM",
                "outputId": "2c4bd3e7-41cd-477c-b346-19b3ed1de37f"
            },
            "outputs": [
                {
                    "data": {
                        "text/plain": "15"
                    },
                    "execution_count": 246,
                    "metadata": {
                        "tags": []
                    },
                    "output_type": "execute_result"
                }
            ],
            "source": "len(name)"
        },
        {
            "cell_type": "code",
            "execution_count": null,
            "id": "BErmGkhnCQux",
            "metadata": {
                "colab": {
                    "base_uri": "https://localhost:8080/",
                    "height": 35
                },
                "id": "BErmGkhnCQux",
                "outputId": "f38982c8-b2b7-4719-81d9-717d9416e170"
            },
            "outputs": [
                {
                    "data": {
                        "application/vnd.google.colaboratory.intrinsic+json": {
                            "type": "string"
                        },
                        "text/plain": "'Michael Jackson is a singer'"
                    },
                    "execution_count": 248,
                    "metadata": {
                        "tags": []
                    },
                    "output_type": "execute_result"
                }
            ],
            "source": "name + \" is a singer\""
        },
        {
            "cell_type": "code",
            "execution_count": null,
            "id": "114eb0bb",
            "metadata": {
                "colab": {
                    "base_uri": "https://localhost:8080/",
                    "height": 35
                },
                "id": "114eb0bb",
                "outputId": "60f204a1-b8c3-44f0-d96e-2112c2129a70"
            },
            "outputs": [
                {
                    "data": {
                        "application/vnd.google.colaboratory.intrinsic+json": {
                            "type": "string"
                        },
                        "text/plain": "'Michael JacksonMichael Jackson'"
                    },
                    "execution_count": 249,
                    "metadata": {
                        "tags": []
                    },
                    "output_type": "execute_result"
                }
            ],
            "source": "2 * name"
        },
        {
            "cell_type": "code",
            "execution_count": null,
            "id": "ef96fbba",
            "metadata": {
                "colab": {
                    "base_uri": "https://localhost:8080/"
                },
                "id": "ef96fbba",
                "outputId": "5dd02906-4a93-4a15-9716-51aaec9c47ff"
            },
            "outputs": [
                {
                    "name": "stdout",
                    "output_type": "stream",
                    "text": "Michael Jackson \t is a singer\n"
                }
            ],
            "source": "print('Michael Jackson \\t is a singer')"
        },
        {
            "cell_type": "code",
            "execution_count": null,
            "id": "ZPGRROTiC5AE",
            "metadata": {
                "colab": {
                    "base_uri": "https://localhost:8080/"
                },
                "id": "ZPGRROTiC5AE",
                "outputId": "1b63f312-8637-489e-e525-f1303f334c76"
            },
            "outputs": [
                {
                    "name": "stdout",
                    "output_type": "stream",
                    "text": "Michael Jackson \n is a singer\n"
                }
            ],
            "source": "print('Michael Jackson \\n is a singer')"
        },
        {
            "cell_type": "code",
            "execution_count": null,
            "id": "wfm7ZP6_C480",
            "metadata": {
                "colab": {
                    "base_uri": "https://localhost:8080/",
                    "height": 35
                },
                "id": "wfm7ZP6_C480",
                "outputId": "20027707-95de-42e9-d612-83595266ab02"
            },
            "outputs": [
                {
                    "data": {
                        "application/vnd.google.colaboratory.intrinsic+json": {
                            "type": "string"
                        },
                        "text/plain": "'MICHAEL JACKSON'"
                    },
                    "execution_count": 253,
                    "metadata": {
                        "tags": []
                    },
                    "output_type": "execute_result"
                }
            ],
            "source": "name.upper()"
        },
        {
            "cell_type": "code",
            "execution_count": null,
            "id": "q0Bz7zdzC45q",
            "metadata": {
                "colab": {
                    "base_uri": "https://localhost:8080/",
                    "height": 35
                },
                "id": "q0Bz7zdzC45q",
                "outputId": "53780688-0e57-4c68-e667-b7d60c7f0d61"
            },
            "outputs": [
                {
                    "data": {
                        "application/vnd.google.colaboratory.intrinsic+json": {
                            "type": "string"
                        },
                        "text/plain": "'michael jackson'"
                    },
                    "execution_count": 255,
                    "metadata": {
                        "tags": []
                    },
                    "output_type": "execute_result"
                }
            ],
            "source": "name.lower()"
        },
        {
            "cell_type": "code",
            "execution_count": null,
            "id": "wnCi-wdIC42K",
            "metadata": {
                "colab": {
                    "base_uri": "https://localhost:8080/",
                    "height": 35
                },
                "id": "wnCi-wdIC42K",
                "outputId": "0dcc34ae-98fe-4706-e472-8bc74829d2f4"
            },
            "outputs": [
                {
                    "data": {
                        "application/vnd.google.colaboratory.intrinsic+json": {
                            "type": "string"
                        },
                        "text/plain": "'Michael-Jackson'"
                    },
                    "execution_count": 256,
                    "metadata": {
                        "tags": []
                    },
                    "output_type": "execute_result"
                }
            ],
            "source": "name.replace(\" \",\"-\")"
        },
        {
            "cell_type": "code",
            "execution_count": null,
            "id": "-oQ1LZJpC4yy",
            "metadata": {
                "colab": {
                    "base_uri": "https://localhost:8080/"
                },
                "id": "-oQ1LZJpC4yy",
                "outputId": "7cc0ac04-ea91-4018-d598-a1d39309b7bc"
            },
            "outputs": [
                {
                    "data": {
                        "text/plain": "8"
                    },
                    "execution_count": 257,
                    "metadata": {
                        "tags": []
                    },
                    "output_type": "execute_result"
                }
            ],
            "source": "name.find(\"Jack\")"
        },
        {
            "cell_type": "code",
            "execution_count": null,
            "id": "a3c2ac1c",
            "metadata": {
                "colab": {
                    "base_uri": "https://localhost:8080/"
                },
                "id": "a3c2ac1c",
                "outputId": "7ec5366f-4bd8-4230-92e3-ea06a7d7b326"
            },
            "outputs": [
                {
                    "data": {
                        "text/plain": "['Michael', 'Jackson']"
                    },
                    "execution_count": 258,
                    "metadata": {
                        "tags": []
                    },
                    "output_type": "execute_result"
                }
            ],
            "source": "name.split()"
        },
        {
            "cell_type": "markdown",
            "id": "524e6ef4",
            "metadata": {
                "id": "524e6ef4"
            },
            "source": "## List"
        },
        {
            "cell_type": "code",
            "execution_count": null,
            "id": "7a4cfae6",
            "metadata": {
                "id": "7a4cfae6"
            },
            "outputs": [],
            "source": "L = [4, 3, 2, 1, 3, 5]"
        },
        {
            "cell_type": "code",
            "execution_count": null,
            "id": "1bcc22c4",
            "metadata": {
                "colab": {
                    "base_uri": "https://localhost:8080/"
                },
                "id": "1bcc22c4",
                "outputId": "b4f10955-3694-4c7b-d656-32c78ccb5485"
            },
            "outputs": [
                {
                    "data": {
                        "text/plain": "2"
                    },
                    "execution_count": 285,
                    "metadata": {
                        "tags": []
                    },
                    "output_type": "execute_result"
                }
            ],
            "source": "L[2]"
        },
        {
            "cell_type": "code",
            "execution_count": null,
            "id": "1787a5df",
            "metadata": {
                "colab": {
                    "base_uri": "https://localhost:8080/"
                },
                "id": "1787a5df",
                "outputId": "25af4b15-b3e0-4130-ab5f-946ae3cf8936"
            },
            "outputs": [
                {
                    "data": {
                        "text/plain": "6"
                    },
                    "execution_count": 286,
                    "metadata": {
                        "tags": []
                    },
                    "output_type": "execute_result"
                }
            ],
            "source": "len(L)"
        },
        {
            "cell_type": "code",
            "execution_count": null,
            "id": "20444356",
            "metadata": {
                "colab": {
                    "base_uri": "https://localhost:8080/"
                },
                "id": "20444356",
                "outputId": "832296b4-bd78-482c-b116-7c53b0873285"
            },
            "outputs": [
                {
                    "data": {
                        "text/plain": "[1, 2, 3, 3, 4, 5]"
                    },
                    "execution_count": 287,
                    "metadata": {
                        "tags": []
                    },
                    "output_type": "execute_result"
                }
            ],
            "source": "sorted(L)"
        },
        {
            "cell_type": "code",
            "execution_count": null,
            "id": "42e1c621",
            "metadata": {
                "id": "42e1c621"
            },
            "outputs": [],
            "source": "L.append([10, 11, 12, 13])"
        },
        {
            "cell_type": "code",
            "execution_count": null,
            "id": "8a06db42",
            "metadata": {
                "colab": {
                    "base_uri": "https://localhost:8080/"
                },
                "id": "8a06db42",
                "outputId": "d66c0cec-5eb4-476d-b348-efa140a65e14"
            },
            "outputs": [
                {
                    "name": "stdout",
                    "output_type": "stream",
                    "text": "[4, 3, 2, 1, 3, 5, [10, 11, 12, 13]]\n"
                }
            ],
            "source": "print(L)"
        },
        {
            "cell_type": "code",
            "execution_count": null,
            "id": "57ed1ead",
            "metadata": {
                "colab": {
                    "base_uri": "https://localhost:8080/"
                },
                "id": "57ed1ead",
                "outputId": "89219af8-d7e8-471a-8971-c58a5d34b5c8"
            },
            "outputs": [
                {
                    "data": {
                        "text/plain": "[10, 11, 12, 13]"
                    },
                    "execution_count": 290,
                    "metadata": {
                        "tags": []
                    },
                    "output_type": "execute_result"
                }
            ],
            "source": "L[6]"
        },
        {
            "cell_type": "code",
            "execution_count": null,
            "id": "b06b2769",
            "metadata": {
                "colab": {
                    "base_uri": "https://localhost:8080/"
                },
                "id": "b06b2769",
                "outputId": "02164e9c-2d91-4274-d182-54f780729f97"
            },
            "outputs": [
                {
                    "name": "stdout",
                    "output_type": "stream",
                    "text": "[4, 3, 2, 1, 3, 5]\n"
                }
            ],
            "source": "del(L[6])\nprint(L)"
        },
        {
            "cell_type": "code",
            "execution_count": null,
            "id": "01d764df",
            "metadata": {
                "colab": {
                    "base_uri": "https://localhost:8080/"
                },
                "id": "01d764df",
                "outputId": "19476c5f-44f1-4673-ab37-9127f13eb739"
            },
            "outputs": [
                {
                    "name": "stdout",
                    "output_type": "stream",
                    "text": "[4, 3, 2, 1, 3, 5, 11, 12]\n"
                }
            ],
            "source": "L.extend([11,12])\nprint(L)"
        },
        {
            "cell_type": "code",
            "execution_count": null,
            "id": "a963d5e9",
            "metadata": {
                "colab": {
                    "base_uri": "https://localhost:8080/"
                },
                "id": "a963d5e9",
                "outputId": "13f0e2b4-ca88-4f7b-8a56-b8ebaa62f61f"
            },
            "outputs": [
                {
                    "name": "stdout",
                    "output_type": "stream",
                    "text": "[4, 2, 1, 3, 5, 11, 12]\n"
                }
            ],
            "source": "L.remove(3)\nprint(L)"
        },
        {
            "cell_type": "code",
            "execution_count": null,
            "id": "_cqAC6nzEc64",
            "metadata": {
                "colab": {
                    "base_uri": "https://localhost:8080/"
                },
                "id": "_cqAC6nzEc64",
                "outputId": "7e1103c1-fd02-495a-c9e3-bed7c0fc66bc"
            },
            "outputs": [
                {
                    "name": "stdout",
                    "output_type": "stream",
                    "text": "[]\n"
                }
            ],
            "source": "L.clear()\nprint(L)"
        },
        {
            "cell_type": "code",
            "execution_count": null,
            "id": "KmxdAu1SEhfj",
            "metadata": {
                "colab": {
                    "base_uri": "https://localhost:8080/"
                },
                "id": "KmxdAu1SEhfj",
                "outputId": "e71b0d64-7ea9-4f17-94b4-598f128a8c7b"
            },
            "outputs": [
                {
                    "name": "stdout",
                    "output_type": "stream",
                    "text": "[[1, 2, 3]]\n"
                }
            ],
            "source": "L.append([1,2,3])\nprint(L)"
        },
        {
            "cell_type": "code",
            "execution_count": null,
            "id": "htQ_8BIrFIDf",
            "metadata": {
                "colab": {
                    "base_uri": "https://localhost:8080/"
                },
                "id": "htQ_8BIrFIDf",
                "outputId": "90bef01d-d855-4ea6-9509-ba610e261d92"
            },
            "outputs": [
                {
                    "name": "stdout",
                    "output_type": "stream",
                    "text": "[[1, 2, 3]]\n"
                }
            ],
            "source": "L.reverse()\nprint(L)"
        },
        {
            "cell_type": "markdown",
            "id": "49a700b4",
            "metadata": {
                "id": "49a700b4"
            },
            "source": "## Tuple"
        },
        {
            "cell_type": "code",
            "execution_count": null,
            "id": "6d43e0e5",
            "metadata": {
                "colab": {
                    "base_uri": "https://localhost:8080/"
                },
                "id": "6d43e0e5",
                "outputId": "bc5a6222-41d2-44f4-c155-0a379b430dd7"
            },
            "outputs": [
                {
                    "data": {
                        "text/plain": "tuple"
                    },
                    "execution_count": 78,
                    "metadata": {
                        "tags": []
                    },
                    "output_type": "execute_result"
                }
            ],
            "source": "T = (4, 3, 2, 1 ,5)\ntype(T)"
        },
        {
            "cell_type": "code",
            "execution_count": null,
            "id": "64d6531c",
            "metadata": {
                "colab": {
                    "base_uri": "https://localhost:8080/"
                },
                "id": "64d6531c",
                "outputId": "45d59998-d80e-4a5b-af1a-6a46e813a3ea"
            },
            "outputs": [
                {
                    "data": {
                        "text/plain": "(4, 3, 2, 1)"
                    },
                    "execution_count": 79,
                    "metadata": {
                        "tags": []
                    },
                    "output_type": "execute_result"
                }
            ],
            "source": "T[0:4]"
        },
        {
            "cell_type": "code",
            "execution_count": null,
            "id": "122e4831",
            "metadata": {
                "colab": {
                    "base_uri": "https://localhost:8080/",
                    "height": 163
                },
                "id": "122e4831",
                "outputId": "dd850141-2b20-4504-8c9e-5d45bb38d497"
            },
            "outputs": [
                {
                    "ename": "TypeError",
                    "evalue": "ignored",
                    "output_type": "error",
                    "traceback": [
                        "\u001b[0;31m---------------------------------------------------------------------------\u001b[0m",
                        "\u001b[0;31mTypeError\u001b[0m                                 Traceback (most recent call last)",
                        "\u001b[0;32m<ipython-input-80-8c85297f62ec>\u001b[0m in \u001b[0;36m<module>\u001b[0;34m()\u001b[0m\n\u001b[0;32m----> 1\u001b[0;31m \u001b[0;32mdel\u001b[0m\u001b[0;34m(\u001b[0m\u001b[0mT\u001b[0m\u001b[0;34m[\u001b[0m\u001b[0;36m0\u001b[0m\u001b[0;34m]\u001b[0m\u001b[0;34m)\u001b[0m\u001b[0;34m\u001b[0m\u001b[0;34m\u001b[0m\u001b[0m\n\u001b[0m",
                        "\u001b[0;31mTypeError\u001b[0m: 'tuple' object doesn't support item deletion"
                    ]
                }
            ],
            "source": "del(T[0])"
        },
        {
            "cell_type": "code",
            "execution_count": null,
            "id": "2c057f6e",
            "metadata": {
                "colab": {
                    "base_uri": "https://localhost:8080/",
                    "height": 163
                },
                "id": "2c057f6e",
                "outputId": "c6511371-1f9e-42f8-bb96-35782e776f1f"
            },
            "outputs": [
                {
                    "ename": "AttributeError",
                    "evalue": "ignored",
                    "output_type": "error",
                    "traceback": [
                        "\u001b[0;31m---------------------------------------------------------------------------\u001b[0m",
                        "\u001b[0;31mAttributeError\u001b[0m                            Traceback (most recent call last)",
                        "\u001b[0;32m<ipython-input-297-0e82b784fead>\u001b[0m in \u001b[0;36m<module>\u001b[0;34m()\u001b[0m\n\u001b[0;32m----> 1\u001b[0;31m \u001b[0mT\u001b[0m\u001b[0;34m.\u001b[0m\u001b[0mappend\u001b[0m\u001b[0;34m(\u001b[0m\u001b[0;34m\"10\"\u001b[0m\u001b[0;34m)\u001b[0m\u001b[0;34m\u001b[0m\u001b[0;34m\u001b[0m\u001b[0m\n\u001b[0m",
                        "\u001b[0;31mAttributeError\u001b[0m: 'tuple' object has no attribute 'append'"
                    ]
                }
            ],
            "source": "T.append(\"10\")"
        },
        {
            "cell_type": "markdown",
            "id": "ef335cf3",
            "metadata": {
                "id": "ef335cf3"
            },
            "source": "## Dictionary"
        },
        {
            "cell_type": "code",
            "execution_count": null,
            "id": "88fd1bd5",
            "metadata": {
                "id": "88fd1bd5"
            },
            "outputs": [],
            "source": "D1 = {}"
        },
        {
            "cell_type": "code",
            "execution_count": null,
            "id": "94de6ce1",
            "metadata": {
                "colab": {
                    "base_uri": "https://localhost:8080/"
                },
                "id": "94de6ce1",
                "outputId": "a3fae78f-4f53-4559-d71b-ff7e3fb0abff"
            },
            "outputs": [
                {
                    "data": {
                        "text/plain": "dict"
                    },
                    "execution_count": 309,
                    "metadata": {
                        "tags": []
                    },
                    "output_type": "execute_result"
                }
            ],
            "source": "type(D1)"
        },
        {
            "cell_type": "code",
            "execution_count": null,
            "id": "1a2575b0",
            "metadata": {
                "id": "1a2575b0"
            },
            "outputs": [],
            "source": "D1[\"key1\"] = \"Math\"\nD1[\"key2\"] = \"Physics\"\nD1[\"key3\"] = \"Biology\""
        },
        {
            "cell_type": "code",
            "execution_count": null,
            "id": "1e47c3f2",
            "metadata": {
                "colab": {
                    "base_uri": "https://localhost:8080/"
                },
                "id": "1e47c3f2",
                "outputId": "e2fbccd7-53ca-4c30-c738-f31ef0aedfdd"
            },
            "outputs": [
                {
                    "name": "stdout",
                    "output_type": "stream",
                    "text": "{'key1': 'Math', 'key2': 'Physics', 'key3': 'Biology'}\n"
                }
            ],
            "source": "print(D1)"
        },
        {
            "cell_type": "code",
            "execution_count": null,
            "id": "ad712771",
            "metadata": {
                "id": "ad712771"
            },
            "outputs": [],
            "source": "D1 = {'key1': 'Math', 'key2': 'Physics', 'key3': 'Biology', 'Key4' : 'Art'}"
        },
        {
            "cell_type": "code",
            "execution_count": null,
            "id": "f5b99acb",
            "metadata": {
                "colab": {
                    "base_uri": "https://localhost:8080/"
                },
                "id": "f5b99acb",
                "outputId": "b5ba05bc-b6a0-4946-e071-fabe567a83ca"
            },
            "outputs": [
                {
                    "name": "stdout",
                    "output_type": "stream",
                    "text": "{'key1': 'Math', 'key2': 'Physics', 'key3': 'Biology', 'Key4': 'Art'}\n"
                }
            ],
            "source": "print(D1)"
        },
        {
            "cell_type": "code",
            "execution_count": null,
            "id": "70e25957",
            "metadata": {
                "colab": {
                    "base_uri": "https://localhost:8080/"
                },
                "id": "70e25957",
                "outputId": "c6acbafe-83b5-42f2-af90-bafbebd3dff8"
            },
            "outputs": [
                {
                    "data": {
                        "text/plain": "4"
                    },
                    "execution_count": 314,
                    "metadata": {
                        "tags": []
                    },
                    "output_type": "execute_result"
                }
            ],
            "source": "len(D1)"
        },
        {
            "cell_type": "code",
            "execution_count": null,
            "id": "0d385136",
            "metadata": {
                "colab": {
                    "base_uri": "https://localhost:8080/"
                },
                "id": "0d385136",
                "outputId": "5bc6318a-cf48-4f15-bf0c-a0ab0ec2f7db"
            },
            "outputs": [
                {
                    "name": "stdout",
                    "output_type": "stream",
                    "text": "{'key1': 'Math', 'key2': 'Physics', 'key3': 'Biology'}\n"
                }
            ],
            "source": "del(D1[\"Key4\"])\nprint(D1)"
        },
        {
            "cell_type": "code",
            "execution_count": null,
            "id": "bcfd4ea9",
            "metadata": {
                "id": "bcfd4ea9"
            },
            "outputs": [],
            "source": "D2 = {'Key5': 'Music'}"
        },
        {
            "cell_type": "code",
            "execution_count": null,
            "id": "823dfee0",
            "metadata": {
                "colab": {
                    "base_uri": "https://localhost:8080/"
                },
                "id": "823dfee0",
                "outputId": "ec08a4a0-3b46-447c-eea1-6adcf19ebfe9"
            },
            "outputs": [
                {
                    "name": "stdout",
                    "output_type": "stream",
                    "text": "{'key1': 'Math', 'key2': 'Physics', 'key3': 'Biology', 'Key5': 'Music'}\n"
                }
            ],
            "source": "D1.update(D2)\nprint(D1)"
        },
        {
            "cell_type": "code",
            "execution_count": null,
            "id": "b3e37482",
            "metadata": {
                "colab": {
                    "base_uri": "https://localhost:8080/"
                },
                "id": "b3e37482",
                "outputId": "de602feb-df4c-44f0-cba5-a23730e08a71"
            },
            "outputs": [
                {
                    "data": {
                        "text/plain": "{'Key5': 'Music', 'key1': 'Math', 'key2': 'Physics', 'key3': 'Biology'}"
                    },
                    "execution_count": 319,
                    "metadata": {
                        "tags": []
                    },
                    "output_type": "execute_result"
                }
            ],
            "source": "D1.copy()"
        },
        {
            "cell_type": "code",
            "execution_count": null,
            "id": "qnrZSBpzGUYy",
            "metadata": {
                "colab": {
                    "base_uri": "https://localhost:8080/"
                },
                "id": "qnrZSBpzGUYy",
                "outputId": "7776bf94-2190-4d76-80d9-d0500aadebf0"
            },
            "outputs": [
                {
                    "name": "stdout",
                    "output_type": "stream",
                    "text": "{}\n"
                }
            ],
            "source": "D1.clear()\nprint(D1)"
        },
        {
            "cell_type": "markdown",
            "id": "a6e03910",
            "metadata": {
                "id": "a6e03910"
            },
            "source": "## Set"
        },
        {
            "cell_type": "code",
            "execution_count": null,
            "id": "034cac29",
            "metadata": {
                "colab": {
                    "base_uri": "https://localhost:8080/"
                },
                "id": "034cac29",
                "outputId": "550b4d13-cc96-4534-bcbc-76a17fba8831"
            },
            "outputs": [
                {
                    "data": {
                        "text/plain": "{'hard rock', 'pop', 'rock'}"
                    },
                    "execution_count": 325,
                    "metadata": {
                        "tags": []
                    },
                    "output_type": "execute_result"
                }
            ],
            "source": "S1 = {\"pop\", \"rock\", \"hard rock\"}\nS1"
        },
        {
            "cell_type": "code",
            "execution_count": null,
            "id": "dbfaf96a",
            "metadata": {
                "colab": {
                    "base_uri": "https://localhost:8080/"
                },
                "id": "dbfaf96a",
                "outputId": "3132176d-37bc-42d8-8756-1c9fd229bb13"
            },
            "outputs": [
                {
                    "data": {
                        "text/plain": "{'R&B', 'disco', 'rock'}"
                    },
                    "execution_count": 326,
                    "metadata": {
                        "tags": []
                    },
                    "output_type": "execute_result"
                }
            ],
            "source": "S2 = {'rock', 'R&B', 'disco'}\nS2"
        },
        {
            "cell_type": "code",
            "execution_count": null,
            "id": "4aa1a66d",
            "metadata": {
                "colab": {
                    "base_uri": "https://localhost:8080/"
                },
                "id": "4aa1a66d",
                "outputId": "4cd3e9cd-db21-4875-b300-d2d40d525c3f"
            },
            "outputs": [
                {
                    "data": {
                        "text/plain": "{'R&B', 'disco', 'hard rock', 'pop', 'rock'}"
                    },
                    "execution_count": 327,
                    "metadata": {
                        "tags": []
                    },
                    "output_type": "execute_result"
                }
            ],
            "source": "S1.union(S2)"
        },
        {
            "cell_type": "code",
            "execution_count": null,
            "id": "c3c0586e",
            "metadata": {
                "colab": {
                    "base_uri": "https://localhost:8080/"
                },
                "id": "c3c0586e",
                "outputId": "ac3d381c-b3b0-45cc-df78-0d3a504613d4"
            },
            "outputs": [
                {
                    "data": {
                        "text/plain": "{'rock'}"
                    },
                    "execution_count": 328,
                    "metadata": {
                        "tags": []
                    },
                    "output_type": "execute_result"
                }
            ],
            "source": "S1.intersection(S2)"
        },
        {
            "cell_type": "code",
            "execution_count": null,
            "id": "d6286801",
            "metadata": {
                "colab": {
                    "base_uri": "https://localhost:8080/"
                },
                "id": "d6286801",
                "outputId": "9e6ac265-9024-49d9-f514-78d8f9aff9b1"
            },
            "outputs": [
                {
                    "data": {
                        "text/plain": "{'hard rock', 'pop'}"
                    },
                    "execution_count": 329,
                    "metadata": {
                        "tags": []
                    },
                    "output_type": "execute_result"
                }
            ],
            "source": "S1.difference(S2)"
        },
        {
            "cell_type": "code",
            "execution_count": null,
            "id": "acd39604",
            "metadata": {
                "colab": {
                    "base_uri": "https://localhost:8080/"
                },
                "id": "acd39604",
                "outputId": "01265607-271e-472b-a7e6-0b5f871293a0"
            },
            "outputs": [
                {
                    "name": "stdout",
                    "output_type": "stream",
                    "text": "Help on set object:\n\nclass set(object)\n |  set() -> new empty set object\n |  set(iterable) -> new set object\n |  \n |  Build an unordered collection of unique elements.\n |  \n |  Methods defined here:\n |  \n |  __and__(self, value, /)\n |      Return self&value.\n |  \n |  __contains__(...)\n |      x.__contains__(y) <==> y in x.\n |  \n |  __eq__(self, value, /)\n |      Return self==value.\n |  \n |  __ge__(self, value, /)\n |      Return self>=value.\n |  \n |  __getattribute__(self, name, /)\n |      Return getattr(self, name).\n |  \n |  __gt__(self, value, /)\n |      Return self>value.\n |  \n |  __iand__(self, value, /)\n |      Return self&=value.\n |  \n |  __init__(self, /, *args, **kwargs)\n |      Initialize self.  See help(type(self)) for accurate signature.\n |  \n |  __ior__(self, value, /)\n |      Return self|=value.\n |  \n |  __isub__(self, value, /)\n |      Return self-=value.\n |  \n |  __iter__(self, /)\n |      Implement iter(self).\n |  \n |  __ixor__(self, value, /)\n |      Return self^=value.\n |  \n |  __le__(self, value, /)\n |      Return self<=value.\n |  \n |  __len__(self, /)\n |      Return len(self).\n |  \n |  __lt__(self, value, /)\n |      Return self<value.\n |  \n |  __ne__(self, value, /)\n |      Return self!=value.\n |  \n |  __or__(self, value, /)\n |      Return self|value.\n |  \n |  __rand__(self, value, /)\n |      Return value&self.\n |  \n |  __reduce__(...)\n |      Return state information for pickling.\n |  \n |  __repr__(self, /)\n |      Return repr(self).\n |  \n |  __ror__(self, value, /)\n |      Return value|self.\n |  \n |  __rsub__(self, value, /)\n |      Return value-self.\n |  \n |  __rxor__(self, value, /)\n |      Return value^self.\n |  \n |  __sizeof__(...)\n |      S.__sizeof__() -> size of S in memory, in bytes\n |  \n |  __sub__(self, value, /)\n |      Return self-value.\n |  \n |  __xor__(self, value, /)\n |      Return self^value.\n |  \n |  add(...)\n |      Add an element to a set.\n |      \n |      This has no effect if the element is already present.\n |  \n |  clear(...)\n |      Remove all elements from this set.\n |  \n |  copy(...)\n |      Return a shallow copy of a set.\n |  \n |  difference(...)\n |      Return the difference of two or more sets as a new set.\n |      \n |      (i.e. all elements that are in this set but not the others.)\n |  \n |  difference_update(...)\n |      Remove all elements of another set from this set.\n |  \n |  discard(...)\n |      Remove an element from a set if it is a member.\n |      \n |      If the element is not a member, do nothing.\n |  \n |  intersection(...)\n |      Return the intersection of two sets as a new set.\n |      \n |      (i.e. all elements that are in both sets.)\n |  \n |  intersection_update(...)\n |      Update a set with the intersection of itself and another.\n |  \n |  isdisjoint(...)\n |      Return True if two sets have a null intersection.\n |  \n |  issubset(...)\n |      Report whether another set contains this set.\n |  \n |  issuperset(...)\n |      Report whether this set contains another set.\n |  \n |  pop(...)\n |      Remove and return an arbitrary set element.\n |      Raises KeyError if the set is empty.\n |  \n |  remove(...)\n |      Remove an element from a set; it must be a member.\n |      \n |      If the element is not a member, raise a KeyError.\n |  \n |  symmetric_difference(...)\n |      Return the symmetric difference of two sets as a new set.\n |      \n |      (i.e. all elements that are in exactly one of the sets.)\n |  \n |  symmetric_difference_update(...)\n |      Update a set with the symmetric difference of itself and another.\n |  \n |  union(...)\n |      Return the union of sets as a new set.\n |      \n |      (i.e. all elements that are in either set.)\n |  \n |  update(...)\n |      Update a set with the union of itself and others.\n |  \n |  ----------------------------------------------------------------------\n |  Static methods defined here:\n |  \n |  __new__(*args, **kwargs) from builtins.type\n |      Create and return a new object.  See help(type) for accurate signature.\n |  \n |  ----------------------------------------------------------------------\n |  Data and other attributes defined here:\n |  \n |  __hash__ = None\n\n"
                }
            ],
            "source": "help(S1)"
        },
        {
            "cell_type": "code",
            "execution_count": null,
            "id": "e2780939",
            "metadata": {
                "colab": {
                    "base_uri": "https://localhost:8080/"
                },
                "id": "e2780939",
                "outputId": "f4a47db5-8f91-4f35-b5e4-adfa91d87577"
            },
            "outputs": [
                {
                    "data": {
                        "text/plain": "False"
                    },
                    "execution_count": 331,
                    "metadata": {
                        "tags": []
                    },
                    "output_type": "execute_result"
                }
            ],
            "source": "S1.isdisjoint(S2)"
        },
        {
            "cell_type": "code",
            "execution_count": null,
            "id": "28fd6dac",
            "metadata": {
                "colab": {
                    "base_uri": "https://localhost:8080/"
                },
                "id": "28fd6dac",
                "outputId": "0df3cd31-276c-4f98-e5bf-197cab120ce0"
            },
            "outputs": [
                {
                    "data": {
                        "text/plain": "False"
                    },
                    "execution_count": 332,
                    "metadata": {
                        "tags": []
                    },
                    "output_type": "execute_result"
                }
            ],
            "source": "S2.issubset(S1)"
        },
        {
            "cell_type": "code",
            "execution_count": null,
            "id": "5KqrdsTvGyM4",
            "metadata": {
                "colab": {
                    "base_uri": "https://localhost:8080/"
                },
                "id": "5KqrdsTvGyM4",
                "outputId": "d4c5375f-3bb2-4a2a-9e41-fe6b34c8fa46"
            },
            "outputs": [
                {
                    "data": {
                        "text/plain": "False"
                    },
                    "execution_count": 333,
                    "metadata": {
                        "tags": []
                    },
                    "output_type": "execute_result"
                }
            ],
            "source": "S1.issuperset(S2)"
        },
        {
            "cell_type": "markdown",
            "id": "19191bef",
            "metadata": {
                "id": "19191bef"
            },
            "source": "## Condition & Branching"
        },
        {
            "cell_type": "code",
            "execution_count": null,
            "id": "33a64ff5",
            "metadata": {
                "id": "33a64ff5"
            },
            "outputs": [],
            "source": "# condition\na = 10 \nb = 100"
        },
        {
            "cell_type": "code",
            "execution_count": null,
            "id": "b8349360",
            "metadata": {
                "colab": {
                    "base_uri": "https://localhost:8080/"
                },
                "id": "b8349360",
                "outputId": "2b0edcdc-535d-4bf1-9a98-63e7cfae2a7e"
            },
            "outputs": [
                {
                    "data": {
                        "text/plain": "True"
                    },
                    "execution_count": 335,
                    "metadata": {
                        "tags": []
                    },
                    "output_type": "execute_result"
                }
            ],
            "source": "a != b"
        },
        {
            "cell_type": "code",
            "execution_count": null,
            "id": "8e6d8f9c",
            "metadata": {
                "colab": {
                    "base_uri": "https://localhost:8080/"
                },
                "id": "8e6d8f9c",
                "outputId": "5e2d554c-b8ec-4c36-c341-a415923422e5"
            },
            "outputs": [
                {
                    "name": "stdout",
                    "output_type": "stream",
                    "text": "a lebih kecil dari b\n"
                }
            ],
            "source": "if a < b:\n    print(\"a lebih kecil dari b\")"
        },
        {
            "cell_type": "code",
            "execution_count": null,
            "id": "b623c167",
            "metadata": {
                "colab": {
                    "base_uri": "https://localhost:8080/"
                },
                "id": "b623c167",
                "outputId": "756bc520-0dc6-431d-955b-3447b7ef6aa0"
            },
            "outputs": [
                {
                    "name": "stdout",
                    "output_type": "stream",
                    "text": "a lebih kecil dari b\n"
                }
            ],
            "source": "if a > b:\n    print(\"a lebih besar dari b\")\nelse:\n    print(\"a lebih kecil dari b\")"
        },
        {
            "cell_type": "code",
            "execution_count": null,
            "id": "c7fbb977",
            "metadata": {
                "colab": {
                    "base_uri": "https://localhost:8080/"
                },
                "id": "c7fbb977",
                "outputId": "aea103c2-85b3-40b4-b0dd-e9d0844497a7"
            },
            "outputs": [
                {
                    "name": "stdout",
                    "output_type": "stream",
                    "text": "a lebih kecil dari b\n"
                }
            ],
            "source": "if a > b:\n    print(\"a lebih besar dari b\")\nelif a==b:\n    print(\"a sama dengan b\")\nelse:\n    print(\"a lebih kecil dari b\")"
        },
        {
            "cell_type": "code",
            "execution_count": null,
            "id": "0753e581",
            "metadata": {
                "colab": {
                    "base_uri": "https://localhost:8080/"
                },
                "id": "0753e581",
                "outputId": "13fc0653-5944-4bbf-8d0d-5ed0bde9636c"
            },
            "outputs": [
                {
                    "name": "stdout",
                    "output_type": "stream",
                    "text": "a lebih kecil dari b\n"
                }
            ],
            "source": "if a < b: print(\"a lebih kecil dari b\")"
        },
        {
            "cell_type": "code",
            "execution_count": null,
            "id": "e3c34259",
            "metadata": {
                "colab": {
                    "base_uri": "https://localhost:8080/"
                },
                "id": "e3c34259",
                "outputId": "72a57eb7-98ad-4ef7-c27a-ee4ce315f9c9"
            },
            "outputs": [
                {
                    "name": "stdout",
                    "output_type": "stream",
                    "text": "a lebih kecil dari b\n"
                }
            ],
            "source": "print(\"a lebih kecil dari b\") if a < b else print(\"a lebih besar dari b\")"
        },
        {
            "cell_type": "code",
            "execution_count": null,
            "id": "b3dc5765",
            "metadata": {
                "colab": {
                    "base_uri": "https://localhost:8080/"
                },
                "id": "b3dc5765",
                "outputId": "e2006c11-8623-409e-8e1a-731d64b7d6d9"
            },
            "outputs": [
                {
                    "name": "stdout",
                    "output_type": "stream",
                    "text": "A=B\n"
                }
            ],
            "source": "a = 330\nb = 330\nprint(\"A\") if a > b else print(\"A=B\") if a == b else print(\"B\")"
        },
        {
            "cell_type": "code",
            "execution_count": null,
            "id": "KkJx5SLoHcZo",
            "metadata": {
                "colab": {
                    "base_uri": "https://localhost:8080/"
                },
                "id": "KkJx5SLoHcZo",
                "outputId": "f5f41a49-bf15-4c8f-eadc-feb5590e8184"
            },
            "outputs": [
                {
                    "name": "stdout",
                    "output_type": "stream",
                    "text": "Both conditions are True\n"
                }
            ],
            "source": "a = 200\nb = 33\nc = 500\nif a > b and c > a:\n  print(\"Both conditions are True\")"
        },
        {
            "cell_type": "code",
            "execution_count": null,
            "id": "sRt9ImCvHoGo",
            "metadata": {
                "colab": {
                    "base_uri": "https://localhost:8080/"
                },
                "id": "sRt9ImCvHoGo",
                "outputId": "bcea38b0-0e1a-4adf-bd19-f7344b98c8c4"
            },
            "outputs": [
                {
                    "name": "stdout",
                    "output_type": "stream",
                    "text": "At least one of the conditions is True\n"
                }
            ],
            "source": "a = 200\nb = 33\nc = 500\nif a > b or a > c:\n  print(\"At least one of the conditions is True\")"
        },
        {
            "cell_type": "markdown",
            "id": "ef02e249",
            "metadata": {
                "id": "ef02e249"
            },
            "source": "## Loop"
        },
        {
            "cell_type": "code",
            "execution_count": null,
            "id": "09360914",
            "metadata": {
                "id": "09360914"
            },
            "outputs": [],
            "source": "colors = [\"red\", \"green\", \"blue\", \"yellow\"]"
        },
        {
            "cell_type": "code",
            "execution_count": null,
            "id": "23feb916",
            "metadata": {
                "colab": {
                    "base_uri": "https://localhost:8080/"
                },
                "id": "23feb916",
                "outputId": "e27094fa-8a45-4255-c639-81eb31f0728e"
            },
            "outputs": [
                {
                    "data": {
                        "text/plain": "4"
                    },
                    "execution_count": 348,
                    "metadata": {
                        "tags": []
                    },
                    "output_type": "execute_result"
                }
            ],
            "source": "len(colors)"
        },
        {
            "cell_type": "code",
            "execution_count": null,
            "id": "8dfaf660",
            "metadata": {
                "colab": {
                    "base_uri": "https://localhost:8080/"
                },
                "id": "8dfaf660",
                "outputId": "60fc0ce3-b488-40e1-9ccb-3cd74466c376"
            },
            "outputs": [
                {
                    "name": "stdout",
                    "output_type": "stream",
                    "text": "red\ngreen\nblue\nyellow\n"
                }
            ],
            "source": "for i in colors:\n    print(i)"
        },
        {
            "cell_type": "code",
            "execution_count": null,
            "id": "477c1f0c",
            "metadata": {
                "colab": {
                    "base_uri": "https://localhost:8080/"
                },
                "id": "477c1f0c",
                "outputId": "941fdd23-ef17-4183-fcf0-fd303149ebb3"
            },
            "outputs": [
                {
                    "name": "stdout",
                    "output_type": "stream",
                    "text": "0 red\n1 green\n2 blue\n3 yellow\n"
                }
            ],
            "source": "for i in range(len(colors)):\n    print(i, colors[i])"
        },
        {
            "cell_type": "code",
            "execution_count": null,
            "id": "70d98293",
            "metadata": {
                "colab": {
                    "base_uri": "https://localhost:8080/"
                },
                "id": "70d98293",
                "outputId": "e9a7b7a6-e2dd-49c7-9b1f-8db62ea038ae"
            },
            "outputs": [
                {
                    "name": "stdout",
                    "output_type": "stream",
                    "text": "0 red\n1 green\n2 blue\n3 yellow\n"
                }
            ],
            "source": "for i, val in enumerate(colors):\n    print(i, val)"
        },
        {
            "cell_type": "code",
            "execution_count": null,
            "id": "e69170d2",
            "metadata": {
                "colab": {
                    "base_uri": "https://localhost:8080/"
                },
                "id": "e69170d2",
                "outputId": "f484b55a-1abc-408f-d27f-0fd1a4580407"
            },
            "outputs": [
                {
                    "name": "stdout",
                    "output_type": "stream",
                    "text": "0 red\n1 green\n2 blue\n3 yellow\n"
                }
            ],
            "source": "i = 0\nwhile i < len(colors):\n    print(i, colors[i])\n    i += 1 # i = i+1"
        },
        {
            "cell_type": "markdown",
            "id": "a4d4a25d",
            "metadata": {
                "id": "a4d4a25d"
            },
            "source": "## Functions"
        },
        {
            "cell_type": "code",
            "execution_count": null,
            "id": "04b57a52",
            "metadata": {
                "id": "04b57a52"
            },
            "outputs": [],
            "source": "def add(a,b):\n    \"\"\"\"\n    Documentation here\n    \"\"\"\n    global c\n    c = a+b\n    return c"
        },
        {
            "cell_type": "code",
            "execution_count": null,
            "id": "e239d1be",
            "metadata": {
                "colab": {
                    "base_uri": "https://localhost:8080/"
                },
                "id": "e239d1be",
                "outputId": "abb96d3f-ec23-457d-f986-c8819b46aa99"
            },
            "outputs": [
                {
                    "name": "stdout",
                    "output_type": "stream",
                    "text": "23\n"
                }
            ],
            "source": "hasil = add(11,12)\nprint(hasil)"
        },
        {
            "cell_type": "code",
            "execution_count": null,
            "id": "a6f511c7",
            "metadata": {
                "colab": {
                    "base_uri": "https://localhost:8080/"
                },
                "id": "a6f511c7",
                "outputId": "dd79ada9-f08d-4edb-fe51-3489263431c1"
            },
            "outputs": [
                {
                    "name": "stdout",
                    "output_type": "stream",
                    "text": "23\n"
                }
            ],
            "source": "print(c)"
        },
        {
            "cell_type": "code",
            "execution_count": null,
            "id": "f86ca7f1",
            "metadata": {
                "colab": {
                    "base_uri": "https://localhost:8080/"
                },
                "id": "f86ca7f1",
                "outputId": "0acbb6fd-8da5-47b6-dcb0-a348af08bd8b"
            },
            "outputs": [
                {
                    "name": "stdout",
                    "output_type": "stream",
                    "text": "Help on function add in module __main__:\n\nadd(a, b)\n    \"\n    Documentation here\n\n"
                }
            ],
            "source": "help(add)"
        },
        {
            "cell_type": "code",
            "execution_count": null,
            "id": "WhTbrqWXIQlO",
            "metadata": {
                "id": "WhTbrqWXIQlO"
            },
            "outputs": [],
            "source": "# colecting arguments\ndef subject_name(*name):\n  for i in range(len(name)):\n    print(i, name[i])"
        },
        {
            "cell_type": "code",
            "execution_count": null,
            "id": "u06ZAB9WIbZ3",
            "metadata": {
                "colab": {
                    "base_uri": "https://localhost:8080/"
                },
                "id": "u06ZAB9WIbZ3",
                "outputId": "1ab54cf5-9e35-4271-e438-5d074a2d6b07"
            },
            "outputs": [
                {
                    "name": "stdout",
                    "output_type": "stream",
                    "text": "0 math\n1 physics\n2 music\n"
                }
            ],
            "source": "subject_name(\"math\", \"physics\", \"music\")"
        },
        {
            "cell_type": "code",
            "execution_count": null,
            "id": "A7dmn8cHIhZK",
            "metadata": {
                "id": "A7dmn8cHIhZK"
            },
            "outputs": [],
            "source": "name = (\"math\",\"physics\",\"music\")"
        },
        {
            "cell_type": "code",
            "execution_count": null,
            "id": "uX6nNMNNIsU7",
            "metadata": {
                "id": "uX6nNMNNIsU7"
            },
            "outputs": [],
            "source": "# local and global variable\n\n# local scope\n\n\ndef total_sales(quantity):\n  total = quantity*50000\n  return total"
        },
        {
            "cell_type": "code",
            "execution_count": null,
            "id": "vqzqpLaTI5cp",
            "metadata": {
                "colab": {
                    "base_uri": "https://localhost:8080/"
                },
                "id": "vqzqpLaTI5cp",
                "outputId": "e962c779-7143-4bef-a52a-0f2a905e6e7c"
            },
            "outputs": [
                {
                    "data": {
                        "text/plain": "500000"
                    },
                    "execution_count": 370,
                    "metadata": {
                        "tags": []
                    },
                    "output_type": "execute_result"
                }
            ],
            "source": "total_sales(10)"
        },
        {
            "cell_type": "code",
            "execution_count": null,
            "id": "gnCpKtzqI705",
            "metadata": {
                "colab": {
                    "base_uri": "https://localhost:8080/",
                    "height": 163
                },
                "id": "gnCpKtzqI705",
                "outputId": "7dbc786b-86a9-4c90-b29e-5d59ffaec2a7"
            },
            "outputs": [
                {
                    "ename": "NameError",
                    "evalue": "ignored",
                    "output_type": "error",
                    "traceback": [
                        "\u001b[0;31m---------------------------------------------------------------------------\u001b[0m",
                        "\u001b[0;31mNameError\u001b[0m                                 Traceback (most recent call last)",
                        "\u001b[0;32m<ipython-input-371-517c68ee957b>\u001b[0m in \u001b[0;36m<module>\u001b[0;34m()\u001b[0m\n\u001b[0;32m----> 1\u001b[0;31m \u001b[0mprint\u001b[0m\u001b[0;34m(\u001b[0m\u001b[0mtotal\u001b[0m\u001b[0;34m)\u001b[0m\u001b[0;34m\u001b[0m\u001b[0;34m\u001b[0m\u001b[0m\n\u001b[0m",
                        "\u001b[0;31mNameError\u001b[0m: name 'total' is not defined"
                    ]
                }
            ],
            "source": "print(total)"
        },
        {
            "cell_type": "code",
            "execution_count": null,
            "id": "52Uji2mqJSl5",
            "metadata": {
                "id": "52Uji2mqJSl5"
            },
            "outputs": [],
            "source": "# global scope\n\ndef total_sales(quantity):\n  global total\n  total = quantity*50000\n  return total"
        },
        {
            "cell_type": "code",
            "execution_count": null,
            "id": "XwmJ7YGCJalM",
            "metadata": {
                "colab": {
                    "base_uri": "https://localhost:8080/"
                },
                "id": "XwmJ7YGCJalM",
                "outputId": "e42c03a7-34c8-436a-f509-4096c56fffd3"
            },
            "outputs": [
                {
                    "data": {
                        "text/plain": "500000"
                    },
                    "execution_count": 374,
                    "metadata": {
                        "tags": []
                    },
                    "output_type": "execute_result"
                }
            ],
            "source": "total_sales(10)"
        },
        {
            "cell_type": "code",
            "execution_count": null,
            "id": "OT91A_PnJc3j",
            "metadata": {
                "colab": {
                    "base_uri": "https://localhost:8080/"
                },
                "id": "OT91A_PnJc3j",
                "outputId": "7f87b8d6-a5b4-444f-8149-b83138674df5"
            },
            "outputs": [
                {
                    "name": "stdout",
                    "output_type": "stream",
                    "text": "500000\n"
                }
            ],
            "source": "print(total)"
        },
        {
            "cell_type": "markdown",
            "id": "1500c784",
            "metadata": {
                "id": "1500c784"
            },
            "source": "## Exception Handling"
        },
        {
            "cell_type": "code",
            "execution_count": null,
            "id": "64444f80",
            "metadata": {
                "id": "64444f80"
            },
            "outputs": [],
            "source": "a = 1"
        },
        {
            "cell_type": "code",
            "execution_count": null,
            "id": "cf0d32be",
            "metadata": {
                "colab": {
                    "base_uri": "https://localhost:8080/"
                },
                "id": "cf0d32be",
                "outputId": "39060beb-e76b-42fd-c8c5-4ea9a3df5e0b"
            },
            "outputs": [
                {
                    "name": "stdout",
                    "output_type": "stream",
                    "text": "error pembagian nol\nsuccess\n"
                }
            ],
            "source": "try:\n  b = a/0\nexcept ZeroDivisionError:\n    print(\"error pembagian nol\")\nexcept:\n    print(\"ada error\")\nelse:\n    print(b)\nfinally:\n    print(\"success\")\n    "
        },
        {
            "cell_type": "markdown",
            "id": "60d4b24b",
            "metadata": {
                "id": "60d4b24b"
            },
            "source": "## Class"
        },
        {
            "cell_type": "code",
            "execution_count": null,
            "id": "c3575a8f",
            "metadata": {
                "id": "c3575a8f"
            },
            "outputs": [],
            "source": "import matplotlib.pyplot as plt\n%matplotlib inline\n\nclass Circle(object):\n    def __init__(self, radius=3, color='blue'):\n        self.radius = radius\n        self.color = color\n        \n    def add_radius(self, r):\n        self.radius += r\n        return(self.radius)\n    \n    def draw_circle(self):\n        plt.gca().add_patch(plt.Circle((0,0), radius = self.radius, fc=self.color))\n        plt.axis('scaled')\n        plt.show()"
        },
        {
            "cell_type": "code",
            "execution_count": null,
            "id": "811faa02",
            "metadata": {
                "id": "811faa02"
            },
            "outputs": [],
            "source": "circle1 = Circle(10, 'red')"
        },
        {
            "cell_type": "code",
            "execution_count": null,
            "id": "4937adac",
            "metadata": {
                "colab": {
                    "base_uri": "https://localhost:8080/"
                },
                "id": "4937adac",
                "outputId": "4708c2a0-726a-48cf-fcd5-d96f88075ae5"
            },
            "outputs": [
                {
                    "data": {
                        "text/plain": "10"
                    },
                    "execution_count": 380,
                    "metadata": {
                        "tags": []
                    },
                    "output_type": "execute_result"
                }
            ],
            "source": "circle1.radius"
        },
        {
            "cell_type": "code",
            "execution_count": null,
            "id": "dc16ffad",
            "metadata": {
                "colab": {
                    "base_uri": "https://localhost:8080/",
                    "height": 35
                },
                "id": "dc16ffad",
                "outputId": "65862c44-85ef-491c-ef2c-281a4dfb9fc2"
            },
            "outputs": [
                {
                    "data": {
                        "application/vnd.google.colaboratory.intrinsic+json": {
                            "type": "string"
                        },
                        "text/plain": "'red'"
                    },
                    "execution_count": 381,
                    "metadata": {
                        "tags": []
                    },
                    "output_type": "execute_result"
                }
            ],
            "source": "circle1.color"
        },
        {
            "cell_type": "code",
            "execution_count": null,
            "id": "f34babc4",
            "metadata": {
                "colab": {
                    "base_uri": "https://localhost:8080/"
                },
                "id": "f34babc4",
                "outputId": "5112f404-5b18-4d9b-d3ef-f5d3c8d119ec"
            },
            "outputs": [
                {
                    "data": {
                        "text/plain": "15"
                    },
                    "execution_count": 382,
                    "metadata": {
                        "tags": []
                    },
                    "output_type": "execute_result"
                }
            ],
            "source": "circle1.add_radius(5)"
        },
        {
            "cell_type": "code",
            "execution_count": null,
            "id": "2601e81d",
            "metadata": {
                "colab": {
                    "base_uri": "https://localhost:8080/"
                },
                "id": "2601e81d",
                "outputId": "dcf54503-70de-40cf-c96f-7bee1f9f4c0b"
            },
            "outputs": [
                {
                    "data": {
                        "text/plain": "15"
                    },
                    "execution_count": 385,
                    "metadata": {
                        "tags": []
                    },
                    "output_type": "execute_result"
                }
            ],
            "source": "# print the object attribute radius\ncircle1.radius"
        },
        {
            "cell_type": "code",
            "execution_count": null,
            "id": "f0f24e50",
            "metadata": {
                "colab": {
                    "base_uri": "https://localhost:8080/",
                    "height": 265
                },
                "id": "f0f24e50",
                "outputId": "d5d1d8e4-04f3-4947-f9a1-b546224643dd"
            },
            "outputs": [
                {
                    "data": {
                        "image/png": "[encoded data removed]",
                        "text/plain": "<Figure size 432x288 with 1 Axes>"
                    },
                    "metadata": {
                        "needs_background": "light",
                        "tags": []
                    },
                    "output_type": "display_data"
                }
            ],
            "source": "# plot draw circle\ncircle1.draw_circle()"
        },
        {
            "cell_type": "markdown",
            "id": "c3d31611",
            "metadata": {
                "id": "c3d31611"
            },
            "source": "## READ AND WRITE USING WITH"
        },
        {
            "cell_type": "code",
            "execution_count": null,
            "id": "99e754ec",
            "metadata": {
                "colab": {
                    "base_uri": "https://localhost:8080/"
                },
                "id": "99e754ec",
                "outputId": "0972d1b0-b3cb-4cf8-cc20-bdf50bad7afe"
            },
            "outputs": [
                {
                    "name": "stdout",
                    "output_type": "stream",
                    "text": "This is line 1 \nThis is line 2\nThis is line 3\n"
                }
            ],
            "source": "with open(\"/content/dataset/example.txt\", \"r\") as file:\n    print(file.read())"
        },
        {
            "cell_type": "code",
            "execution_count": null,
            "id": "678312c4",
            "metadata": {
                "colab": {
                    "base_uri": "https://localhost:8080/"
                },
                "id": "678312c4",
                "outputId": "c1529c11-7148-4c59-85de-6aceed6b806e"
            },
            "outputs": [
                {
                    "name": "stdout",
                    "output_type": "stream",
                    "text": "This is line 1 \n\n"
                }
            ],
            "source": "with open(\"/content/dataset/example.txt\", \"r\") as file:\n    print(file.readline())"
        },
        {
            "cell_type": "code",
            "execution_count": null,
            "id": "1adab709",
            "metadata": {
                "colab": {
                    "base_uri": "https://localhost:8080/"
                },
                "id": "1adab709",
                "outputId": "46d19034-5902-4b48-af4e-b1f28d4ee607"
            },
            "outputs": [
                {
                    "name": "stdout",
                    "output_type": "stream",
                    "text": "['This is line 1 \\n', 'This is line 2\\n', 'This is line 3']\n"
                }
            ],
            "source": "with open(\"/content/dataset/example.txt\", \"r\") as file:\n    print(file.readlines())"
        },
        {
            "cell_type": "code",
            "execution_count": null,
            "id": "a51d0f62",
            "metadata": {
                "colab": {
                    "base_uri": "https://localhost:8080/"
                },
                "id": "a51d0f62",
                "outputId": "d0d6bdf1-0b5f-433b-98e6-0b8ccdef7235"
            },
            "outputs": [
                {
                    "name": "stdout",
                    "output_type": "stream",
                    "text": "This is line A\n\nThis is line B\n\nThis is line C\n\n"
                }
            ],
            "source": "Lines = ['This is line A\\n', 'This is line B\\n', 'This is line C\\n']\nwith open(\"/content/dataset/example2.txt\", \"w\") as writefile:\n  for line in Lines:\n    print(line)\n    writefile.write(line)"
        },
        {
            "cell_type": "markdown",
            "id": "o5UjITKRoPrx",
            "metadata": {
                "id": "o5UjITKRoPrx"
            },
            "source": "### Read other files (CSV,EXCEL,JSON,XML)"
        },
        {
            "cell_type": "code",
            "execution_count": null,
            "id": "d1f5cc00",
            "metadata": {
                "id": "d1f5cc00"
            },
            "outputs": [],
            "source": "import pandas as pd"
        },
        {
            "cell_type": "code",
            "execution_count": null,
            "id": "oriNQiWonpwX",
            "metadata": {
                "colab": {
                    "base_uri": "https://localhost:8080/",
                    "height": 326
                },
                "id": "oriNQiWonpwX",
                "outputId": "c26520eb-0030-4222-9773-4e4cda567670"
            },
            "outputs": [
                {
                    "data": {
                        "text/html": "<div>\n<style scoped>\n    .dataframe tbody tr th:only-of-type {\n        vertical-align: middle;\n    }\n\n    .dataframe tbody tr th {\n        vertical-align: top;\n    }\n\n    .dataframe thead th {\n        text-align: right;\n    }\n</style>\n<table border=\"1\" class=\"dataframe\">\n  <thead>\n    <tr style=\"text-align: right;\">\n      <th></th>\n      <th>Unnamed: 0</th>\n      <th>customerID</th>\n      <th>gender</th>\n      <th>SeniorCitizen</th>\n      <th>Partner</th>\n      <th>Dependents</th>\n      <th>tenure</th>\n      <th>PhoneService</th>\n      <th>MultipleLines</th>\n      <th>InternetService</th>\n      <th>OnlineSecurity</th>\n      <th>OnlineBackup</th>\n      <th>DeviceProtection</th>\n      <th>TechSupport</th>\n      <th>StreamingTV</th>\n      <th>StreamingMovies</th>\n      <th>Contract</th>\n      <th>PaperlessBilling</th>\n      <th>PaymentMethod</th>\n      <th>MonthlyCharges</th>\n      <th>TotalCharges</th>\n      <th>Churn</th>\n    </tr>\n  </thead>\n  <tbody>\n    <tr>\n      <th>0</th>\n      <td>1869</td>\n      <td>7010-BRBUU</td>\n      <td>Male</td>\n      <td>0</td>\n      <td>Yes</td>\n      <td>Yes</td>\n      <td>72</td>\n      <td>Yes</td>\n      <td>Yes</td>\n      <td>No</td>\n      <td>No internet service</td>\n      <td>No internet service</td>\n      <td>No internet service</td>\n      <td>No internet service</td>\n      <td>No internet service</td>\n      <td>No internet service</td>\n      <td>Two year</td>\n      <td>No</td>\n      <td>Credit card (automatic)</td>\n      <td>24.10</td>\n      <td>1734.65</td>\n      <td>No</td>\n    </tr>\n    <tr>\n      <th>1</th>\n      <td>4528</td>\n      <td>9688-YGXVR</td>\n      <td>Female</td>\n      <td>0</td>\n      <td>No</td>\n      <td>No</td>\n      <td>44</td>\n      <td>Yes</td>\n      <td>No</td>\n      <td>Fiber optic</td>\n      <td>No</td>\n      <td>Yes</td>\n      <td>Yes</td>\n      <td>No</td>\n      <td>Yes</td>\n      <td>No</td>\n      <td>Month-to-month</td>\n      <td>Yes</td>\n      <td>Credit card (automatic)</td>\n      <td>88.15</td>\n      <td>3973.2</td>\n      <td>No</td>\n    </tr>\n    <tr>\n      <th>2</th>\n      <td>6344</td>\n      <td>9286-DOJGF</td>\n      <td>Female</td>\n      <td>1</td>\n      <td>Yes</td>\n      <td>No</td>\n      <td>38</td>\n      <td>Yes</td>\n      <td>Yes</td>\n      <td>Fiber optic</td>\n      <td>No</td>\n      <td>No</td>\n      <td>No</td>\n      <td>No</td>\n      <td>No</td>\n      <td>No</td>\n      <td>Month-to-month</td>\n      <td>Yes</td>\n      <td>Bank transfer (automatic)</td>\n      <td>74.95</td>\n      <td>2869.85</td>\n      <td>Yes</td>\n    </tr>\n    <tr>\n      <th>3</th>\n      <td>6739</td>\n      <td>6994-KERXL</td>\n      <td>Male</td>\n      <td>0</td>\n      <td>No</td>\n      <td>No</td>\n      <td>4</td>\n      <td>Yes</td>\n      <td>No</td>\n      <td>DSL</td>\n      <td>No</td>\n      <td>No</td>\n      <td>No</td>\n      <td>No</td>\n      <td>No</td>\n      <td>Yes</td>\n      <td>Month-to-month</td>\n      <td>Yes</td>\n      <td>Electronic check</td>\n      <td>55.90</td>\n      <td>238.5</td>\n      <td>No</td>\n    </tr>\n    <tr>\n      <th>4</th>\n      <td>432</td>\n      <td>2181-UAESM</td>\n      <td>Male</td>\n      <td>0</td>\n      <td>No</td>\n      <td>No</td>\n      <td>2</td>\n      <td>Yes</td>\n      <td>No</td>\n      <td>DSL</td>\n      <td>Yes</td>\n      <td>No</td>\n      <td>Yes</td>\n      <td>No</td>\n      <td>No</td>\n      <td>No</td>\n      <td>Month-to-month</td>\n      <td>No</td>\n      <td>Electronic check</td>\n      <td>53.45</td>\n      <td>119.5</td>\n      <td>No</td>\n    </tr>\n  </tbody>\n</table>\n</div>",
                        "text/plain": "   Unnamed: 0  customerID  gender  ...  MonthlyCharges TotalCharges Churn\n0        1869  7010-BRBUU    Male  ...           24.10      1734.65    No\n1        4528  9688-YGXVR  Female  ...           88.15       3973.2    No\n2        6344  9286-DOJGF  Female  ...           74.95      2869.85   Yes\n3        6739  6994-KERXL    Male  ...           55.90        238.5    No\n4         432  2181-UAESM    Male  ...           53.45        119.5    No\n\n[5 rows x 22 columns]"
                    },
                    "execution_count": 129,
                    "metadata": {
                        "tags": []
                    },
                    "output_type": "execute_result"
                }
            ],
            "source": "df = pd.read_csv(\"/content/dataset/telecom_users.csv\")\ndf.head()"
        },
        {
            "cell_type": "code",
            "execution_count": null,
            "id": "iGdyFep7oAxo",
            "metadata": {
                "colab": {
                    "base_uri": "https://localhost:8080/",
                    "height": 204
                },
                "id": "iGdyFep7oAxo",
                "outputId": "14d41dbf-e8ca-4130-fb48-522d740fd0c3"
            },
            "outputs": [
                {
                    "data": {
                        "text/html": "<div>\n<style scoped>\n    .dataframe tbody tr th:only-of-type {\n        vertical-align: middle;\n    }\n\n    .dataframe tbody tr th {\n        vertical-align: top;\n    }\n\n    .dataframe thead th {\n        text-align: right;\n    }\n</style>\n<table border=\"1\" class=\"dataframe\">\n  <thead>\n    <tr style=\"text-align: right;\">\n      <th></th>\n      <th>Duration</th>\n      <th>Pulse</th>\n      <th>Maxpulse</th>\n      <th>Calories</th>\n    </tr>\n  </thead>\n  <tbody>\n    <tr>\n      <th>0</th>\n      <td>60</td>\n      <td>110</td>\n      <td>130</td>\n      <td>409.1</td>\n    </tr>\n    <tr>\n      <th>1</th>\n      <td>60</td>\n      <td>117</td>\n      <td>145</td>\n      <td>479.0</td>\n    </tr>\n    <tr>\n      <th>2</th>\n      <td>60</td>\n      <td>103</td>\n      <td>135</td>\n      <td>340.0</td>\n    </tr>\n    <tr>\n      <th>3</th>\n      <td>45</td>\n      <td>109</td>\n      <td>175</td>\n      <td>282.4</td>\n    </tr>\n    <tr>\n      <th>4</th>\n      <td>45</td>\n      <td>117</td>\n      <td>148</td>\n      <td>406.0</td>\n    </tr>\n  </tbody>\n</table>\n</div>",
                        "text/plain": "   Duration  Pulse  Maxpulse  Calories\n0        60    110       130     409.1\n1        60    117       145     479.0\n2        60    103       135     340.0\n3        45    109       175     282.4\n4        45    117       148     406.0"
                    },
                    "execution_count": 119,
                    "metadata": {
                        "tags": []
                    },
                    "output_type": "execute_result"
                }
            ],
            "source": "df = pd.read_json(\"/content/dataset/example.json\")\ndf.head()"
        },
        {
            "cell_type": "code",
            "execution_count": null,
            "id": "-OID2vh8ogrw",
            "metadata": {
                "colab": {
                    "base_uri": "https://localhost:8080/",
                    "height": 326
                },
                "id": "-OID2vh8ogrw",
                "outputId": "2f4a0e5a-6e0e-452d-c2c6-e98d0acaf183"
            },
            "outputs": [
                {
                    "data": {
                        "text/html": "<div>\n<style scoped>\n    .dataframe tbody tr th:only-of-type {\n        vertical-align: middle;\n    }\n\n    .dataframe tbody tr th {\n        vertical-align: top;\n    }\n\n    .dataframe thead th {\n        text-align: right;\n    }\n</style>\n<table border=\"1\" class=\"dataframe\">\n  <thead>\n    <tr style=\"text-align: right;\">\n      <th></th>\n      <th>Unnamed: 0</th>\n      <th>customerID</th>\n      <th>gender</th>\n      <th>SeniorCitizen</th>\n      <th>Partner</th>\n      <th>Dependents</th>\n      <th>tenure</th>\n      <th>PhoneService</th>\n      <th>MultipleLines</th>\n      <th>InternetService</th>\n      <th>OnlineSecurity</th>\n      <th>OnlineBackup</th>\n      <th>DeviceProtection</th>\n      <th>TechSupport</th>\n      <th>StreamingTV</th>\n      <th>StreamingMovies</th>\n      <th>Contract</th>\n      <th>PaperlessBilling</th>\n      <th>PaymentMethod</th>\n      <th>MonthlyCharges</th>\n      <th>TotalCharges</th>\n      <th>Churn</th>\n    </tr>\n  </thead>\n  <tbody>\n    <tr>\n      <th>0</th>\n      <td>1869</td>\n      <td>7010-BRBUU</td>\n      <td>Male</td>\n      <td>0</td>\n      <td>Yes</td>\n      <td>Yes</td>\n      <td>72</td>\n      <td>Yes</td>\n      <td>Yes</td>\n      <td>No</td>\n      <td>No internet service</td>\n      <td>No internet service</td>\n      <td>No internet service</td>\n      <td>No internet service</td>\n      <td>No internet service</td>\n      <td>No internet service</td>\n      <td>Two year</td>\n      <td>No</td>\n      <td>Credit card (automatic)</td>\n      <td>24.10</td>\n      <td>1734.65</td>\n      <td>No</td>\n    </tr>\n    <tr>\n      <th>1</th>\n      <td>4528</td>\n      <td>9688-YGXVR</td>\n      <td>Female</td>\n      <td>0</td>\n      <td>No</td>\n      <td>No</td>\n      <td>44</td>\n      <td>Yes</td>\n      <td>No</td>\n      <td>Fiber optic</td>\n      <td>No</td>\n      <td>Yes</td>\n      <td>Yes</td>\n      <td>No</td>\n      <td>Yes</td>\n      <td>No</td>\n      <td>Month-to-month</td>\n      <td>Yes</td>\n      <td>Credit card (automatic)</td>\n      <td>88.15</td>\n      <td>3973.2</td>\n      <td>No</td>\n    </tr>\n    <tr>\n      <th>2</th>\n      <td>6344</td>\n      <td>9286-DOJGF</td>\n      <td>Female</td>\n      <td>1</td>\n      <td>Yes</td>\n      <td>No</td>\n      <td>38</td>\n      <td>Yes</td>\n      <td>Yes</td>\n      <td>Fiber optic</td>\n      <td>No</td>\n      <td>No</td>\n      <td>No</td>\n      <td>No</td>\n      <td>No</td>\n      <td>No</td>\n      <td>Month-to-month</td>\n      <td>Yes</td>\n      <td>Bank transfer (automatic)</td>\n      <td>74.95</td>\n      <td>2869.85</td>\n      <td>Yes</td>\n    </tr>\n    <tr>\n      <th>3</th>\n      <td>6739</td>\n      <td>6994-KERXL</td>\n      <td>Male</td>\n      <td>0</td>\n      <td>No</td>\n      <td>No</td>\n      <td>4</td>\n      <td>Yes</td>\n      <td>No</td>\n      <td>DSL</td>\n      <td>No</td>\n      <td>No</td>\n      <td>No</td>\n      <td>No</td>\n      <td>No</td>\n      <td>Yes</td>\n      <td>Month-to-month</td>\n      <td>Yes</td>\n      <td>Electronic check</td>\n      <td>55.90</td>\n      <td>238.5</td>\n      <td>No</td>\n    </tr>\n    <tr>\n      <th>4</th>\n      <td>432</td>\n      <td>2181-UAESM</td>\n      <td>Male</td>\n      <td>0</td>\n      <td>No</td>\n      <td>No</td>\n      <td>2</td>\n      <td>Yes</td>\n      <td>No</td>\n      <td>DSL</td>\n      <td>Yes</td>\n      <td>No</td>\n      <td>Yes</td>\n      <td>No</td>\n      <td>No</td>\n      <td>No</td>\n      <td>Month-to-month</td>\n      <td>No</td>\n      <td>Electronic check</td>\n      <td>53.45</td>\n      <td>119.5</td>\n      <td>No</td>\n    </tr>\n  </tbody>\n</table>\n</div>",
                        "text/plain": "   Unnamed: 0  customerID  gender  ...  MonthlyCharges TotalCharges Churn\n0        1869  7010-BRBUU    Male  ...           24.10      1734.65    No\n1        4528  9688-YGXVR  Female  ...           88.15       3973.2    No\n2        6344  9286-DOJGF  Female  ...           74.95      2869.85   Yes\n3        6739  6994-KERXL    Male  ...           55.90        238.5    No\n4         432  2181-UAESM    Male  ...           53.45        119.5    No\n\n[5 rows x 22 columns]"
                    },
                    "execution_count": 120,
                    "metadata": {
                        "tags": []
                    },
                    "output_type": "execute_result"
                }
            ],
            "source": "df =pd.read_excel(\"/content/dataset/telecom_users.xls\")\ndf.head()"
        },
        {
            "cell_type": "code",
            "execution_count": null,
            "id": "jGceES8sotQl",
            "metadata": {
                "id": "jGceES8sotQl"
            },
            "outputs": [],
            "source": "import xml.etree.ElementTree as etree"
        },
        {
            "cell_type": "code",
            "execution_count": null,
            "id": "_v7nuhzLoyte",
            "metadata": {
                "id": "_v7nuhzLoyte"
            },
            "outputs": [],
            "source": "tree = etree.parse(\"/content/dataset/example.xml\")\nroot = tree.getroot()\ncolumns = [\"name\", \"price\", \"description\", \"calories\"]\ndf = pd.DataFrame(columns = columns)"
        },
        {
            "cell_type": "code",
            "execution_count": null,
            "id": "DxsP2JsYpKzU",
            "metadata": {
                "colab": {
                    "base_uri": "https://localhost:8080/",
                    "height": 289
                },
                "id": "DxsP2JsYpKzU",
                "outputId": "d0a46442-561a-46da-c32a-17990a59ac1e"
            },
            "outputs": [
                {
                    "data": {
                        "text/html": "<div>\n<style scoped>\n    .dataframe tbody tr th:only-of-type {\n        vertical-align: middle;\n    }\n\n    .dataframe tbody tr th {\n        vertical-align: top;\n    }\n\n    .dataframe thead th {\n        text-align: right;\n    }\n</style>\n<table border=\"1\" class=\"dataframe\">\n  <thead>\n    <tr style=\"text-align: right;\">\n      <th></th>\n      <th>name</th>\n      <th>price</th>\n      <th>description</th>\n      <th>calories</th>\n    </tr>\n  </thead>\n  <tbody>\n    <tr>\n      <th>0</th>\n      <td>Belgian Waffles</td>\n      <td>$5.95</td>\n      <td>\\n   Two of our famous Belgian Waffles with pl...</td>\n      <td>650</td>\n    </tr>\n    <tr>\n      <th>1</th>\n      <td>Strawberry Belgian Waffles</td>\n      <td>$7.95</td>\n      <td>\\n    Light Belgian waffles covered with straw...</td>\n      <td>900</td>\n    </tr>\n    <tr>\n      <th>2</th>\n      <td>Berry-Berry Belgian Waffles</td>\n      <td>$8.95</td>\n      <td>\\n    Belgian waffles covered with assorted fr...</td>\n      <td>900</td>\n    </tr>\n    <tr>\n      <th>3</th>\n      <td>French Toast</td>\n      <td>$4.50</td>\n      <td>\\n    Thick slices made from our homemade sour...</td>\n      <td>600</td>\n    </tr>\n    <tr>\n      <th>4</th>\n      <td>Homestyle Breakfast</td>\n      <td>$6.95</td>\n      <td>\\n    Two eggs, bacon or sausage, toast, and o...</td>\n      <td>950</td>\n    </tr>\n  </tbody>\n</table>\n</div>",
                        "text/plain": "                          name  ... calories\n0              Belgian Waffles  ...      650\n1   Strawberry Belgian Waffles  ...      900\n2  Berry-Berry Belgian Waffles  ...      900\n3                 French Toast  ...      600\n4          Homestyle Breakfast  ...      950\n\n[5 rows x 4 columns]"
                    },
                    "execution_count": 124,
                    "metadata": {
                        "tags": []
                    },
                    "output_type": "execute_result"
                }
            ],
            "source": "for node in root:\n  name = node.find(\"name\").text\n  price = node.find(\"price\").text\n  description = node.find(\"description\").text\n  calories = node.find(\"calories\").text\n  df = df.append(pd.Series([name, price, description, calories], index = columns), ignore_index = True)\n\ndf.head()"
        },
        {
            "cell_type": "markdown",
            "id": "60c0bf0d",
            "metadata": {
                "id": "60c0bf0d"
            },
            "source": "## Working with Pandas"
        },
        {
            "cell_type": "code",
            "execution_count": null,
            "id": "95545c45",
            "metadata": {
                "colab": {
                    "base_uri": "https://localhost:8080/",
                    "height": 278
                },
                "id": "95545c45",
                "outputId": "e984363c-7ecc-4e9e-b5ea-ca17fd5f944c"
            },
            "outputs": [
                {
                    "data": {
                        "text/html": "<div>\n<style scoped>\n    .dataframe tbody tr th:only-of-type {\n        vertical-align: middle;\n    }\n\n    .dataframe tbody tr th {\n        vertical-align: top;\n    }\n\n    .dataframe thead th {\n        text-align: right;\n    }\n</style>\n<table border=\"1\" class=\"dataframe\">\n  <thead>\n    <tr style=\"text-align: right;\">\n      <th></th>\n      <th>Unnamed: 0</th>\n      <th>customerID</th>\n      <th>gender</th>\n      <th>SeniorCitizen</th>\n      <th>Partner</th>\n      <th>Dependents</th>\n      <th>tenure</th>\n      <th>PhoneService</th>\n      <th>MultipleLines</th>\n      <th>InternetService</th>\n      <th>OnlineSecurity</th>\n      <th>OnlineBackup</th>\n      <th>DeviceProtection</th>\n      <th>TechSupport</th>\n      <th>StreamingTV</th>\n      <th>StreamingMovies</th>\n      <th>Contract</th>\n      <th>PaperlessBilling</th>\n      <th>PaymentMethod</th>\n      <th>MonthlyCharges</th>\n      <th>TotalCharges</th>\n      <th>Churn</th>\n    </tr>\n  </thead>\n  <tbody>\n    <tr>\n      <th>0</th>\n      <td>1869</td>\n      <td>7010-BRBUU</td>\n      <td>Male</td>\n      <td>0</td>\n      <td>Yes</td>\n      <td>Yes</td>\n      <td>72</td>\n      <td>Yes</td>\n      <td>Yes</td>\n      <td>No</td>\n      <td>No internet service</td>\n      <td>No internet service</td>\n      <td>No internet service</td>\n      <td>No internet service</td>\n      <td>No internet service</td>\n      <td>No internet service</td>\n      <td>Two year</td>\n      <td>No</td>\n      <td>Credit card (automatic)</td>\n      <td>24.10</td>\n      <td>1734.65</td>\n      <td>No</td>\n    </tr>\n    <tr>\n      <th>1</th>\n      <td>4528</td>\n      <td>9688-YGXVR</td>\n      <td>Female</td>\n      <td>0</td>\n      <td>No</td>\n      <td>No</td>\n      <td>44</td>\n      <td>Yes</td>\n      <td>No</td>\n      <td>Fiber optic</td>\n      <td>No</td>\n      <td>Yes</td>\n      <td>Yes</td>\n      <td>No</td>\n      <td>Yes</td>\n      <td>No</td>\n      <td>Month-to-month</td>\n      <td>Yes</td>\n      <td>Credit card (automatic)</td>\n      <td>88.15</td>\n      <td>3973.2</td>\n      <td>No</td>\n    </tr>\n    <tr>\n      <th>2</th>\n      <td>6344</td>\n      <td>9286-DOJGF</td>\n      <td>Female</td>\n      <td>1</td>\n      <td>Yes</td>\n      <td>No</td>\n      <td>38</td>\n      <td>Yes</td>\n      <td>Yes</td>\n      <td>Fiber optic</td>\n      <td>No</td>\n      <td>No</td>\n      <td>No</td>\n      <td>No</td>\n      <td>No</td>\n      <td>No</td>\n      <td>Month-to-month</td>\n      <td>Yes</td>\n      <td>Bank transfer (automatic)</td>\n      <td>74.95</td>\n      <td>2869.85</td>\n      <td>Yes</td>\n    </tr>\n    <tr>\n      <th>3</th>\n      <td>6739</td>\n      <td>6994-KERXL</td>\n      <td>Male</td>\n      <td>0</td>\n      <td>No</td>\n      <td>No</td>\n      <td>4</td>\n      <td>Yes</td>\n      <td>No</td>\n      <td>DSL</td>\n      <td>No</td>\n      <td>No</td>\n      <td>No</td>\n      <td>No</td>\n      <td>No</td>\n      <td>Yes</td>\n      <td>Month-to-month</td>\n      <td>Yes</td>\n      <td>Electronic check</td>\n      <td>55.90</td>\n      <td>238.5</td>\n      <td>No</td>\n    </tr>\n  </tbody>\n</table>\n</div>",
                        "text/plain": "   Unnamed: 0  customerID  gender  ...  MonthlyCharges TotalCharges Churn\n0        1869  7010-BRBUU    Male  ...           24.10      1734.65    No\n1        4528  9688-YGXVR  Female  ...           88.15       3973.2    No\n2        6344  9286-DOJGF  Female  ...           74.95      2869.85   Yes\n3        6739  6994-KERXL    Male  ...           55.90        238.5    No\n\n[4 rows x 22 columns]"
                    },
                    "execution_count": 131,
                    "metadata": {
                        "tags": []
                    },
                    "output_type": "execute_result"
                }
            ],
            "source": "import numpy as np\ndf = pd.read_csv(\"/content/dataset/telecom_users.csv\")\ndf.head(4)"
        },
        {
            "cell_type": "code",
            "execution_count": null,
            "id": "EOA074Kgr4Ou",
            "metadata": {
                "colab": {
                    "base_uri": "https://localhost:8080/",
                    "height": 230
                },
                "id": "EOA074Kgr4Ou",
                "outputId": "d3ecc5b3-57fb-46b8-eed3-fe8c07a33643"
            },
            "outputs": [
                {
                    "data": {
                        "text/html": "<div>\n<style scoped>\n    .dataframe tbody tr th:only-of-type {\n        vertical-align: middle;\n    }\n\n    .dataframe tbody tr th {\n        vertical-align: top;\n    }\n\n    .dataframe thead th {\n        text-align: right;\n    }\n</style>\n<table border=\"1\" class=\"dataframe\">\n  <thead>\n    <tr style=\"text-align: right;\">\n      <th></th>\n      <th>Unnamed: 0</th>\n      <th>customerID</th>\n      <th>gender</th>\n      <th>SeniorCitizen</th>\n      <th>Partner</th>\n      <th>Dependents</th>\n      <th>tenure</th>\n      <th>PhoneService</th>\n      <th>MultipleLines</th>\n      <th>InternetService</th>\n      <th>OnlineSecurity</th>\n      <th>OnlineBackup</th>\n      <th>DeviceProtection</th>\n      <th>TechSupport</th>\n      <th>StreamingTV</th>\n      <th>StreamingMovies</th>\n      <th>Contract</th>\n      <th>PaperlessBilling</th>\n      <th>PaymentMethod</th>\n      <th>MonthlyCharges</th>\n      <th>TotalCharges</th>\n      <th>Churn</th>\n    </tr>\n  </thead>\n  <tbody>\n    <tr>\n      <th>5983</th>\n      <td>5226</td>\n      <td>8044-BGWPI</td>\n      <td>Male</td>\n      <td>0</td>\n      <td>Yes</td>\n      <td>Yes</td>\n      <td>12</td>\n      <td>Yes</td>\n      <td>No</td>\n      <td>No</td>\n      <td>No internet service</td>\n      <td>No internet service</td>\n      <td>No internet service</td>\n      <td>No internet service</td>\n      <td>No internet service</td>\n      <td>No internet service</td>\n      <td>Month-to-month</td>\n      <td>Yes</td>\n      <td>Electronic check</td>\n      <td>21.15</td>\n      <td>306.05</td>\n      <td>No</td>\n    </tr>\n    <tr>\n      <th>5984</th>\n      <td>5390</td>\n      <td>7450-NWRTR</td>\n      <td>Male</td>\n      <td>1</td>\n      <td>No</td>\n      <td>No</td>\n      <td>12</td>\n      <td>Yes</td>\n      <td>Yes</td>\n      <td>Fiber optic</td>\n      <td>No</td>\n      <td>No</td>\n      <td>Yes</td>\n      <td>No</td>\n      <td>Yes</td>\n      <td>Yes</td>\n      <td>Month-to-month</td>\n      <td>Yes</td>\n      <td>Electronic check</td>\n      <td>99.45</td>\n      <td>1200.15</td>\n      <td>Yes</td>\n    </tr>\n    <tr>\n      <th>5985</th>\n      <td>860</td>\n      <td>4795-UXVCJ</td>\n      <td>Male</td>\n      <td>0</td>\n      <td>No</td>\n      <td>No</td>\n      <td>26</td>\n      <td>Yes</td>\n      <td>No</td>\n      <td>No</td>\n      <td>No internet service</td>\n      <td>No internet service</td>\n      <td>No internet service</td>\n      <td>No internet service</td>\n      <td>No internet service</td>\n      <td>No internet service</td>\n      <td>One year</td>\n      <td>No</td>\n      <td>Credit card (automatic)</td>\n      <td>19.80</td>\n      <td>457.3</td>\n      <td>No</td>\n    </tr>\n  </tbody>\n</table>\n</div>",
                        "text/plain": "      Unnamed: 0  customerID gender  ...  MonthlyCharges TotalCharges Churn\n5983        5226  8044-BGWPI   Male  ...           21.15       306.05    No\n5984        5390  7450-NWRTR   Male  ...           99.45      1200.15   Yes\n5985         860  4795-UXVCJ   Male  ...           19.80        457.3    No\n\n[3 rows x 22 columns]"
                    },
                    "execution_count": 132,
                    "metadata": {
                        "tags": []
                    },
                    "output_type": "execute_result"
                }
            ],
            "source": "df.tail(3)"
        },
        {
            "cell_type": "code",
            "execution_count": null,
            "id": "uzAI9Mxqr77t",
            "metadata": {
                "colab": {
                    "base_uri": "https://localhost:8080/"
                },
                "id": "uzAI9Mxqr77t",
                "outputId": "a828085c-4f85-4167-9569-4dc1f7cb4b90"
            },
            "outputs": [
                {
                    "data": {
                        "text/plain": "(5986, 22)"
                    },
                    "execution_count": 133,
                    "metadata": {
                        "tags": []
                    },
                    "output_type": "execute_result"
                }
            ],
            "source": "df.shape"
        },
        {
            "cell_type": "code",
            "execution_count": null,
            "id": "XgzLx963rq9S",
            "metadata": {
                "colab": {
                    "base_uri": "https://localhost:8080/",
                    "height": 204
                },
                "id": "XgzLx963rq9S",
                "outputId": "07478088-2bd6-4cbf-ff63-2a024b6f932b"
            },
            "outputs": [
                {
                    "data": {
                        "text/html": "<div>\n<style scoped>\n    .dataframe tbody tr th:only-of-type {\n        vertical-align: middle;\n    }\n\n    .dataframe tbody tr th {\n        vertical-align: top;\n    }\n\n    .dataframe thead th {\n        text-align: right;\n    }\n</style>\n<table border=\"1\" class=\"dataframe\">\n  <thead>\n    <tr style=\"text-align: right;\">\n      <th></th>\n      <th>customerID</th>\n      <th>gender</th>\n      <th>TotalCharges</th>\n      <th>Churn</th>\n    </tr>\n  </thead>\n  <tbody>\n    <tr>\n      <th>0</th>\n      <td>7010-BRBUU</td>\n      <td>Male</td>\n      <td>1734.65</td>\n      <td>No</td>\n    </tr>\n    <tr>\n      <th>1</th>\n      <td>9688-YGXVR</td>\n      <td>Female</td>\n      <td>3973.2</td>\n      <td>No</td>\n    </tr>\n    <tr>\n      <th>2</th>\n      <td>9286-DOJGF</td>\n      <td>Female</td>\n      <td>2869.85</td>\n      <td>Yes</td>\n    </tr>\n    <tr>\n      <th>3</th>\n      <td>6994-KERXL</td>\n      <td>Male</td>\n      <td>238.5</td>\n      <td>No</td>\n    </tr>\n    <tr>\n      <th>4</th>\n      <td>2181-UAESM</td>\n      <td>Male</td>\n      <td>119.5</td>\n      <td>No</td>\n    </tr>\n  </tbody>\n</table>\n</div>",
                        "text/plain": "   customerID  gender TotalCharges Churn\n0  7010-BRBUU    Male      1734.65    No\n1  9688-YGXVR  Female       3973.2    No\n2  9286-DOJGF  Female      2869.85   Yes\n3  6994-KERXL    Male        238.5    No\n4  2181-UAESM    Male        119.5    No"
                    },
                    "execution_count": 134,
                    "metadata": {
                        "tags": []
                    },
                    "output_type": "execute_result"
                }
            ],
            "source": "df_select = df[[\"customerID\", \"gender\", \"TotalCharges\", \"Churn\"]]\ndf_select.head()"
        },
        {
            "cell_type": "code",
            "execution_count": null,
            "id": "2dc77d64",
            "metadata": {
                "colab": {
                    "base_uri": "https://localhost:8080/"
                },
                "id": "2dc77d64",
                "outputId": "1df52523-89d0-4157-bf2b-0b3acfcba2ac"
            },
            "outputs": [
                {
                    "data": {
                        "text/plain": "customerID      object\ngender          object\nTotalCharges    object\nChurn           object\ndtype: object"
                    },
                    "execution_count": 135,
                    "metadata": {
                        "tags": []
                    },
                    "output_type": "execute_result"
                }
            ],
            "source": "df_select.dtypes"
        },
        {
            "cell_type": "code",
            "execution_count": null,
            "id": "GZ3IZEbAscs3",
            "metadata": {
                "id": "GZ3IZEbAscs3"
            },
            "outputs": [],
            "source": "# Convert Total Charges from object to numeric\ndf_select.TotalCharges = df_select.TotalCharges.replace('[^\\d.]', np.nan, regex = True).astype(float) # force string value to NaN\n"
        },
        {
            "cell_type": "code",
            "execution_count": null,
            "id": "6073lC3DuMBF",
            "metadata": {
                "colab": {
                    "base_uri": "https://localhost:8080/"
                },
                "id": "6073lC3DuMBF",
                "outputId": "2bd21974-745a-447a-fc41-51b89ab52e55"
            },
            "outputs": [
                {
                    "data": {
                        "text/plain": "customerID       object\ngender           object\nTotalCharges    float64\nChurn            object\ndtype: object"
                    },
                    "execution_count": 140,
                    "metadata": {
                        "tags": []
                    },
                    "output_type": "execute_result"
                }
            ],
            "source": "df_select.dtypes"
        },
        {
            "cell_type": "code",
            "execution_count": null,
            "id": "TSuJf7qPuOM3",
            "metadata": {
                "id": "TSuJf7qPuOM3"
            },
            "outputs": [],
            "source": "df_select.TotalCharges = df_select.TotalCharges.astype(float).astype('object')"
        },
        {
            "cell_type": "code",
            "execution_count": null,
            "id": "jFvaNNoBuZJk",
            "metadata": {
                "colab": {
                    "base_uri": "https://localhost:8080/"
                },
                "id": "jFvaNNoBuZJk",
                "outputId": "99e4bddf-be54-40ad-a74d-fca9ae642dbf"
            },
            "outputs": [
                {
                    "data": {
                        "text/plain": "customerID      False\ngender          False\nTotalCharges     True\nChurn           False\ndtype: bool"
                    },
                    "execution_count": 142,
                    "metadata": {
                        "tags": []
                    },
                    "output_type": "execute_result"
                }
            ],
            "source": "df_select.isnull().any()"
        },
        {
            "cell_type": "code",
            "execution_count": null,
            "id": "ChZaMhPquXIF",
            "metadata": {
                "id": "ChZaMhPquXIF"
            },
            "outputs": [],
            "source": "# Fill null with 0\ndf_select[\"TotalCharges\"] = df_select.TotalCharges.fillna(0)"
        },
        {
            "cell_type": "code",
            "execution_count": null,
            "id": "kXyR_YIvuqrn",
            "metadata": {
                "colab": {
                    "base_uri": "https://localhost:8080/"
                },
                "id": "kXyR_YIvuqrn",
                "outputId": "387dfb19-2569-40ad-d437-f208c7e5d57b"
            },
            "outputs": [
                {
                    "data": {
                        "text/plain": "customerID      False\ngender          False\nTotalCharges    False\nChurn           False\ndtype: bool"
                    },
                    "execution_count": 144,
                    "metadata": {
                        "tags": []
                    },
                    "output_type": "execute_result"
                }
            ],
            "source": "df_select.isnull().any()"
        },
        {
            "cell_type": "code",
            "execution_count": null,
            "id": "ysnN6Sf2uvFy",
            "metadata": {
                "colab": {
                    "base_uri": "https://localhost:8080/"
                },
                "id": "ysnN6Sf2uvFy",
                "outputId": "aaeda1b4-3207-4936-f907-ebfe98cbad4b"
            },
            "outputs": [
                {
                    "data": {
                        "text/plain": "Churn           0\nTotalCharges    0\ngender          0\ncustomerID      0\ndtype: int64"
                    },
                    "execution_count": 145,
                    "metadata": {
                        "tags": []
                    },
                    "output_type": "execute_result"
                }
            ],
            "source": "# Check Total Missing Data\ndf_select.isnull().sum().sort_values(ascending=False)"
        },
        {
            "cell_type": "code",
            "execution_count": null,
            "id": "m4gxjatEu4Xm",
            "metadata": {
                "colab": {
                    "base_uri": "https://localhost:8080/",
                    "height": 297
                },
                "id": "m4gxjatEu4Xm",
                "outputId": "0bb9a6de-de9e-40d4-c246-d25ebe102e5c"
            },
            "outputs": [
                {
                    "data": {
                        "text/html": "<div>\n<style scoped>\n    .dataframe tbody tr th:only-of-type {\n        vertical-align: middle;\n    }\n\n    .dataframe tbody tr th {\n        vertical-align: top;\n    }\n\n    .dataframe thead th {\n        text-align: right;\n    }\n</style>\n<table border=\"1\" class=\"dataframe\">\n  <thead>\n    <tr style=\"text-align: right;\">\n      <th></th>\n      <th>Unnamed: 0</th>\n      <th>SeniorCitizen</th>\n      <th>tenure</th>\n      <th>MonthlyCharges</th>\n    </tr>\n  </thead>\n  <tbody>\n    <tr>\n      <th>count</th>\n      <td>5986.000000</td>\n      <td>5986.000000</td>\n      <td>5986.000000</td>\n      <td>5986.000000</td>\n    </tr>\n    <tr>\n      <th>mean</th>\n      <td>3533.561310</td>\n      <td>0.161377</td>\n      <td>32.468760</td>\n      <td>64.802213</td>\n    </tr>\n    <tr>\n      <th>std</th>\n      <td>2035.705666</td>\n      <td>0.367909</td>\n      <td>24.516391</td>\n      <td>30.114702</td>\n    </tr>\n    <tr>\n      <th>min</th>\n      <td>0.000000</td>\n      <td>0.000000</td>\n      <td>0.000000</td>\n      <td>18.250000</td>\n    </tr>\n    <tr>\n      <th>25%</th>\n      <td>1777.250000</td>\n      <td>0.000000</td>\n      <td>9.000000</td>\n      <td>35.650000</td>\n    </tr>\n    <tr>\n      <th>50%</th>\n      <td>3546.500000</td>\n      <td>0.000000</td>\n      <td>29.000000</td>\n      <td>70.400000</td>\n    </tr>\n    <tr>\n      <th>75%</th>\n      <td>5291.750000</td>\n      <td>0.000000</td>\n      <td>56.000000</td>\n      <td>89.900000</td>\n    </tr>\n    <tr>\n      <th>max</th>\n      <td>7042.000000</td>\n      <td>1.000000</td>\n      <td>72.000000</td>\n      <td>118.750000</td>\n    </tr>\n  </tbody>\n</table>\n</div>",
                        "text/plain": "        Unnamed: 0  SeniorCitizen       tenure  MonthlyCharges\ncount  5986.000000    5986.000000  5986.000000     5986.000000\nmean   3533.561310       0.161377    32.468760       64.802213\nstd    2035.705666       0.367909    24.516391       30.114702\nmin       0.000000       0.000000     0.000000       18.250000\n25%    1777.250000       0.000000     9.000000       35.650000\n50%    3546.500000       0.000000    29.000000       70.400000\n75%    5291.750000       0.000000    56.000000       89.900000\nmax    7042.000000       1.000000    72.000000      118.750000"
                    },
                    "execution_count": 146,
                    "metadata": {
                        "tags": []
                    },
                    "output_type": "execute_result"
                }
            ],
            "source": "df.describe()"
        },
        {
            "cell_type": "code",
            "execution_count": null,
            "id": "yrCi6KtOvD0Q",
            "metadata": {
                "id": "yrCi6KtOvD0Q"
            },
            "outputs": [],
            "source": "import matplotlib.pyplot as plt\n%matplotlib inline"
        },
        {
            "cell_type": "code",
            "execution_count": null,
            "id": "eqTrBWUFvKLs",
            "metadata": {
                "colab": {
                    "base_uri": "https://localhost:8080/"
                },
                "id": "eqTrBWUFvKLs",
                "outputId": "d94ae473-0712-40df-88e9-40c66573682f"
            },
            "outputs": [
                {
                    "data": {
                        "text/plain": "array(['Male', 'Female'], dtype=object)"
                    },
                    "execution_count": 148,
                    "metadata": {
                        "tags": []
                    },
                    "output_type": "execute_result"
                }
            ],
            "source": "df_select.gender.unique()"
        },
        {
            "cell_type": "code",
            "execution_count": null,
            "id": "4Su2PNRQvMmo",
            "metadata": {
                "colab": {
                    "base_uri": "https://localhost:8080/"
                },
                "id": "4Su2PNRQvMmo",
                "outputId": "f7ef576a-e38c-42ee-f052-66d78ed4fe4a"
            },
            "outputs": [
                {
                    "data": {
                        "text/plain": "gender\nFemale    2936\nMale      3050\nName: customerID, dtype: int64"
                    },
                    "execution_count": 150,
                    "metadata": {
                        "tags": []
                    },
                    "output_type": "execute_result"
                }
            ],
            "source": "series = df_select.groupby(['gender'])['customerID'].count()\nseries"
        },
        {
            "cell_type": "code",
            "execution_count": null,
            "id": "TfkgnhuUvVrk",
            "metadata": {
                "colab": {
                    "base_uri": "https://localhost:8080/",
                    "height": 305
                },
                "id": "TfkgnhuUvVrk",
                "outputId": "e6b0b5a1-d222-4daa-e484-d05f55ae35ac"
            },
            "outputs": [
                {
                    "data": {
                        "image/png": "[encoded data removed]",
                        "text/plain": "<Figure size 432x288 with 1 Axes>"
                    },
                    "metadata": {
                        "needs_background": "light",
                        "tags": []
                    },
                    "output_type": "display_data"
                }
            ],
            "source": "series.plot.bar()\nplt.ylabel(\"Total Customer\")\nplt.show()"
        },
        {
            "cell_type": "markdown",
            "id": "pEY94K2RwBho",
            "metadata": {
                "id": "pEY94K2RwBho"
            },
            "source": "## NUMPY"
        },
        {
            "cell_type": "markdown",
            "id": "NvqTVl9VxQfR",
            "metadata": {
                "id": "NvqTVl9VxQfR"
            },
            "source": "Array Creation"
        },
        {
            "cell_type": "code",
            "execution_count": null,
            "id": "doW68UuXwD_-",
            "metadata": {
                "id": "doW68UuXwD_-"
            },
            "outputs": [],
            "source": "import numpy as no"
        },
        {
            "cell_type": "code",
            "execution_count": null,
            "id": "OWG4uzFIwTUH",
            "metadata": {
                "colab": {
                    "base_uri": "https://localhost:8080/"
                },
                "id": "OWG4uzFIwTUH",
                "outputId": "5985ab75-8a63-45eb-9f18-d6cf2bb30acb"
            },
            "outputs": [
                {
                    "data": {
                        "text/plain": "array([2, 2, 3, 5, 7])"
                    },
                    "execution_count": 156,
                    "metadata": {
                        "tags": []
                    },
                    "output_type": "execute_result"
                }
            ],
            "source": "listA = [2, 2, 3, 5, 7]\nA= np.array(listA)\nA"
        },
        {
            "cell_type": "code",
            "execution_count": null,
            "id": "3FNcDSe3wcW4",
            "metadata": {
                "colab": {
                    "base_uri": "https://localhost:8080/"
                },
                "id": "3FNcDSe3wcW4",
                "outputId": "3e7040e0-50d7-4352-e16b-74ab5a1957d8"
            },
            "outputs": [
                {
                    "data": {
                        "text/plain": "array([ 5.  , 11.02,  6.  , 12.  ])"
                    },
                    "execution_count": 159,
                    "metadata": {
                        "tags": []
                    },
                    "output_type": "execute_result"
                }
            ],
            "source": "listB = [5, 11.02, 6, 12]\nB = np.array(listB)\nB"
        },
        {
            "cell_type": "code",
            "execution_count": null,
            "id": "_JCVp4I8wgzZ",
            "metadata": {
                "colab": {
                    "base_uri": "https://localhost:8080/"
                },
                "id": "_JCVp4I8wgzZ",
                "outputId": "1f5c7918-19c1-4f89-f419-1089af280cee"
            },
            "outputs": [
                {
                    "data": {
                        "text/plain": "array([[0, 1, 1],\n       [1, 0, 1]])"
                    },
                    "execution_count": 160,
                    "metadata": {
                        "tags": []
                    },
                    "output_type": "execute_result"
                }
            ],
            "source": "listC = [[0,1,1],[1,0,1]]\nC = np.array(listC)\nC"
        },
        {
            "cell_type": "code",
            "execution_count": null,
            "id": "tR89gqapwvvK",
            "metadata": {
                "colab": {
                    "base_uri": "https://localhost:8080/"
                },
                "id": "tR89gqapwvvK",
                "outputId": "0324c082-ccbf-4c84-ca6f-b2e3979894c7"
            },
            "outputs": [
                {
                    "data": {
                        "text/plain": "dtype('int64')"
                    },
                    "execution_count": 161,
                    "metadata": {
                        "tags": []
                    },
                    "output_type": "execute_result"
                }
            ],
            "source": "A.dtype"
        },
        {
            "cell_type": "code",
            "execution_count": null,
            "id": "Lo1cvygmw23V",
            "metadata": {
                "colab": {
                    "base_uri": "https://localhost:8080/"
                },
                "id": "Lo1cvygmw23V",
                "outputId": "f91bfbbd-5a47-457f-9387-0f788b67c3e7"
            },
            "outputs": [
                {
                    "data": {
                        "text/plain": "dtype('float64')"
                    },
                    "execution_count": 162,
                    "metadata": {
                        "tags": []
                    },
                    "output_type": "execute_result"
                }
            ],
            "source": "B.dtype"
        },
        {
            "cell_type": "code",
            "execution_count": null,
            "id": "XeLcqqr0w4JH",
            "metadata": {
                "colab": {
                    "base_uri": "https://localhost:8080/"
                },
                "id": "XeLcqqr0w4JH",
                "outputId": "3688ea6e-06cf-4f47-b163-473b9025ef2a"
            },
            "outputs": [
                {
                    "data": {
                        "text/plain": "dtype('int64')"
                    },
                    "execution_count": 163,
                    "metadata": {
                        "tags": []
                    },
                    "output_type": "execute_result"
                }
            ],
            "source": "C.dtype"
        },
        {
            "cell_type": "code",
            "execution_count": null,
            "id": "sBZ18TAzw5Po",
            "metadata": {
                "colab": {
                    "base_uri": "https://localhost:8080/"
                },
                "id": "sBZ18TAzw5Po",
                "outputId": "c448ef27-1c53-4f73-fff3-c593d51792dd"
            },
            "outputs": [
                {
                    "data": {
                        "text/plain": "1"
                    },
                    "execution_count": 164,
                    "metadata": {
                        "tags": []
                    },
                    "output_type": "execute_result"
                }
            ],
            "source": "A.ndim"
        },
        {
            "cell_type": "code",
            "execution_count": null,
            "id": "T8Z3TA1zw7BG",
            "metadata": {
                "colab": {
                    "base_uri": "https://localhost:8080/"
                },
                "id": "T8Z3TA1zw7BG",
                "outputId": "5edcec2b-ceca-4770-851b-d8b0ec8739de"
            },
            "outputs": [
                {
                    "data": {
                        "text/plain": "1"
                    },
                    "execution_count": 165,
                    "metadata": {
                        "tags": []
                    },
                    "output_type": "execute_result"
                }
            ],
            "source": "B.ndim"
        },
        {
            "cell_type": "code",
            "execution_count": null,
            "id": "hUcNWX-Hw71F",
            "metadata": {
                "colab": {
                    "base_uri": "https://localhost:8080/"
                },
                "id": "hUcNWX-Hw71F",
                "outputId": "0fff8b5c-c672-4213-ea77-4bf41ed06b13"
            },
            "outputs": [
                {
                    "data": {
                        "text/plain": "2"
                    },
                    "execution_count": 166,
                    "metadata": {
                        "tags": []
                    },
                    "output_type": "execute_result"
                }
            ],
            "source": "C.ndim"
        },
        {
            "cell_type": "code",
            "execution_count": null,
            "id": "O9dOrTBTw8rx",
            "metadata": {
                "colab": {
                    "base_uri": "https://localhost:8080/"
                },
                "id": "O9dOrTBTw8rx",
                "outputId": "54f1ced0-9e72-4204-f03b-8a65a1472a2d"
            },
            "outputs": [
                {
                    "data": {
                        "text/plain": "(5,)"
                    },
                    "execution_count": 167,
                    "metadata": {
                        "tags": []
                    },
                    "output_type": "execute_result"
                }
            ],
            "source": "A.shape"
        },
        {
            "cell_type": "code",
            "execution_count": null,
            "id": "TjgIHUmhw9tH",
            "metadata": {
                "colab": {
                    "base_uri": "https://localhost:8080/"
                },
                "id": "TjgIHUmhw9tH",
                "outputId": "404adc43-6921-4c45-c162-8bd65ec86823"
            },
            "outputs": [
                {
                    "data": {
                        "text/plain": "(4,)"
                    },
                    "execution_count": 169,
                    "metadata": {
                        "tags": []
                    },
                    "output_type": "execute_result"
                }
            ],
            "source": "B.shape"
        },
        {
            "cell_type": "code",
            "execution_count": null,
            "id": "PBkcxM0Tw-1X",
            "metadata": {
                "colab": {
                    "base_uri": "https://localhost:8080/"
                },
                "id": "PBkcxM0Tw-1X",
                "outputId": "bf2d4123-37f8-4ee4-eb4d-00fc565ee1cd"
            },
            "outputs": [
                {
                    "data": {
                        "text/plain": "(2, 3)"
                    },
                    "execution_count": 170,
                    "metadata": {
                        "tags": []
                    },
                    "output_type": "execute_result"
                }
            ],
            "source": "C.shape"
        },
        {
            "cell_type": "markdown",
            "id": "ybgkkugmxUwK",
            "metadata": {
                "id": "ybgkkugmxUwK"
            },
            "source": "Basic Operation"
        },
        {
            "cell_type": "code",
            "execution_count": null,
            "id": "iw-5jNN-xNeB",
            "metadata": {
                "id": "iw-5jNN-xNeB"
            },
            "outputs": [],
            "source": "U = np.array([[0,1,1],[2,0,1]])"
        },
        {
            "cell_type": "code",
            "execution_count": null,
            "id": "TQeNEYWwxjaA",
            "metadata": {
                "colab": {
                    "base_uri": "https://localhost:8080/"
                },
                "id": "TQeNEYWwxjaA",
                "outputId": "b51df56f-dc99-4c60-edea-89cbcaec103b"
            },
            "outputs": [
                {
                    "data": {
                        "text/plain": "2"
                    },
                    "execution_count": 174,
                    "metadata": {
                        "tags": []
                    },
                    "output_type": "execute_result"
                }
            ],
            "source": "# Slicing\nU[1][0]"
        },
        {
            "cell_type": "code",
            "execution_count": null,
            "id": "DsX2deolxtI3",
            "metadata": {
                "colab": {
                    "base_uri": "https://localhost:8080/"
                },
                "id": "DsX2deolxtI3",
                "outputId": "38355117-e9dc-4d69-ae7f-c139dc08d13e"
            },
            "outputs": [
                {
                    "data": {
                        "text/plain": "2"
                    },
                    "execution_count": 176,
                    "metadata": {
                        "tags": []
                    },
                    "output_type": "execute_result"
                }
            ],
            "source": " U[1,0]"
        },
        {
            "cell_type": "code",
            "execution_count": null,
            "id": "V2G51MXbx4pl",
            "metadata": {
                "colab": {
                    "base_uri": "https://localhost:8080/"
                },
                "id": "V2G51MXbx4pl",
                "outputId": "ce98e280-431d-4ecd-c4e7-59b6ed3174b7"
            },
            "outputs": [
                {
                    "data": {
                        "text/plain": "array([2, 0])"
                    },
                    "execution_count": 177,
                    "metadata": {
                        "tags": []
                    },
                    "output_type": "execute_result"
                }
            ],
            "source": "U[1,0:2]"
        },
        {
            "cell_type": "code",
            "execution_count": null,
            "id": "nIf6sU-_x8Lt",
            "metadata": {
                "colab": {
                    "base_uri": "https://localhost:8080/"
                },
                "id": "nIf6sU-_x8Lt",
                "outputId": "8d97ec0e-7634-4233-d2bd-630f3981687c"
            },
            "outputs": [
                {
                    "data": {
                        "text/plain": "array([[0, 2, 2],\n       [4, 0, 2]])"
                    },
                    "execution_count": 178,
                    "metadata": {
                        "tags": []
                    },
                    "output_type": "execute_result"
                }
            ],
            "source": "# Vector Addition\nU+U"
        },
        {
            "cell_type": "code",
            "execution_count": null,
            "id": "BCE7ixpMx_nV",
            "metadata": {
                "colab": {
                    "base_uri": "https://localhost:8080/"
                },
                "id": "BCE7ixpMx_nV",
                "outputId": "ed43dc90-2b7a-40ee-bd4b-90e3ee44f618"
            },
            "outputs": [
                {
                    "data": {
                        "text/plain": "array([[2, 3, 3],\n       [4, 2, 3]])"
                    },
                    "execution_count": 181,
                    "metadata": {
                        "tags": []
                    },
                    "output_type": "execute_result"
                }
            ],
            "source": "# Scalar Addition\n2+U"
        },
        {
            "cell_type": "code",
            "execution_count": null,
            "id": "VfI04r9fyCDU",
            "metadata": {
                "colab": {
                    "base_uri": "https://localhost:8080/"
                },
                "id": "VfI04r9fyCDU",
                "outputId": "2800bccf-54d6-4229-e1d0-bfb2eb11d01f"
            },
            "outputs": [
                {
                    "data": {
                        "text/plain": "array([[0, 1, 1],\n       [4, 0, 1]])"
                    },
                    "execution_count": 182,
                    "metadata": {
                        "tags": []
                    },
                    "output_type": "execute_result"
                }
            ],
            "source": "# Vector Multiplication\nU*U"
        },
        {
            "cell_type": "code",
            "execution_count": null,
            "id": "L8b2oMchyCth",
            "metadata": {
                "colab": {
                    "base_uri": "https://localhost:8080/"
                },
                "id": "L8b2oMchyCth",
                "outputId": "bca4e4a2-3852-43a0-b226-6d157d9de5bd"
            },
            "outputs": [
                {
                    "data": {
                        "text/plain": "array([[0, 2, 2],\n       [4, 0, 2]])"
                    },
                    "execution_count": 183,
                    "metadata": {
                        "tags": []
                    },
                    "output_type": "execute_result"
                }
            ],
            "source": "# Scalar Multiplication\n2*U"
        },
        {
            "cell_type": "code",
            "execution_count": null,
            "id": "Y_YG-OFQyQlw",
            "metadata": {
                "colab": {
                    "base_uri": "https://localhost:8080/"
                },
                "id": "Y_YG-OFQyQlw",
                "outputId": "d5b3e0d9-180d-41a4-a99a-e77f53199eef"
            },
            "outputs": [
                {
                    "data": {
                        "text/plain": "array([[2, 1],\n       [1, 5]])"
                    },
                    "execution_count": 184,
                    "metadata": {
                        "tags": []
                    },
                    "output_type": "execute_result"
                }
            ],
            "source": "# Dot Product\nU.dot(U.T)"
        },
        {
            "cell_type": "markdown",
            "id": "3-NePvQ1yXr4",
            "metadata": {
                "id": "3-NePvQ1yXr4"
            },
            "source": "Plotting With Numpy"
        },
        {
            "cell_type": "code",
            "execution_count": null,
            "id": "oA8sJ566yUhP",
            "metadata": {
                "id": "oA8sJ566yUhP"
            },
            "outputs": [],
            "source": "import matplotlib.pyplot as plt\n%matplotlib inline"
        },
        {
            "cell_type": "code",
            "execution_count": null,
            "id": "qiLpbYd4ydiu",
            "metadata": {
                "colab": {
                    "base_uri": "https://localhost:8080/",
                    "height": 265
                },
                "id": "qiLpbYd4ydiu",
                "outputId": "c6429a85-a80d-41b8-9920-0bcbce4bcfa7"
            },
            "outputs": [
                {
                    "data": {
                        "image/png": "[encoded data removed]",
                        "text/plain": "<Figure size 432x288 with 1 Axes>"
                    },
                    "metadata": {
                        "needs_background": "light",
                        "tags": []
                    },
                    "output_type": "display_data"
                }
            ],
            "source": "x = np.linspace(0, 2*np.pi, 100)\ny = np.sin(x)\nplt.plot(x,y)\nplt.show()"
        },
        {
            "cell_type": "markdown",
            "id": "OacpyCKt1Woh",
            "metadata": {
                "id": "OacpyCKt1Woh"
            },
            "source": "## **PRACTICE**"
        },
        {
            "cell_type": "markdown",
            "id": "z-P7haYE1ijL",
            "metadata": {
                "id": "z-P7haYE1ijL"
            },
            "source": "# **Simple Data Analysis Using Pandas**\n## 1 Import Library and the data. Check the data using head()"
        },
        {
            "cell_type": "code",
            "execution_count": null,
            "id": "L4F4wvmszOeM",
            "metadata": {
                "colab": {
                    "base_uri": "https://localhost:8080/",
                    "height": 204
                },
                "id": "L4F4wvmszOeM",
                "outputId": "8d1ae465-b730-469c-ba50-7eec1ac21c9f"
            },
            "outputs": [
                {
                    "data": {
                        "text/html": "<div>\n<style scoped>\n    .dataframe tbody tr th:only-of-type {\n        vertical-align: middle;\n    }\n\n    .dataframe tbody tr th {\n        vertical-align: top;\n    }\n\n    .dataframe thead th {\n        text-align: right;\n    }\n</style>\n<table border=\"1\" class=\"dataframe\">\n  <thead>\n    <tr style=\"text-align: right;\">\n      <th></th>\n      <th>Unnamed: 0</th>\n      <th>gender</th>\n      <th>race/ethnicity</th>\n      <th>parental level of education</th>\n      <th>lunch</th>\n      <th>test preparation course</th>\n      <th>math score</th>\n      <th>reading score</th>\n      <th>writing score</th>\n    </tr>\n  </thead>\n  <tbody>\n    <tr>\n      <th>0</th>\n      <td>0</td>\n      <td>female</td>\n      <td>group B</td>\n      <td>bachelor's degree</td>\n      <td>standard</td>\n      <td>none</td>\n      <td>72.0</td>\n      <td>72.0</td>\n      <td>74.0</td>\n    </tr>\n    <tr>\n      <th>1</th>\n      <td>1</td>\n      <td>female</td>\n      <td>group C</td>\n      <td>some college</td>\n      <td>standard</td>\n      <td>completed</td>\n      <td>69.0</td>\n      <td>90.0</td>\n      <td>88.0</td>\n    </tr>\n    <tr>\n      <th>2</th>\n      <td>2</td>\n      <td>female</td>\n      <td>group B</td>\n      <td>master's degree</td>\n      <td>standard</td>\n      <td>none</td>\n      <td>90.0</td>\n      <td>95.0</td>\n      <td>93.0</td>\n    </tr>\n    <tr>\n      <th>3</th>\n      <td>3</td>\n      <td>male</td>\n      <td>group A</td>\n      <td>associate's degree</td>\n      <td>free/reduced</td>\n      <td>none</td>\n      <td>47.0</td>\n      <td>57.0</td>\n      <td>44.0</td>\n    </tr>\n    <tr>\n      <th>4</th>\n      <td>4</td>\n      <td>male</td>\n      <td>group C</td>\n      <td>some college</td>\n      <td>standard</td>\n      <td>none</td>\n      <td>76.0</td>\n      <td>78.0</td>\n      <td>75.0</td>\n    </tr>\n  </tbody>\n</table>\n</div>",
                        "text/plain": "   Unnamed: 0  gender race/ethnicity  ... math score reading score writing score\n0           0  female        group B  ...       72.0          72.0          74.0\n1           1  female        group C  ...       69.0          90.0          88.0\n2           2  female        group B  ...       90.0          95.0          93.0\n3           3    male        group A  ...       47.0          57.0          44.0\n4           4    male        group C  ...       76.0          78.0          75.0\n\n[5 rows x 9 columns]"
                    },
                    "execution_count": 224,
                    "metadata": {
                        "tags": []
                    },
                    "output_type": "execute_result"
                }
            ],
            "source": "import pandas as pd\nimport numpy as np\n\ndf = pd.read_csv('/content/dataset/StudentsScores.csv')\ndf.head()"
        },
        {
            "cell_type": "markdown",
            "id": "B6NKtT7Y1sid",
            "metadata": {
                "id": "B6NKtT7Y1sid"
            },
            "source": "## 2 Show total rows and columns"
        },
        {
            "cell_type": "code",
            "execution_count": null,
            "id": "3YDeCk0C1rUD",
            "metadata": {
                "colab": {
                    "base_uri": "https://localhost:8080/"
                },
                "id": "3YDeCk0C1rUD",
                "outputId": "1a87b90e-362e-448f-a778-1978f3b216ff"
            },
            "outputs": [
                {
                    "data": {
                        "text/plain": "(1000, 9)"
                    },
                    "execution_count": 225,
                    "metadata": {
                        "tags": []
                    },
                    "output_type": "execute_result"
                }
            ],
            "source": "df.shape"
        },
        {
            "cell_type": "markdown",
            "id": "hCC0T_W_2KUG",
            "metadata": {
                "id": "hCC0T_W_2KUG"
            },
            "source": "## 3 Drop Index Column\nCheck the index column and drop the Unnamed collumn index"
        },
        {
            "cell_type": "code",
            "execution_count": null,
            "id": "f5r_6s361-oj",
            "metadata": {
                "colab": {
                    "base_uri": "https://localhost:8080/"
                },
                "id": "f5r_6s361-oj",
                "outputId": "307885f0-0846-4c19-b082-1fec76dbc509"
            },
            "outputs": [
                {
                    "data": {
                        "text/plain": "Index(['Unnamed: 0', 'gender', 'race/ethnicity', 'parental level of education',\n       'lunch', 'test preparation course', 'math score', 'reading score',\n       'writing score'],\n      dtype='object')"
                    },
                    "execution_count": 226,
                    "metadata": {
                        "tags": []
                    },
                    "output_type": "execute_result"
                }
            ],
            "source": "df.columns"
        },
        {
            "cell_type": "code",
            "execution_count": null,
            "id": "Wb-iN8uE4jS1",
            "metadata": {
                "colab": {
                    "base_uri": "https://localhost:8080/",
                    "height": 204
                },
                "id": "Wb-iN8uE4jS1",
                "outputId": "443bb59c-c1cb-470d-ac9c-6984228507d5"
            },
            "outputs": [
                {
                    "data": {
                        "text/html": "<div>\n<style scoped>\n    .dataframe tbody tr th:only-of-type {\n        vertical-align: middle;\n    }\n\n    .dataframe tbody tr th {\n        vertical-align: top;\n    }\n\n    .dataframe thead th {\n        text-align: right;\n    }\n</style>\n<table border=\"1\" class=\"dataframe\">\n  <thead>\n    <tr style=\"text-align: right;\">\n      <th></th>\n      <th>gender</th>\n      <th>race/ethnicity</th>\n      <th>parental level of education</th>\n      <th>lunch</th>\n      <th>test preparation course</th>\n      <th>math score</th>\n      <th>reading score</th>\n      <th>writing score</th>\n    </tr>\n  </thead>\n  <tbody>\n    <tr>\n      <th>0</th>\n      <td>female</td>\n      <td>group B</td>\n      <td>bachelor's degree</td>\n      <td>standard</td>\n      <td>none</td>\n      <td>72.0</td>\n      <td>72.0</td>\n      <td>74.0</td>\n    </tr>\n    <tr>\n      <th>1</th>\n      <td>female</td>\n      <td>group C</td>\n      <td>some college</td>\n      <td>standard</td>\n      <td>completed</td>\n      <td>69.0</td>\n      <td>90.0</td>\n      <td>88.0</td>\n    </tr>\n    <tr>\n      <th>2</th>\n      <td>female</td>\n      <td>group B</td>\n      <td>master's degree</td>\n      <td>standard</td>\n      <td>none</td>\n      <td>90.0</td>\n      <td>95.0</td>\n      <td>93.0</td>\n    </tr>\n    <tr>\n      <th>3</th>\n      <td>male</td>\n      <td>group A</td>\n      <td>associate's degree</td>\n      <td>free/reduced</td>\n      <td>none</td>\n      <td>47.0</td>\n      <td>57.0</td>\n      <td>44.0</td>\n    </tr>\n    <tr>\n      <th>4</th>\n      <td>male</td>\n      <td>group C</td>\n      <td>some college</td>\n      <td>standard</td>\n      <td>none</td>\n      <td>76.0</td>\n      <td>78.0</td>\n      <td>75.0</td>\n    </tr>\n  </tbody>\n</table>\n</div>",
                        "text/plain": "   gender race/ethnicity  ... reading score writing score\n0  female        group B  ...          72.0          74.0\n1  female        group C  ...          90.0          88.0\n2  female        group B  ...          95.0          93.0\n3    male        group A  ...          57.0          44.0\n4    male        group C  ...          78.0          75.0\n\n[5 rows x 8 columns]"
                    },
                    "execution_count": 227,
                    "metadata": {
                        "tags": []
                    },
                    "output_type": "execute_result"
                }
            ],
            "source": "df = df.drop('Unnamed: 0', axis = 1)\ndf.head()"
        },
        {
            "cell_type": "markdown",
            "id": "kZDlSFd22dvI",
            "metadata": {
                "id": "kZDlSFd22dvI"
            },
            "source": "## 4 Check Datatype"
        },
        {
            "cell_type": "code",
            "execution_count": null,
            "id": "hMPt7VsF2ZY1",
            "metadata": {
                "colab": {
                    "base_uri": "https://localhost:8080/"
                },
                "id": "hMPt7VsF2ZY1",
                "outputId": "a998b44f-3124-49dc-b30d-f98c71be5bd5"
            },
            "outputs": [
                {
                    "data": {
                        "text/plain": "gender                          object\nrace/ethnicity                  object\nparental level of education     object\nlunch                           object\ntest preparation course         object\nmath score                     float64\nreading score                  float64\nwriting score                  float64\ndtype: object"
                    },
                    "execution_count": 228,
                    "metadata": {
                        "tags": []
                    },
                    "output_type": "execute_result"
                }
            ],
            "source": "df.dtypes"
        },
        {
            "cell_type": "markdown",
            "id": "VXoOezQx2l8F",
            "metadata": {
                "id": "VXoOezQx2l8F"
            },
            "source": "## 5 Check Missing Value"
        },
        {
            "cell_type": "code",
            "execution_count": null,
            "id": "zfnLRdzR2jEQ",
            "metadata": {
                "colab": {
                    "base_uri": "https://localhost:8080/"
                },
                "id": "zfnLRdzR2jEQ",
                "outputId": "6851e408-1d30-46ba-a518-b5c86049f0a6"
            },
            "outputs": [
                {
                    "data": {
                        "text/plain": "gender                         False\nrace/ethnicity                 False\nparental level of education    False\nlunch                          False\ntest preparation course        False\nmath score                      True\nreading score                   True\nwriting score                   True\ndtype: bool"
                    },
                    "execution_count": 229,
                    "metadata": {
                        "tags": []
                    },
                    "output_type": "execute_result"
                }
            ],
            "source": "df.isnull().any()"
        },
        {
            "cell_type": "markdown",
            "id": "HIqD9CqO2txr",
            "metadata": {
                "id": "HIqD9CqO2txr"
            },
            "source": "There are some missing value, check the number of the missing value"
        },
        {
            "cell_type": "code",
            "execution_count": null,
            "id": "G_4VwhQb2pYN",
            "metadata": {
                "colab": {
                    "base_uri": "https://localhost:8080/"
                },
                "id": "G_4VwhQb2pYN",
                "outputId": "ae4cf3a4-f155-43fa-f4d6-7927d8ddd1af"
            },
            "outputs": [
                {
                    "data": {
                        "text/plain": "reading score                  4\nwriting score                  3\nmath score                     3\ntest preparation course        0\nlunch                          0\nparental level of education    0\nrace/ethnicity                 0\ngender                         0\ndtype: int64"
                    },
                    "execution_count": 230,
                    "metadata": {
                        "tags": []
                    },
                    "output_type": "execute_result"
                }
            ],
            "source": "df.isnull().sum().sort_values(ascending=False)"
        },
        {
            "cell_type": "markdown",
            "id": "ygd7Cghw28ct",
            "metadata": {
                "id": "ygd7Cghw28ct"
            },
            "source": "## 6 Fill missing value with 0\nNot using column name will replace all Missing value in df_selected"
        },
        {
            "cell_type": "code",
            "execution_count": null,
            "id": "7I2qJlNv2yX5",
            "metadata": {
                "id": "7I2qJlNv2yX5"
            },
            "outputs": [],
            "source": "df = df.replace(np.nan, 0)"
        },
        {
            "cell_type": "markdown",
            "id": "haw22cUL3B7H",
            "metadata": {
                "id": "haw22cUL3B7H"
            },
            "source": "Check again"
        },
        {
            "cell_type": "code",
            "execution_count": null,
            "id": "jYQSrROR236A",
            "metadata": {
                "colab": {
                    "base_uri": "https://localhost:8080/"
                },
                "id": "jYQSrROR236A",
                "outputId": "9552bc73-e501-4f89-d3c2-6029e6b1f9e1"
            },
            "outputs": [
                {
                    "data": {
                        "text/plain": "gender                         False\nrace/ethnicity                 False\nparental level of education    False\nlunch                          False\ntest preparation course        False\nmath score                     False\nreading score                  False\nwriting score                  False\ntotal score                    False\ndtype: bool"
                    },
                    "execution_count": 234,
                    "metadata": {
                        "tags": []
                    },
                    "output_type": "execute_result"
                }
            ],
            "source": "df.isnull().any()"
        },
        {
            "cell_type": "markdown",
            "id": "o6-MSPvu3HxF",
            "metadata": {
                "id": "o6-MSPvu3HxF"
            },
            "source": "## 7 Crate New Column \"Total Score\""
        },
        {
            "cell_type": "code",
            "execution_count": null,
            "id": "ZhVLfE6R3D4_",
            "metadata": {
                "id": "ZhVLfE6R3D4_"
            },
            "outputs": [],
            "source": "df['total score'] = df['math score'] + df['reading score'] + df['writing score']"
        },
        {
            "cell_type": "code",
            "execution_count": null,
            "id": "_KPBBsSU3K3J",
            "metadata": {
                "colab": {
                    "base_uri": "https://localhost:8080/",
                    "height": 204
                },
                "id": "_KPBBsSU3K3J",
                "outputId": "97a33217-684f-4cf5-c097-ca478adc8d10"
            },
            "outputs": [
                {
                    "data": {
                        "text/html": "<div>\n<style scoped>\n    .dataframe tbody tr th:only-of-type {\n        vertical-align: middle;\n    }\n\n    .dataframe tbody tr th {\n        vertical-align: top;\n    }\n\n    .dataframe thead th {\n        text-align: right;\n    }\n</style>\n<table border=\"1\" class=\"dataframe\">\n  <thead>\n    <tr style=\"text-align: right;\">\n      <th></th>\n      <th>gender</th>\n      <th>race/ethnicity</th>\n      <th>parental level of education</th>\n      <th>lunch</th>\n      <th>test preparation course</th>\n      <th>math score</th>\n      <th>reading score</th>\n      <th>writing score</th>\n      <th>total score</th>\n    </tr>\n  </thead>\n  <tbody>\n    <tr>\n      <th>0</th>\n      <td>female</td>\n      <td>group B</td>\n      <td>bachelor's degree</td>\n      <td>standard</td>\n      <td>none</td>\n      <td>72.0</td>\n      <td>72.0</td>\n      <td>74.0</td>\n      <td>218.0</td>\n    </tr>\n    <tr>\n      <th>1</th>\n      <td>female</td>\n      <td>group C</td>\n      <td>some college</td>\n      <td>standard</td>\n      <td>completed</td>\n      <td>69.0</td>\n      <td>90.0</td>\n      <td>88.0</td>\n      <td>247.0</td>\n    </tr>\n    <tr>\n      <th>2</th>\n      <td>female</td>\n      <td>group B</td>\n      <td>master's degree</td>\n      <td>standard</td>\n      <td>none</td>\n      <td>90.0</td>\n      <td>95.0</td>\n      <td>93.0</td>\n      <td>278.0</td>\n    </tr>\n    <tr>\n      <th>3</th>\n      <td>male</td>\n      <td>group A</td>\n      <td>associate's degree</td>\n      <td>free/reduced</td>\n      <td>none</td>\n      <td>47.0</td>\n      <td>57.0</td>\n      <td>44.0</td>\n      <td>148.0</td>\n    </tr>\n    <tr>\n      <th>4</th>\n      <td>male</td>\n      <td>group C</td>\n      <td>some college</td>\n      <td>standard</td>\n      <td>none</td>\n      <td>76.0</td>\n      <td>78.0</td>\n      <td>75.0</td>\n      <td>229.0</td>\n    </tr>\n  </tbody>\n</table>\n</div>",
                        "text/plain": "   gender race/ethnicity  ... writing score total score\n0  female        group B  ...          74.0       218.0\n1  female        group C  ...          88.0       247.0\n2  female        group B  ...          93.0       278.0\n3    male        group A  ...          44.0       148.0\n4    male        group C  ...          75.0       229.0\n\n[5 rows x 9 columns]"
                    },
                    "execution_count": 236,
                    "metadata": {
                        "tags": []
                    },
                    "output_type": "execute_result"
                }
            ],
            "source": "df.head()"
        },
        {
            "cell_type": "markdown",
            "id": "dAwoX2883Ubg",
            "metadata": {
                "id": "dAwoX2883Ubg"
            },
            "source": "## 8 Show statistical using describe"
        },
        {
            "cell_type": "code",
            "execution_count": null,
            "id": "dHiYsRBC3M6Z",
            "metadata": {
                "colab": {
                    "base_uri": "https://localhost:8080/",
                    "height": 297
                },
                "id": "dHiYsRBC3M6Z",
                "outputId": "5c7afd52-8883-45de-a1a3-508ce75e74ea"
            },
            "outputs": [
                {
                    "data": {
                        "text/html": "<div>\n<style scoped>\n    .dataframe tbody tr th:only-of-type {\n        vertical-align: middle;\n    }\n\n    .dataframe tbody tr th {\n        vertical-align: top;\n    }\n\n    .dataframe thead th {\n        text-align: right;\n    }\n</style>\n<table border=\"1\" class=\"dataframe\">\n  <thead>\n    <tr style=\"text-align: right;\">\n      <th></th>\n      <th>math score</th>\n      <th>reading score</th>\n      <th>writing score</th>\n      <th>total score</th>\n    </tr>\n  </thead>\n  <tbody>\n    <tr>\n      <th>count</th>\n      <td>1000.000000</td>\n      <td>1000.000000</td>\n      <td>1000.000000</td>\n      <td>1000.000000</td>\n    </tr>\n    <tr>\n      <th>mean</th>\n      <td>65.919000</td>\n      <td>68.932000</td>\n      <td>67.861000</td>\n      <td>202.712000</td>\n    </tr>\n    <tr>\n      <th>std</th>\n      <td>15.568906</td>\n      <td>15.165004</td>\n      <td>15.634517</td>\n      <td>43.371421</td>\n    </tr>\n    <tr>\n      <th>min</th>\n      <td>0.000000</td>\n      <td>0.000000</td>\n      <td>0.000000</td>\n      <td>27.000000</td>\n    </tr>\n    <tr>\n      <th>25%</th>\n      <td>57.000000</td>\n      <td>59.000000</td>\n      <td>57.000000</td>\n      <td>173.000000</td>\n    </tr>\n    <tr>\n      <th>50%</th>\n      <td>66.000000</td>\n      <td>70.000000</td>\n      <td>69.000000</td>\n      <td>205.000000</td>\n    </tr>\n    <tr>\n      <th>75%</th>\n      <td>77.000000</td>\n      <td>79.000000</td>\n      <td>79.000000</td>\n      <td>233.000000</td>\n    </tr>\n    <tr>\n      <th>max</th>\n      <td>100.000000</td>\n      <td>100.000000</td>\n      <td>100.000000</td>\n      <td>300.000000</td>\n    </tr>\n  </tbody>\n</table>\n</div>",
                        "text/plain": "        math score  reading score  writing score  total score\ncount  1000.000000    1000.000000    1000.000000  1000.000000\nmean     65.919000      68.932000      67.861000   202.712000\nstd      15.568906      15.165004      15.634517    43.371421\nmin       0.000000       0.000000       0.000000    27.000000\n25%      57.000000      59.000000      57.000000   173.000000\n50%      66.000000      70.000000      69.000000   205.000000\n75%      77.000000      79.000000      79.000000   233.000000\nmax     100.000000     100.000000     100.000000   300.000000"
                    },
                    "execution_count": 237,
                    "metadata": {
                        "tags": []
                    },
                    "output_type": "execute_result"
                }
            ],
            "source": "df.describe()"
        },
        {
            "cell_type": "markdown",
            "id": "5rX_HeFq3kJ-",
            "metadata": {
                "id": "5rX_HeFq3kJ-"
            },
            "source": "## 9 Bar chart for \u201cparental level of education\u201d vs \u201ctotal students"
        },
        {
            "cell_type": "code",
            "execution_count": null,
            "id": "6KTFQsJB3ir2",
            "metadata": {
                "id": "6KTFQsJB3ir2"
            },
            "outputs": [],
            "source": "import matplotlib.pyplot as plt\n%matplotlib inline"
        },
        {
            "cell_type": "code",
            "execution_count": null,
            "id": "RmnRIt-b3upS",
            "metadata": {
                "id": "RmnRIt-b3upS"
            },
            "outputs": [],
            "source": "series = df.groupby(['parental level of education'])[\"gender\"].count()"
        },
        {
            "cell_type": "code",
            "execution_count": null,
            "id": "GZAnVFbI3waz",
            "metadata": {
                "colab": {
                    "base_uri": "https://localhost:8080/",
                    "height": 363
                },
                "id": "GZAnVFbI3waz",
                "outputId": "c19cee93-d6bd-4ded-fd4a-962573d959b3"
            },
            "outputs": [
                {
                    "data": {
                        "image/png": "[encoded data removed]",
                        "text/plain": "<Figure size 432x288 with 1 Axes>"
                    },
                    "metadata": {
                        "needs_background": "light",
                        "tags": []
                    },
                    "output_type": "display_data"
                }
            ],
            "source": "series.plot.bar()\nplt.ylabel(\"Total Student\")\nplt.show()"
        }
    ],
    "metadata": {
        "colab": {
            "collapsed_sections": [],
            "name": "10 AYA ANISA DWINIDASARI.ipynb",
            "provenance": []
        },
        "kernelspec": {
            "display_name": "Python 3",
            "language": "python",
            "name": "python3"
        },
        "language_info": {
            "codemirror_mode": {
                "name": "ipython",
                "version": 3
            },
            "file_extension": ".py",
            "mimetype": "text/x-python",
            "name": "python",
            "nbconvert_exporter": "python",
            "pygments_lexer": "ipython3",
            "version": "3.8.8"
        }
    },
    "nbformat": 4,
    "nbformat_minor": 5
}