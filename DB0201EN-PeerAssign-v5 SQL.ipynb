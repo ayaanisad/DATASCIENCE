{
    "cells": [
        {
            "cell_type": "markdown",
            "metadata": {},
            "source": "<center>\n    <img src=\"https://s3-api.us-geo.objectstorage.softlayer.net/cf-courses-data/CognitiveClass/Logos/organization_logo/organization_logo.png\" width=\"300\" alt=\"cognitiveclass.ai logo\"  />\n</center>\n\n<h1 align=center><font size = 5>Assignment: Notebook for Peer Assignment</font></h1>\n"
        },
        {
            "cell_type": "markdown",
            "metadata": {},
            "source": "# Introduction\n\nUsing this Python notebook you will:\n\n1.  Understand three Chicago datasets\n2.  Load the three datasets into three tables in a Db2 database\n3.  Execute SQL queries to answer assignment questions\n"
        },
        {
            "cell_type": "markdown",
            "metadata": {},
            "source": "## Understand the datasets\n\nTo complete the assignment problems in this notebook you will be using three datasets that are available on the city of Chicago's Data Portal:\n\n1.  <a href=\"https://data.cityofchicago.org/Health-Human-Services/Census-Data-Selected-socioeconomic-indicators-in-C/kn9c-c2s2?utm_medium=Exinfluencer&utm_source=Exinfluencer&utm_content=000026UJ&utm_term=10006555&utm_id=NA-SkillsNetwork-Channel-SkillsNetworkCoursesIBMDeveloperSkillsNetworkDB0201ENSkillsNetwork20127838-2021-01-01\">Socioeconomic Indicators in Chicago</a>\n2.  <a href=\"https://data.cityofchicago.org/Education/Chicago-Public-Schools-Progress-Report-Cards-2011-/9xs2-f89t?utm_medium=Exinfluencer&utm_source=Exinfluencer&utm_content=000026UJ&utm_term=10006555&utm_id=NA-SkillsNetwork-Channel-SkillsNetworkCoursesIBMDeveloperSkillsNetworkDB0201ENSkillsNetwork20127838-2021-01-01\">Chicago Public Schools</a>\n3.  <a href=\"https://data.cityofchicago.org/Public-Safety/Crimes-2001-to-present/ijzp-q8t2?utm_medium=Exinfluencer&utm_source=Exinfluencer&utm_content=000026UJ&utm_term=10006555&utm_id=NA-SkillsNetwork-Channel-SkillsNetworkCoursesIBMDeveloperSkillsNetworkDB0201ENSkillsNetwork20127838-2021-01-01\">Chicago Crime Data</a>\n\n### 1. Socioeconomic Indicators in Chicago\n\nThis dataset contains a selection of six socioeconomic indicators of public health significance and a \u201chardship index,\u201d for each Chicago community area, for the years 2008 \u2013 2012.\n\nA detailed description of this dataset and the original dataset can be obtained from the Chicago Data Portal at:\n[https://data.cityofchicago.org/Health-Human-Services/Census-Data-Selected-socioeconomic-indicators-in-C/kn9c-c2s2](https://data.cityofchicago.org/Health-Human-Services/Census-Data-Selected-socioeconomic-indicators-in-C/kn9c-c2s2?utm_medium=Exinfluencer\\&utm_source=Exinfluencer\\&utm_content=000026UJ\\&utm_term=10006555\\&utm_id=NA-SkillsNetwork-Channel-SkillsNetworkCoursesIBMDeveloperSkillsNetworkDB0201ENSkillsNetwork20127838-2021-01-01\\&cm_mmc=Email_Newsletter-\\_-Developer_Ed%2BTech-\\_-WW_WW-\\_-SkillsNetwork-Courses-IBMDeveloperSkillsNetwork-DB0201EN-SkillsNetwork-20127838\\&cm_mmca1=000026UJ\\&cm_mmca2=10006555\\&cm_mmca3=M12345678\\&cvosrc=email.Newsletter.M12345678\\&cvo_campaign=000026UJ)\n\n### 2. Chicago Public Schools\n\nThis dataset shows all school level performance data used to create CPS School Report Cards for the 2011-2012 school year. This dataset is provided by the city of Chicago's Data Portal.\n\nA detailed description of this dataset and the original dataset can be obtained from the Chicago Data Portal at:\n[https://data.cityofchicago.org/Education/Chicago-Public-Schools-Progress-Report-Cards-2011-/9xs2-f89t](https://data.cityofchicago.org/Education/Chicago-Public-Schools-Progress-Report-Cards-2011-/9xs2-f89t?utm_medium=Exinfluencer\\&utm_source=Exinfluencer\\&utm_content=000026UJ\\&utm_term=10006555\\&utm_id=NA-SkillsNetwork-Channel-SkillsNetworkCoursesIBMDeveloperSkillsNetworkDB0201ENSkillsNetwork20127838-2021-01-01\\&cm_mmc=Email_Newsletter-\\_-Developer_Ed%2BTech-\\_-WW_WW-\\_-SkillsNetwork-Courses-IBMDeveloperSkillsNetwork-DB0201EN-SkillsNetwork-20127838\\&cm_mmca1=000026UJ\\&cm_mmca2=10006555\\&cm_mmca3=M12345678\\&cvosrc=email.Newsletter.M12345678\\&cvo_campaign=000026UJ)\n\n### 3. Chicago Crime Data\n\nThis dataset reflects reported incidents of crime (with the exception of murders where data exists for each victim) that occurred in the City of Chicago from 2001 to present, minus the most recent seven days.\n\nA detailed description of this dataset and the original dataset can be obtained from the Chicago Data Portal at:\n[https://data.cityofchicago.org/Public-Safety/Crimes-2001-to-present/ijzp-q8t2](https://data.cityofchicago.org/Public-Safety/Crimes-2001-to-present/ijzp-q8t2?utm_medium=Exinfluencer\\&utm_source=Exinfluencer\\&utm_content=000026UJ\\&utm_term=10006555\\&utm_id=NA-SkillsNetwork-Channel-SkillsNetworkCoursesIBMDeveloperSkillsNetworkDB0201ENSkillsNetwork20127838-2021-01-01\\&cm_mmc=Email_Newsletter-\\_-Developer_Ed%2BTech-\\_-WW_WW-\\_-SkillsNetwork-Courses-IBMDeveloperSkillsNetwork-DB0201EN-SkillsNetwork-20127838\\&cm_mmca1=000026UJ\\&cm_mmca2=10006555\\&cm_mmca3=M12345678\\&cvosrc=email.Newsletter.M12345678\\&cvo_campaign=000026UJ)\n"
        },
        {
            "cell_type": "markdown",
            "metadata": {},
            "source": "### Download the datasets\n\nThis assignment requires you to have these three tables populated with a subset of the whole datasets.\n\nIn many cases the dataset to be analyzed is available as a .CSV (comma separated values) file, perhaps on the internet. Click on the links below to download and save the datasets (.CSV files):\n\n*   <a href=\"https://cf-courses-data.s3.us.cloud-object-storage.appdomain.cloud/IBMDeveloperSkillsNetwork-DB0201EN-SkillsNetwork/labs/FinalModule_Coursera_V5/data/ChicagoCensusData.csv?utm_medium=Exinfluencer&utm_source=Exinfluencer&utm_content=000026UJ&utm_term=10006555&utm_id=NA-SkillsNetwork-Channel-SkillsNetworkCoursesIBMDeveloperSkillsNetworkDB0201ENSkillsNetwork20127838-2021-01-01\" target=\"_blank\">Chicago Census Data</a>\n\n*   <a href=\"https://cf-courses-data.s3.us.cloud-object-storage.appdomain.cloud/IBMDeveloperSkillsNetwork-DB0201EN-SkillsNetwork/labs/FinalModule_Coursera_V5/data/ChicagoPublicSchools.csv?utm_medium=Exinfluencer&utm_source=Exinfluencer&utm_content=000026UJ&utm_term=10006555&utm_id=NA-SkillsNetwork-Channel-SkillsNetworkCoursesIBMDeveloperSkillsNetworkDB0201ENSkillsNetwork20127838-2021-01-01\" target=\"_blank\">Chicago Public Schools</a>\n\n*   <a href=\"https://cf-courses-data.s3.us.cloud-object-storage.appdomain.cloud/IBMDeveloperSkillsNetwork-DB0201EN-SkillsNetwork/labs/FinalModule_Coursera_V5/data/ChicagoCrimeData.csv?utm_medium=Exinfluencer&utm_source=Exinfluencer&utm_content=000026UJ&utm_term=10006555&utm_id=NA-SkillsNetwork-Channel-SkillsNetworkCoursesIBMDeveloperSkillsNetworkDB0201ENSkillsNetwork20127838-2021-01-01\" target=\"_blank\">Chicago Crime Data</a>\n\n**NOTE:** Ensure you have downloaded the datasets using the links above instead of directly from the Chicago Data Portal. The versions linked here are subsets of the original datasets and have some of the column names modified to be more database friendly which will make it easier to complete this assignment.\n"
        },
        {
            "cell_type": "markdown",
            "metadata": {},
            "source": "### Store the datasets in database tables\n\nTo analyze the data using SQL, it first needs to be stored in the database.\n\nWhile it is easier to read the dataset into a Pandas dataframe and then PERSIST it into the database as we saw in Week 3 Lab 3, it results in mapping to default datatypes which may not be optimal for SQL querying. For example a long textual field may map to a CLOB instead of a VARCHAR.\n\nTherefore, **it is highly recommended to manually load the table using the database console LOAD tool, as indicated in Week 2 Lab 1 Part II**. The only difference with that lab is that in Step 5 of the instructions you will need to click on create \"(+) New Table\" and specify the name of the table you want to create and then click \"Next\".\n\n<img src = \"https://cf-courses-data.s3.us.cloud-object-storage.appdomain.cloud/IBMDeveloperSkillsNetwork-DB0201EN-SkillsNetwork/labs/FinalModule_Coursera_V5/images/LoadingData.png\">\n\n##### Now open the Db2 console, open the LOAD tool, Select / Drag the .CSV file for the first dataset, Next create a New Table, and then follow the steps on-screen instructions to load the data. Name the new tables as follows:\n\n1.  **CENSUS_DATA**\n2.  **CHICAGO_PUBLIC_SCHOOLS**\n3.  **CHICAGO_CRIME_DATA**\n"
        },
        {
            "cell_type": "markdown",
            "metadata": {},
            "source": "### Connect to the database\n\nLet us first load the SQL extension and establish a connection with the database\n"
        },
        {
            "cell_type": "code",
            "execution_count": 1,
            "metadata": {},
            "outputs": [
                {
                    "name": "stdout",
                    "output_type": "stream",
                    "text": "Requirement already satisfied: sqlalchemy==1.3.9 in /home/jupyterlab/conda/envs/python/lib/python3.6/site-packages (1.3.9)\nRequirement already satisfied: ibm_db_sa in /home/jupyterlab/conda/envs/python/lib/python3.6/site-packages (0.3.3)\nRequirement already satisfied: sqlalchemy>=0.7.3 in /home/jupyterlab/conda/envs/python/lib/python3.6/site-packages (from ibm_db_sa) (1.3.9)\n"
                }
            ],
            "source": "!pip install sqlalchemy==1.3.9\n!pip install ibm_db_sa"
        },
        {
            "cell_type": "code",
            "execution_count": 2,
            "metadata": {},
            "outputs": [],
            "source": "%load_ext sql"
        },
        {
            "cell_type": "markdown",
            "metadata": {},
            "source": "In the next cell enter your db2 connection string. Recall you created Service Credentials for your Db2 instance in first lab in Week 3. From your Db2 service credentials copy everything after db2:// (except the double quote at the end) and paste it in the cell below after ibm_db_sa://\n\n<img src =\"https://cf-courses-data.s3.us.cloud-object-storage.appdomain.cloud/IBMDeveloperSkillsNetwork-DB0201EN-SkillsNetwork/labs/FinalModule_Coursera_V5/images/details.png\">\n"
        },
        {
            "cell_type": "code",
            "execution_count": 3,
            "metadata": {},
            "outputs": [
                {
                    "data": {
                        "text/plain": "'Connected: nly36207@BLUDB'"
                    },
                    "execution_count": 3,
                    "metadata": {},
                    "output_type": "execute_result"
                }
            ],
            "source": "# Remember the connection string is of the format:\n# %sql ibm_db_sa://my-username:my-password@my-hostname:my-port/my-db-name?security=SSL\n# Enter the connection string for your Db2 on Cloud database instance below\n%sql ibm_db_sa://nly36207:D4knTRHzEkcPjD9W@0c77d6f2-5da9-48a9-81f8-86b520b87518.bs2io90l08kqb1od8lcg.databases.appdomain.cloud:31198/BLUDB?security=SSL\n# Note the ibm_db_sa:// prefix instead of db2://"
        },
        {
            "cell_type": "markdown",
            "metadata": {},
            "source": "## Problems\n\nNow write and execute SQL queries to solve assignment problems\n\n### Problem 1\n\n##### Find the total number of crimes recorded in the CRIME table.\n"
        },
        {
            "cell_type": "code",
            "execution_count": 6,
            "metadata": {},
            "outputs": [
                {
                    "name": "stdout",
                    "output_type": "stream",
                    "text": " * ibm_db_sa://nly36207:***@0c77d6f2-5da9-48a9-81f8-86b520b87518.bs2io90l08kqb1od8lcg.databases.appdomain.cloud:31198/BLUDB\nDone.\n"
                },
                {
                    "data": {
                        "text/html": "<table>\n    <thead>\n        <tr>\n            <th>total_number_of_crimes</th>\n        </tr>\n    </thead>\n    <tbody>\n        <tr>\n            <td>533</td>\n        </tr>\n    </tbody>\n</table>",
                        "text/plain": "[(533,)]"
                    },
                    "execution_count": 6,
                    "metadata": {},
                    "output_type": "execute_result"
                }
            ],
            "source": "%sql SELECT COUNT(*) AS total_number_of_crimes  FROM CHICAGO_CRIME_DATA;"
        },
        {
            "cell_type": "markdown",
            "metadata": {},
            "source": "### Problem 2\n\n##### List community areas with per capita income less than 11000.\n"
        },
        {
            "cell_type": "code",
            "execution_count": 8,
            "metadata": {},
            "outputs": [
                {
                    "name": "stdout",
                    "output_type": "stream",
                    "text": " * ibm_db_sa://nly36207:***@0c77d6f2-5da9-48a9-81f8-86b520b87518.bs2io90l08kqb1od8lcg.databases.appdomain.cloud:31198/BLUDB\nDone.\n"
                },
                {
                    "data": {
                        "text/html": "<table>\n    <thead>\n        <tr>\n            <th>community_area_name</th>\n            <th>per_capita_income</th>\n        </tr>\n    </thead>\n    <tbody>\n        <tr>\n            <td>West Garfield Park</td>\n            <td>10934</td>\n        </tr>\n        <tr>\n            <td>South Lawndale</td>\n            <td>10402</td>\n        </tr>\n        <tr>\n            <td>Fuller Park</td>\n            <td>10432</td>\n        </tr>\n        <tr>\n            <td>Riverdale</td>\n            <td>8201</td>\n        </tr>\n    </tbody>\n</table>",
                        "text/plain": "[('West Garfield Park', 10934),\n ('South Lawndale', 10402),\n ('Fuller Park', 10432),\n ('Riverdale', 8201)]"
                    },
                    "execution_count": 8,
                    "metadata": {},
                    "output_type": "execute_result"
                }
            ],
            "source": "%%sql select COMMUNITY_AREA_NAME, PER_CAPITA_INCOME from CENSUS_DATA\nwhere PER_CAPITA_INCOME < 11000;"
        },
        {
            "cell_type": "markdown",
            "metadata": {},
            "source": "### Problem 3\n\n##### List all case numbers for crimes  involving minors?(children are not considered minors for the purposes of crime analysis)\n"
        },
        {
            "cell_type": "code",
            "execution_count": 15,
            "metadata": {},
            "outputs": [
                {
                    "name": "stdout",
                    "output_type": "stream",
                    "text": " * ibm_db_sa://nly36207:***@0c77d6f2-5da9-48a9-81f8-86b520b87518.bs2io90l08kqb1od8lcg.databases.appdomain.cloud:31198/BLUDB\nDone.\n"
                },
                {
                    "data": {
                        "text/html": "<table>\n    <thead>\n        <tr>\n            <th>case_number</th>\n            <th>description</th>\n        </tr>\n    </thead>\n    <tbody>\n        <tr>\n            <td>HL266884</td>\n            <td>SELL/GIVE/DEL LIQUOR TO MINOR</td>\n        </tr>\n        <tr>\n            <td>HK238408</td>\n            <td>ILLEGAL CONSUMPTION BY MINOR</td>\n        </tr>\n    </tbody>\n</table>",
                        "text/plain": "[('HL266884', 'SELL/GIVE/DEL LIQUOR TO MINOR'),\n ('HK238408', 'ILLEGAL CONSUMPTION BY MINOR')]"
                    },
                    "execution_count": 15,
                    "metadata": {},
                    "output_type": "execute_result"
                }
            ],
            "source": "%sql select CASE_NUMBER, DESCRIPTION from CHICAGO_CRIME_DATA where DESCRIPTION LIKE '%MINOR%';\n"
        },
        {
            "cell_type": "markdown",
            "metadata": {},
            "source": "### Problem 4\n\n##### List all kidnapping crimes involving a child?\n"
        },
        {
            "cell_type": "code",
            "execution_count": 17,
            "metadata": {},
            "outputs": [
                {
                    "name": "stdout",
                    "output_type": "stream",
                    "text": " * ibm_db_sa://nly36207:***@0c77d6f2-5da9-48a9-81f8-86b520b87518.bs2io90l08kqb1od8lcg.databases.appdomain.cloud:31198/BLUDB\nDone.\n"
                },
                {
                    "data": {
                        "text/html": "<table>\n    <thead>\n        <tr>\n            <th>id</th>\n            <th>case_number</th>\n            <th>DATE</th>\n            <th>block</th>\n            <th>iucr</th>\n            <th>primary_type</th>\n            <th>description</th>\n            <th>location_description</th>\n            <th>arrest</th>\n            <th>domestic</th>\n            <th>beat</th>\n            <th>district</th>\n            <th>ward</th>\n            <th>community_area_number</th>\n            <th>fbicode</th>\n            <th>x_coordinate</th>\n            <th>y_coordinate</th>\n            <th>YEAR</th>\n            <th>latitude</th>\n            <th>longitude</th>\n            <th>location</th>\n        </tr>\n    </thead>\n    <tbody>\n        <tr>\n            <td>5276766</td>\n            <td>HN144152</td>\n            <td>2007-01-26</td>\n            <td>050XX W VAN BUREN ST</td>\n            <td>1792</td>\n            <td>KIDNAPPING</td>\n            <td>CHILD ABDUCTION/STRANGER</td>\n            <td>STREET</td>\n            <td>FALSE</td>\n            <td>FALSE</td>\n            <td>1533</td>\n            <td>15</td>\n            <td>29</td>\n            <td>25</td>\n            <td>20</td>\n            <td>1143050</td>\n            <td>1897546</td>\n            <td>2007</td>\n            <td>41.87490841</td>\n            <td>-87.75024931</td>\n            <td>(41.874908413, -87.750249307)</td>\n        </tr>\n    </tbody>\n</table>",
                        "text/plain": "[(5276766, 'HN144152', datetime.date(2007, 1, 26), '050XX W VAN BUREN ST', '1792', 'KIDNAPPING', 'CHILD ABDUCTION/STRANGER', 'STREET', 'FALSE', 'FALSE', 1533, 15, 29, 25, '20', 1143050, 1897546, 2007, Decimal('41.87490841'), Decimal('-87.75024931'), '(41.874908413, -87.750249307)')]"
                    },
                    "execution_count": 17,
                    "metadata": {},
                    "output_type": "execute_result"
                }
            ],
            "source": "%%sql select * from CHICAGO_CRIME_DATA\nwhere PRIMARY_TYPE = 'KIDNAPPING'\nAnd DESCRIPTION LIKE '%CHILD%';"
        },
        {
            "cell_type": "markdown",
            "metadata": {},
            "source": "### Problem 5\n\n##### What kinds of crimes were recorded at schools?\n"
        },
        {
            "cell_type": "code",
            "execution_count": 20,
            "metadata": {},
            "outputs": [
                {
                    "name": "stdout",
                    "output_type": "stream",
                    "text": " * ibm_db_sa://nly36207:***@0c77d6f2-5da9-48a9-81f8-86b520b87518.bs2io90l08kqb1od8lcg.databases.appdomain.cloud:31198/BLUDB\nDone.\n"
                },
                {
                    "data": {
                        "text/html": "<table>\n    <thead>\n        <tr>\n            <th>type_of_crime</th>\n            <th>location_description</th>\n        </tr>\n    </thead>\n    <tbody>\n        <tr>\n            <td>PUBLIC PEACE VI</td>\n            <td>SCHOOL, PRIVATE, BUILDING</td>\n        </tr>\n        <tr>\n            <td>BATTERY</td>\n            <td>SCHOOL, PUBLIC, BUILDING</td>\n        </tr>\n        <tr>\n            <td>NARCOTICS</td>\n            <td>SCHOOL, PUBLIC, BUILDING</td>\n        </tr>\n        <tr>\n            <td>PUBLIC PEACE VI</td>\n            <td>SCHOOL, PUBLIC, BUILDING</td>\n        </tr>\n        <tr>\n            <td>ASSAULT</td>\n            <td>SCHOOL, PUBLIC, GROUNDS</td>\n        </tr>\n        <tr>\n            <td>BATTERY</td>\n            <td>SCHOOL, PUBLIC, GROUNDS</td>\n        </tr>\n        <tr>\n            <td>CRIMINAL DAMAGE</td>\n            <td>SCHOOL, PUBLIC, GROUNDS</td>\n        </tr>\n        <tr>\n            <td>CRIMINAL TRESPA</td>\n            <td>SCHOOL, PUBLIC, GROUNDS</td>\n        </tr>\n        <tr>\n            <td>NARCOTICS</td>\n            <td>SCHOOL, PUBLIC, GROUNDS</td>\n        </tr>\n    </tbody>\n</table>",
                        "text/plain": "[('PUBLIC PEACE VI', 'SCHOOL, PRIVATE, BUILDING'),\n ('BATTERY', 'SCHOOL, PUBLIC, BUILDING'),\n ('NARCOTICS', 'SCHOOL, PUBLIC, BUILDING'),\n ('PUBLIC PEACE VI', 'SCHOOL, PUBLIC, BUILDING'),\n ('ASSAULT', 'SCHOOL, PUBLIC, GROUNDS'),\n ('BATTERY', 'SCHOOL, PUBLIC, GROUNDS'),\n ('CRIMINAL DAMAGE', 'SCHOOL, PUBLIC, GROUNDS'),\n ('CRIMINAL TRESPA', 'SCHOOL, PUBLIC, GROUNDS'),\n ('NARCOTICS', 'SCHOOL, PUBLIC, GROUNDS')]"
                    },
                    "execution_count": 20,
                    "metadata": {},
                    "output_type": "execute_result"
                }
            ],
            "source": "%sql SELECT DISTINCT PRIMARY_TYPE AS TYPE_OF_CRIME, LOCATION_DESCRIPTION  FROM CHICAGO_CRIME_DATA \\\nWHERE LOCATION_DESCRIPTION LIKE '%SCHOOL%';"
        },
        {
            "cell_type": "markdown",
            "metadata": {},
            "source": "### Problem 6\n\n##### List the average safety score for all types of schools.\n"
        },
        {
            "cell_type": "code",
            "execution_count": 27,
            "metadata": {},
            "outputs": [
                {
                    "name": "stdout",
                    "output_type": "stream",
                    "text": " * ibm_db_sa://nly36207:***@0c77d6f2-5da9-48a9-81f8-86b520b87518.bs2io90l08kqb1od8lcg.databases.appdomain.cloud:31198/BLUDB\nDone.\n"
                },
                {
                    "data": {
                        "text/html": "<table>\n    <thead>\n        <tr>\n            <th>avg_safety_score_all_schooltype</th>\n        </tr>\n    </thead>\n    <tbody>\n        <tr>\n            <td>49</td>\n        </tr>\n    </tbody>\n</table>",
                        "text/plain": "[(49,)]"
                    },
                    "execution_count": 27,
                    "metadata": {},
                    "output_type": "execute_result"
                }
            ],
            "source": "%sql select AVG(SAFETY_SCORE) AS AVG_SAFETY_SCORE_ALL_SCHOOLTYPE from CHICAGO_PUBLIC_SCHOOLS;"
        },
        {
            "cell_type": "markdown",
            "metadata": {},
            "source": "**List of Average Safety Score for EACH types of schools**"
        },
        {
            "cell_type": "code",
            "execution_count": 32,
            "metadata": {},
            "outputs": [
                {
                    "name": "stdout",
                    "output_type": "stream",
                    "text": " * ibm_db_sa://nly36207:***@0c77d6f2-5da9-48a9-81f8-86b520b87518.bs2io90l08kqb1od8lcg.databases.appdomain.cloud:31198/BLUDB\nDone.\n"
                },
                {
                    "data": {
                        "text/html": "<table>\n    <thead>\n        <tr>\n            <th>types_of_schools</th>\n            <th>avg_safety_score</th>\n        </tr>\n    </thead>\n    <tbody>\n        <tr>\n            <td>ES</td>\n            <td>49</td>\n        </tr>\n        <tr>\n            <td>HS</td>\n            <td>49</td>\n        </tr>\n        <tr>\n            <td>MS</td>\n            <td>48</td>\n        </tr>\n    </tbody>\n</table>",
                        "text/plain": "[('ES', 49), ('HS', 49), ('MS', 48)]"
                    },
                    "execution_count": 32,
                    "metadata": {},
                    "output_type": "execute_result"
                }
            ],
            "source": "%sql SELECT \"Elementary, Middle, or High School\" AS TYPES_OF_SCHOOLS, AVG(SAFETY_SCORE) AS AVG_SAFETY_SCORE FROM CHICAGO_PUBLIC_SCHOOLS GROUP BY \"Elementary, Middle, or High School\";"
        },
        {
            "cell_type": "markdown",
            "metadata": {},
            "source": "### Problem 7\n\n##### List 5 community areas with highest % of households below poverty line\n"
        },
        {
            "cell_type": "code",
            "execution_count": 36,
            "metadata": {},
            "outputs": [
                {
                    "name": "stdout",
                    "output_type": "stream",
                    "text": " * ibm_db_sa://nly36207:***@0c77d6f2-5da9-48a9-81f8-86b520b87518.bs2io90l08kqb1od8lcg.databases.appdomain.cloud:31198/BLUDB\nDone.\n"
                },
                {
                    "data": {
                        "text/html": "<table>\n    <thead>\n        <tr>\n            <th>community_area_name</th>\n            <th>percent_households_below_poverty</th>\n        </tr>\n    </thead>\n    <tbody>\n        <tr>\n            <td>Riverdale</td>\n            <td>56.5</td>\n        </tr>\n        <tr>\n            <td>Fuller Park</td>\n            <td>51.2</td>\n        </tr>\n        <tr>\n            <td>Englewood</td>\n            <td>46.6</td>\n        </tr>\n        <tr>\n            <td>North Lawndale</td>\n            <td>43.1</td>\n        </tr>\n        <tr>\n            <td>East Garfield Park</td>\n            <td>42.4</td>\n        </tr>\n    </tbody>\n</table>",
                        "text/plain": "[('Riverdale', Decimal('56.5')),\n ('Fuller Park', Decimal('51.2')),\n ('Englewood', Decimal('46.6')),\n ('North Lawndale', Decimal('43.1')),\n ('East Garfield Park', Decimal('42.4'))]"
                    },
                    "execution_count": 36,
                    "metadata": {},
                    "output_type": "execute_result"
                }
            ],
            "source": "%%sql select COMMUNITY_AREA_NAME, PERCENT_HOUSEHOLDS_BELOW_POVERTY from CENSUS_DATA\norder by PERCENT_HOUSEHOLDS_BELOW_POVERTY desc \nlimit 5;"
        },
        {
            "cell_type": "markdown",
            "metadata": {},
            "source": "### Problem 8\n\n##### Which community area is most crime prone?\n"
        },
        {
            "cell_type": "code",
            "execution_count": 61,
            "metadata": {},
            "outputs": [
                {
                    "name": "stdout",
                    "output_type": "stream",
                    "text": " * ibm_db_sa://nly36207:***@0c77d6f2-5da9-48a9-81f8-86b520b87518.bs2io90l08kqb1od8lcg.databases.appdomain.cloud:31198/BLUDB\nDone.\n"
                },
                {
                    "data": {
                        "text/html": "<table>\n    <thead>\n        <tr>\n            <th>community_area_number</th>\n            <th>number_of_crimes</th>\n        </tr>\n    </thead>\n    <tbody>\n        <tr>\n            <td>25</td>\n            <td>43</td>\n        </tr>\n    </tbody>\n</table>",
                        "text/plain": "[(25, 43)]"
                    },
                    "execution_count": 61,
                    "metadata": {},
                    "output_type": "execute_result"
                }
            ],
            "source": "%%sql select COMMUNITY_AREA_NUMBER, COUNT(COMMUNITY_AREA_NUMBER) as NUMBER_OF_CRIMES from CHICAGO_CRIME_DATA\nGROUP BY COMMUNITY_AREA_NUMBER\nORDER BY NUMBER_OF_CRIMES desc\nlimit 1;"
        },
        {
            "cell_type": "code",
            "execution_count": 65,
            "metadata": {},
            "outputs": [
                {
                    "name": "stdout",
                    "output_type": "stream",
                    "text": " * ibm_db_sa://nly36207:***@0c77d6f2-5da9-48a9-81f8-86b520b87518.bs2io90l08kqb1od8lcg.databases.appdomain.cloud:31198/BLUDB\nDone.\n"
                },
                {
                    "data": {
                        "text/html": "<table>\n    <thead>\n        <tr>\n            <th>community_area_name</th>\n            <th>community_area_number</th>\n        </tr>\n    </thead>\n    <tbody>\n        <tr>\n            <td>Austin</td>\n            <td>25</td>\n        </tr>\n    </tbody>\n</table>",
                        "text/plain": "[('Austin', 25)]"
                    },
                    "execution_count": 65,
                    "metadata": {},
                    "output_type": "execute_result"
                }
            ],
            "source": "%%sql select COMMUNITY_AREA_NAME, COMMUNITY_AREA_NUMBER from CENSUS_DATA\nwhere COMMUNITY_AREA_NUMBER = 25;"
        },
        {
            "cell_type": "markdown",
            "metadata": {},
            "source": "**CONCLUSION:**\n\nAustin is the community area name with the most crimes prone\n"
        },
        {
            "cell_type": "markdown",
            "metadata": {},
            "source": "### Problem 9\n\n##### Use a sub-query to find the name of the community area with highest hardship index\n"
        },
        {
            "cell_type": "code",
            "execution_count": 73,
            "metadata": {},
            "outputs": [
                {
                    "name": "stdout",
                    "output_type": "stream",
                    "text": " * ibm_db_sa://nly36207:***@0c77d6f2-5da9-48a9-81f8-86b520b87518.bs2io90l08kqb1od8lcg.databases.appdomain.cloud:31198/BLUDB\nDone.\n"
                },
                {
                    "data": {
                        "text/html": "<table>\n    <thead>\n        <tr>\n            <th>community_area_name</th>\n        </tr>\n    </thead>\n    <tbody>\n        <tr>\n            <td>Riverdale</td>\n        </tr>\n    </tbody>\n</table>",
                        "text/plain": "[('Riverdale',)]"
                    },
                    "execution_count": 73,
                    "metadata": {},
                    "output_type": "execute_result"
                }
            ],
            "source": "%%sql \nselect COMMUNITY_AREA_NAME \nfrom CENSUS_DATA\nwhere HARDSHIP_INDEX = (\n    select MAX(HARDSHIP_INDEX) \n    from CENSUS_DATA);"
        },
        {
            "cell_type": "markdown",
            "metadata": {},
            "source": "### Problem 10\n\n##### Use a sub-query to determine the Community Area Name with most number of crimes?\n"
        },
        {
            "cell_type": "code",
            "execution_count": 76,
            "metadata": {},
            "outputs": [
                {
                    "name": "stdout",
                    "output_type": "stream",
                    "text": " * ibm_db_sa://nly36207:***@0c77d6f2-5da9-48a9-81f8-86b520b87518.bs2io90l08kqb1od8lcg.databases.appdomain.cloud:31198/BLUDB\nDone.\n"
                },
                {
                    "data": {
                        "text/html": "<table>\n    <thead>\n        <tr>\n            <th>community_area_name</th>\n        </tr>\n    </thead>\n    <tbody>\n        <tr>\n            <td>Austin</td>\n        </tr>\n    </tbody>\n</table>",
                        "text/plain": "[('Austin',)]"
                    },
                    "execution_count": 76,
                    "metadata": {},
                    "output_type": "execute_result"
                }
            ],
            "source": "%%sql \nSELECT DISTINCT A.COMMUNITY_AREA_NAME \nFROM CENSUS_DATA A, CHICAGO_CRIME_DATA B\nWHERE A.COMMUNITY_AREA_NUMBER = (\n        SELECT COMMUNITY_AREA_NUMBER FROM CHICAGO_CRIME_DATA \n        GROUP BY COMMUNITY_AREA_NUMBER \n        ORDER BY COUNT(*) DESC  LIMIT 1);"
        },
        {
            "cell_type": "markdown",
            "metadata": {},
            "source": "**Conclusion** : Community Area Name with most number of crimes is Austin"
        },
        {
            "cell_type": "markdown",
            "metadata": {},
            "source": "Copyright \u00a9 2020 [cognitiveclass.ai](cognitiveclass.ai?utm_source=bducopyrightlink\\&utm_medium=dswb\\&utm_campaign=bdu). This notebook and its source code are released under the terms of the [MIT License](https://bigdatauniversity.com/mit-license?utm_medium=Exinfluencer\\&utm_source=Exinfluencer\\&utm_content=000026UJ\\&utm_term=10006555\\&utm_id=NA-SkillsNetwork-Channel-SkillsNetworkCoursesIBMDeveloperSkillsNetworkDB0201ENSkillsNetwork20127838-2021-01-01\\&cm_mmc=Email_Newsletter-\\_-Developer_Ed%2BTech-\\_-WW_WW-\\_-SkillsNetwork-Courses-IBMDeveloperSkillsNetwork-DB0201EN-SkillsNetwork-20127838\\&cm_mmca1=000026UJ\\&cm_mmca2=10006555\\&cm_mmca3=M12345678\\&cvosrc=email.Newsletter.M12345678\\&cvo_campaign=000026UJ).\n"
        },
        {
            "cell_type": "markdown",
            "metadata": {},
            "source": "## Author(s)\n\n<h4> Hima Vasudevan </h4>\n<h4> Rav Ahuja </h4>\n<h4> Ramesh Sannreddy </h4>\n\n## Contribtuor(s)\n\n<h4> Malika Singla </h4>\n\n## Change log\n\n| Date       | Version | Changed by    | Change Description                 |\n| ---------- | ------- | ------------- | ---------------------------------- |\n| 2021-05-19 | 2.4     | Lakshmi Holla | Updated the question   |\n| 2021-04-30 | 2.3     | Malika Singla | Updated the libraries   |\n| 2021-01-15 | 2.2     | Rav Ahuja | Removed problem 11 and fixed changelog |\n| 2020-11-25 | 2.1     | Ramesh Sannareddy | Updated the problem statements, and datasets |\n| 2020-09-05 | 2.0     | Malika Singla | Moved lab to course repo in GitLab |\n| 2018-07-18 | 1.0     | Rav Ahuja | Several updates including loading instructions |\n| 2018-05-04 | 0.1     | Hima Vasudevan | Created initial version |\n\n## <h3 align=\"center\"> \u00a9 IBM Corporation 2020. All rights reserved. <h3/>\n"
        }
    ],
    "metadata": {
        "kernelspec": {
            "display_name": "Python 3.7",
            "language": "python",
            "name": "python3"
        },
        "language_info": {
            "codemirror_mode": {
                "name": "ipython",
                "version": 3
            },
            "file_extension": ".py",
            "mimetype": "text/x-python",
            "name": "python",
            "nbconvert_exporter": "python",
            "pygments_lexer": "ipython3",
            "version": "3.7.10"
        },
        "widgets": {
            "state": {},
            "version": "1.1.2"
        }
    },
    "nbformat": 4,
    "nbformat_minor": 4
}