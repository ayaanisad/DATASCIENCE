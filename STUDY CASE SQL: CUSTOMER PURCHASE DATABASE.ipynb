{
    "cells": [
        {
            "cell_type": "markdown",
            "metadata": {},
            "source": "# CASE STUDY : CUSTOMER PURCHASE DATABASE\n## ASSIGNMENT FOR MENTORING 5 - TELKOM ATHON DATA SCIENCE\n### BY AYA ANISA DWINIDASARI\n**1st August 2021**"
        },
        {
            "cell_type": "markdown",
            "metadata": {},
            "source": "**There are several tables that have been loaded in the Db2 IBM database console, so in this notebook i am going to do some queries resulting final table shown below**"
        },
        {
            "cell_type": "markdown",
            "metadata": {},
            "source": "## First, install some libraries"
        },
        {
            "cell_type": "code",
            "execution_count": 1,
            "metadata": {},
            "outputs": [
                {
                    "name": "stdout",
                    "output_type": "stream",
                    "text": "/opt/conda/envs/Python-3.7-OpenCE/lib/python3.7/site-packages/secretstorage/dhcrypto.py:16: CryptographyDeprecationWarning: int_from_bytes is deprecated, use int.from_bytes instead\n  from cryptography.utils import int_from_bytes\n/opt/conda/envs/Python-3.7-OpenCE/lib/python3.7/site-packages/secretstorage/util.py:25: CryptographyDeprecationWarning: int_from_bytes is deprecated, use int.from_bytes instead\n  from cryptography.utils import int_from_bytes\nRequirement already satisfied: sqlalchemy==1.3.9 in /opt/conda/envs/Python-3.7-OpenCE/lib/python3.7/site-packages (1.3.9)\n/opt/conda/envs/Python-3.7-OpenCE/lib/python3.7/site-packages/secretstorage/dhcrypto.py:16: CryptographyDeprecationWarning: int_from_bytes is deprecated, use int.from_bytes instead\n  from cryptography.utils import int_from_bytes\n/opt/conda/envs/Python-3.7-OpenCE/lib/python3.7/site-packages/secretstorage/util.py:25: CryptographyDeprecationWarning: int_from_bytes is deprecated, use int.from_bytes instead\n  from cryptography.utils import int_from_bytes\nRequirement already satisfied: ibm_db_sa in /opt/conda/envs/Python-3.7-OpenCE/lib/python3.7/site-packages (0.3.5)\nRequirement already satisfied: sqlalchemy>=0.7.3 in /opt/conda/envs/Python-3.7-OpenCE/lib/python3.7/site-packages (from ibm_db_sa) (1.3.9)\nRequirement already satisfied: ibm-db>=2.0.0 in /opt/conda/envs/Python-3.7-OpenCE/lib/python3.7/site-packages (from ibm_db_sa) (3.0.2)\n"
                }
            ],
            "source": "!pip install sqlalchemy==1.3.9\n!pip install ibm_db_sa"
        },
        {
            "cell_type": "markdown",
            "metadata": {},
            "source": "## **SET CONNECTION**"
        },
        {
            "cell_type": "code",
            "execution_count": 4,
            "metadata": {},
            "outputs": [
                {
                    "name": "stdout",
                    "output_type": "stream",
                    "text": "The sql extension is already loaded. To reload it, use:\n  %reload_ext sql\n"
                }
            ],
            "source": "%load_ext sql"
        },
        {
            "cell_type": "code",
            "execution_count": 273,
            "metadata": {},
            "outputs": [],
            "source": "%sql ibm_db_sa://nly36207:D4knTRHzEkcPjD9W@0c77d6f2-5da9-48a9-81f8-86b520b87518.bs2io90l08kqb1od8lcg.databases.appdomain.cloud:31198/BLUDB?security=SSL"
        },
        {
            "cell_type": "markdown",
            "metadata": {},
            "source": "## CHECK Task Name"
        },
        {
            "cell_type": "code",
            "execution_count": 285,
            "metadata": {
                "scrolled": false
            },
            "outputs": [
                {
                    "name": "stdout",
                    "output_type": "stream",
                    "text": " * ibm_db_sa://nly36207:***@0c77d6f2-5da9-48a9-81f8-86b520b87518.bs2io90l08kqb1od8lcg.databases.appdomain.cloud:31198/BLUDB\nDone.\n"
                },
                {
                    "data": {
                        "text/html": "<table>\n    <tr>\n        <th>nullifname</th>\n        <th>name</th>\n    </tr>\n    <tr>\n        <td>Anders</td>\n        <td>Maria Anders</td>\n    </tr>\n    <tr>\n        <td>Trujillo</td>\n        <td>UvuvwevwevweOnyetenvewveUgwemubwemOssas Trujillo</td>\n    </tr>\n    <tr>\n        <td>Moreno</td>\n        <td>Antonio Moreno</td>\n    </tr>\n    <tr>\n        <td>Hardy</td>\n        <td>Thomas Hardy</td>\n    </tr>\n    <tr>\n        <td>Berglund</td>\n        <td>Christina Berglund</td>\n    </tr>\n    <tr>\n        <td>Moos</td>\n        <td>Hanna Moos</td>\n    </tr>\n    <tr>\n        <td>Citeaux</td>\n        <td>Fr\u00e9d\u00e9rique Citeaux</td>\n    </tr>\n    <tr>\n        <td>Sommer</td>\n        <td>Mart\u00edn Sommer</td>\n    </tr>\n    <tr>\n        <td>Lebihan</td>\n        <td>Laurence Lebihan</td>\n    </tr>\n    <tr>\n        <td>Lincoln</td>\n        <td>Elizabeth Lincoln</td>\n    </tr>\n</table>",
                        "text/plain": "[('Anders', 'Maria Anders'),\n ('Trujillo', 'UvuvwevwevweOnyetenvewveUgwemubwemOssas Trujillo'),\n ('Moreno', 'Antonio Moreno'),\n ('Hardy', 'Thomas Hardy'),\n ('Berglund', 'Christina Berglund'),\n ('Moos', 'Hanna Moos'),\n ('Citeaux', 'Fr\u00e9d\u00e9rique Citeaux'),\n ('Sommer', 'Mart\u00edn Sommer'),\n ('Lebihan', 'Laurence Lebihan'),\n ('Lincoln', 'Elizabeth Lincoln')]"
                    },
                    "execution_count": 285,
                    "metadata": {},
                    "output_type": "execute_result"
                }
            ],
            "source": "%%sql \nSELECT \n    NULLIF(lastname,firstname) AS nullifname, \n    COALESCE(firstname || ' ' ||lastname,firstname) AS name\nFROM customer\nLIMIT 10;"
        },
        {
            "cell_type": "markdown",
            "metadata": {},
            "source": "## CHECK TASK flag_phone\n**COLLUMN: FLAG_PHONE QUERY USING CASE TO REPLACE NOT NULL VALUE TO 1, AND NULL VALUE TO 0**"
        },
        {
            "cell_type": "code",
            "execution_count": 277,
            "metadata": {},
            "outputs": [
                {
                    "name": "stdout",
                    "output_type": "stream",
                    "text": " * ibm_db_sa://nly36207:***@0c77d6f2-5da9-48a9-81f8-86b520b87518.bs2io90l08kqb1od8lcg.databases.appdomain.cloud:31198/BLUDB\nDone.\n"
                },
                {
                    "data": {
                        "text/html": "<table>\n    <tr>\n        <th>id</th>\n        <th>phone</th>\n        <th>flag_phone</th>\n    </tr>\n    <tr>\n        <td>1</td>\n        <td>030-0074321</td>\n        <td>1</td>\n    </tr>\n    <tr>\n        <td>2</td>\n        <td>(5) 555-4729</td>\n        <td>1</td>\n    </tr>\n    <tr>\n        <td>3</td>\n        <td>(5) 555-3932</td>\n        <td>1</td>\n    </tr>\n    <tr>\n        <td>4</td>\n        <td>(171) 555-7788</td>\n        <td>1</td>\n    </tr>\n    <tr>\n        <td>5</td>\n        <td>0921-12 34 65</td>\n        <td>1</td>\n    </tr>\n    <tr>\n        <td>6</td>\n        <td>0621-08460</td>\n        <td>1</td>\n    </tr>\n    <tr>\n        <td>7</td>\n        <td>88.60.15.31</td>\n        <td>1</td>\n    </tr>\n    <tr>\n        <td>8</td>\n        <td>(91) 555 22 82</td>\n        <td>1</td>\n    </tr>\n    <tr>\n        <td>9</td>\n        <td>None</td>\n        <td>0</td>\n    </tr>\n    <tr>\n        <td>10</td>\n        <td>(604) 555-4729</td>\n        <td>1</td>\n    </tr>\n</table>",
                        "text/plain": "[(1, '030-0074321', 1),\n (2, '(5) 555-4729', 1),\n (3, '(5) 555-3932', 1),\n (4, '(171) 555-7788', 1),\n (5, '0921-12 34 65', 1),\n (6, '0621-08460', 1),\n (7, '88.60.15.31', 1),\n (8, '(91) 555 22 82', 1),\n (9, None, 0),\n (10, '(604) 555-4729', 1)]"
                    },
                    "execution_count": 277,
                    "metadata": {},
                    "output_type": "execute_result"
                }
            ],
            "source": "%%sql \nSELECT id,phone,\nCASE\nWHEN phone IS NOT NULL \n       THEN 1\n       ELSE 0\nEND AS flag_phone\nFROM CUSTOMER\nLIMIT 10;"
        },
        {
            "cell_type": "markdown",
            "metadata": {},
            "source": "## CHECK TASK age\n**QUERY AGE COLLUMN: REPLACE NULL VALUE WITH 25**"
        },
        {
            "cell_type": "code",
            "execution_count": 278,
            "metadata": {},
            "outputs": [
                {
                    "name": "stdout",
                    "output_type": "stream",
                    "text": " * ibm_db_sa://nly36207:***@0c77d6f2-5da9-48a9-81f8-86b520b87518.bs2io90l08kqb1od8lcg.databases.appdomain.cloud:31198/BLUDB\nDone.\n"
                },
                {
                    "data": {
                        "text/html": "<table>\n    <tr>\n        <th>id</th>\n        <th>nullage</th>\n        <th>age</th>\n    </tr>\n    <tr>\n        <td>1</td>\n        <td>31</td>\n        <td>31</td>\n    </tr>\n    <tr>\n        <td>2</td>\n        <td>26</td>\n        <td>26</td>\n    </tr>\n    <tr>\n        <td>3</td>\n        <td>28</td>\n        <td>28</td>\n    </tr>\n    <tr>\n        <td>4</td>\n        <td>30</td>\n        <td>30</td>\n    </tr>\n    <tr>\n        <td>5</td>\n        <td>None</td>\n        <td>25</td>\n    </tr>\n    <tr>\n        <td>6</td>\n        <td>35</td>\n        <td>35</td>\n    </tr>\n    <tr>\n        <td>7</td>\n        <td>31</td>\n        <td>31</td>\n    </tr>\n    <tr>\n        <td>8</td>\n        <td>28</td>\n        <td>28</td>\n    </tr>\n    <tr>\n        <td>9</td>\n        <td>18</td>\n        <td>18</td>\n    </tr>\n    <tr>\n        <td>10</td>\n        <td>26</td>\n        <td>26</td>\n    </tr>\n</table>",
                        "text/plain": "[(1, 31, '31'),\n (2, 26, '26'),\n (3, 28, '28'),\n (4, 30, '30'),\n (5, None, '25'),\n (6, 35, '35'),\n (7, 31, '31'),\n (8, 28, '28'),\n (9, 18, '18'),\n (10, 26, '26')]"
                    },
                    "execution_count": 278,
                    "metadata": {},
                    "output_type": "execute_result"
                }
            ],
            "source": "%%sql\nSELECT id,nullif(age,'25') as nullage ,COALESCE(age,'25') as age\nFROM CUSTOMER\nLIMIT 10;"
        },
        {
            "cell_type": "markdown",
            "metadata": {},
            "source": "## CHECK TASK LOS\n**QUERY COLLUMN LOS**"
        },
        {
            "cell_type": "code",
            "execution_count": 279,
            "metadata": {},
            "outputs": [
                {
                    "name": "stdout",
                    "output_type": "stream",
                    "text": " * ibm_db_sa://nly36207:***@0c77d6f2-5da9-48a9-81f8-86b520b87518.bs2io90l08kqb1od8lcg.databases.appdomain.cloud:31198/BLUDB\nDone.\n"
                },
                {
                    "data": {
                        "text/html": "<table>\n    <tr>\n        <th>customerid</th>\n        <th>los</th>\n    </tr>\n    <tr>\n        <td>1</td>\n        <td>2889</td>\n    </tr>\n    <tr>\n        <td>2</td>\n        <td>3230</td>\n    </tr>\n    <tr>\n        <td>3</td>\n        <td>3160</td>\n    </tr>\n    <tr>\n        <td>4</td>\n        <td>3172</td>\n    </tr>\n    <tr>\n        <td>5</td>\n        <td>3267</td>\n    </tr>\n    <tr>\n        <td>6</td>\n        <td>3027</td>\n    </tr>\n    <tr>\n        <td>7</td>\n        <td>3285</td>\n    </tr>\n    <tr>\n        <td>8</td>\n        <td>3208</td>\n    </tr>\n    <tr>\n        <td>9</td>\n        <td>3202</td>\n    </tr>\n    <tr>\n        <td>10</td>\n        <td>3137</td>\n    </tr>\n</table>",
                        "text/plain": "[(1, 2889),\n (2, 3230),\n (3, 3160),\n (4, 3172),\n (5, 3267),\n (6, 3027),\n (7, 3285),\n (8, 3208),\n (9, 3202),\n (10, 3137)]"
                    },
                    "execution_count": 279,
                    "metadata": {},
                    "output_type": "execute_result"
                }
            ],
            "source": "%%sql \nSELECT customerid,(MAX(days('2021-07-23')-days(orderdate))) as LOS\nfrom ORDER_TRANSACTION\nGROUP BY customerid\nLIMIT 10;"
        },
        {
            "cell_type": "markdown",
            "metadata": {},
            "source": "## CHECK TASK totalproduct\n**TOTAL PRODUCT**"
        },
        {
            "cell_type": "code",
            "execution_count": 280,
            "metadata": {},
            "outputs": [
                {
                    "name": "stdout",
                    "output_type": "stream",
                    "text": " * ibm_db_sa://nly36207:***@0c77d6f2-5da9-48a9-81f8-86b520b87518.bs2io90l08kqb1od8lcg.databases.appdomain.cloud:31198/BLUDB\nDone.\n"
                },
                {
                    "data": {
                        "text/html": "<table>\n    <tr>\n        <th>customerid</th>\n        <th>totalproduct</th>\n    </tr>\n    <tr>\n        <td>1</td>\n        <td>174</td>\n    </tr>\n    <tr>\n        <td>2</td>\n        <td>63</td>\n    </tr>\n    <tr>\n        <td>3</td>\n        <td>359</td>\n    </tr>\n    <tr>\n        <td>4</td>\n        <td>650</td>\n    </tr>\n    <tr>\n        <td>5</td>\n        <td>1001</td>\n    </tr>\n    <tr>\n        <td>6</td>\n        <td>140</td>\n    </tr>\n    <tr>\n        <td>7</td>\n        <td>666</td>\n    </tr>\n    <tr>\n        <td>8</td>\n        <td>190</td>\n    </tr>\n    <tr>\n        <td>9</td>\n        <td>980</td>\n    </tr>\n    <tr>\n        <td>10</td>\n        <td>956</td>\n    </tr>\n</table>",
                        "text/plain": "[(1, 174),\n (2, 63),\n (3, 359),\n (4, 650),\n (5, 1001),\n (6, 140),\n (7, 666),\n (8, 190),\n (9, 980),\n (10, 956)]"
                    },
                    "execution_count": 280,
                    "metadata": {},
                    "output_type": "execute_result"
                }
            ],
            "source": "%%sql\nSELECT customerid, SUM(quantity) as totalproduct\nFROM ORDERITEM\nLEFT JOIN ORDER_TRANSACTION\nON ORDERITEM.orderid = ORDER_TRANSACTION.id\nGROUP BY customerid\nLIMIT 10; "
        },
        {
            "cell_type": "markdown",
            "metadata": {},
            "source": "# FINAL CODE TABLE: THE ANSWER\n## **MERGE ALL THE QUERY TO FORM THE FINAL TABLE**"
        },
        {
            "cell_type": "code",
            "execution_count": 286,
            "metadata": {},
            "outputs": [
                {
                    "name": "stdout",
                    "output_type": "stream",
                    "text": " * ibm_db_sa://nly36207:***@0c77d6f2-5da9-48a9-81f8-86b520b87518.bs2io90l08kqb1od8lcg.databases.appdomain.cloud:31198/BLUDB\nDone.\n"
                },
                {
                    "data": {
                        "text/html": "<table>\n    <tr>\n        <th>id</th>\n        <th>name</th>\n        <th>country</th>\n        <th>flag_phone</th>\n        <th>age</th>\n        <th>los</th>\n        <th>totalproduct</th>\n        <th>totalamount</th>\n        <th>paymenttype</th>\n    </tr>\n    <tr>\n        <td>1</td>\n        <td>Maria Anders</td>\n        <td>Germany</td>\n        <td>1</td>\n        <td>31</td>\n        <td>2889</td>\n        <td>174</td>\n        <td>4596.20</td>\n        <td>0</td>\n    </tr>\n    <tr>\n        <td>2</td>\n        <td>UvuvwevwevweOnyetenvewveUgwemubwemOssas Trujillo</td>\n        <td>Mexico</td>\n        <td>1</td>\n        <td>26</td>\n        <td>3230</td>\n        <td>63</td>\n        <td>1402.95</td>\n        <td>0</td>\n    </tr>\n    <tr>\n        <td>3</td>\n        <td>Antonio Moreno</td>\n        <td>Mexico</td>\n        <td>1</td>\n        <td>28</td>\n        <td>3160</td>\n        <td>359</td>\n        <td>7515.35</td>\n        <td>0</td>\n    </tr>\n    <tr>\n        <td>4</td>\n        <td>Thomas Hardy</td>\n        <td>UK</td>\n        <td>1</td>\n        <td>30</td>\n        <td>3172</td>\n        <td>650</td>\n        <td>13806.50</td>\n        <td>0</td>\n    </tr>\n    <tr>\n        <td>5</td>\n        <td>Christina Berglund</td>\n        <td>Sweden</td>\n        <td>1</td>\n        <td>25</td>\n        <td>3267</td>\n        <td>1001</td>\n        <td>26968.15</td>\n        <td>0</td>\n    </tr>\n    <tr>\n        <td>6</td>\n        <td>Hanna Moos</td>\n        <td>Germany</td>\n        <td>1</td>\n        <td>35</td>\n        <td>3027</td>\n        <td>140</td>\n        <td>3239.80</td>\n        <td>0</td>\n    </tr>\n    <tr>\n        <td>7</td>\n        <td>Fr\u00e9d\u00e9rique Citeaux</td>\n        <td>France</td>\n        <td>1</td>\n        <td>31</td>\n        <td>3285</td>\n        <td>666</td>\n        <td>19088.00</td>\n        <td>0</td>\n    </tr>\n    <tr>\n        <td>8</td>\n        <td>Mart\u00edn Sommer</td>\n        <td>Spain</td>\n        <td>1</td>\n        <td>28</td>\n        <td>3208</td>\n        <td>190</td>\n        <td>5297.80</td>\n        <td>0</td>\n    </tr>\n    <tr>\n        <td>9</td>\n        <td>Laurence Lebihan</td>\n        <td>France</td>\n        <td>0</td>\n        <td>18</td>\n        <td>3202</td>\n        <td>980</td>\n        <td>23850.95</td>\n        <td>0</td>\n    </tr>\n    <tr>\n        <td>10</td>\n        <td>Elizabeth Lincoln</td>\n        <td>Canada</td>\n        <td>1</td>\n        <td>26</td>\n        <td>3137</td>\n        <td>956</td>\n        <td>22607.70</td>\n        <td>0</td>\n    </tr>\n    <tr>\n        <td>11</td>\n        <td>Victoria Ashworth</td>\n        <td>UK</td>\n        <td>1</td>\n        <td>28</td>\n        <td>3253</td>\n        <td>293</td>\n        <td>6089.90</td>\n        <td>0</td>\n    </tr>\n    <tr>\n        <td>12</td>\n        <td>Patricio Simpson</td>\n        <td>Argentina</td>\n        <td>1</td>\n        <td>23</td>\n        <td>3007</td>\n        <td>115</td>\n        <td>1814.80</td>\n        <td>0</td>\n    </tr>\n    <tr>\n        <td>13</td>\n        <td>Francisco</td>\n        <td>Mexico</td>\n        <td>0</td>\n        <td>18</td>\n        <td>3292</td>\n        <td>11</td>\n        <td>100.80</td>\n        <td>0</td>\n    </tr>\n    <tr>\n        <td>14</td>\n        <td>Yang Wang</td>\n        <td>Switzerland</td>\n        <td>1</td>\n        <td>23</td>\n        <td>3299</td>\n        <td>465</td>\n        <td>12886.30</td>\n        <td>0</td>\n    </tr>\n    <tr>\n        <td>15</td>\n        <td>Pedro Afonso</td>\n        <td>Brazil</td>\n        <td>1</td>\n        <td>25</td>\n        <td>3252</td>\n        <td>133</td>\n        <td>3810.75</td>\n        <td>0</td>\n    </tr>\n    <tr>\n        <td>16</td>\n        <td>Elizabeth Brown</td>\n        <td>UK</td>\n        <td>1</td>\n        <td>28</td>\n        <td>3091</td>\n        <td>87</td>\n        <td>1719.10</td>\n        <td>0</td>\n    </tr>\n    <tr>\n        <td>17</td>\n        <td>Sven Ottlieb</td>\n        <td>Germany</td>\n        <td>1</td>\n        <td>37</td>\n        <td>3161</td>\n        <td>160</td>\n        <td>3763.21</td>\n        <td>0</td>\n    </tr>\n    <tr>\n        <td>18</td>\n        <td>Janine Labrune</td>\n        <td>France</td>\n        <td>1</td>\n        <td>25</td>\n        <td>3228</td>\n        <td>80</td>\n        <td>1615.90</td>\n        <td>0</td>\n    </tr>\n    <tr>\n        <td>19</td>\n        <td>Ann Devon</td>\n        <td>UK</td>\n        <td>0</td>\n        <td>18</td>\n        <td>3161</td>\n        <td>569</td>\n        <td>15033.66</td>\n        <td>0</td>\n    </tr>\n    <tr>\n        <td>20</td>\n        <td>Roland Mendel</td>\n        <td>Austria</td>\n        <td>1</td>\n        <td>23</td>\n        <td>3293</td>\n        <td>4543</td>\n        <td>113236.68</td>\n        <td>0</td>\n    </tr>\n    <tr>\n        <td>21</td>\n        <td>Aria Cruz</td>\n        <td>Brazil</td>\n        <td>1</td>\n        <td>22</td>\n        <td>3181</td>\n        <td>357</td>\n        <td>4438.90</td>\n        <td>0</td>\n    </tr>\n    <tr>\n        <td>22</td>\n        <td>Diego Roel</td>\n        <td>Spain</td>\n        <td>1</td>\n        <td>17</td>\n        <td>0</td>\n        <td>0</td>\n        <td>0.00</td>\n        <td>1</td>\n    </tr>\n    <tr>\n        <td>23</td>\n        <td>Martine Ranc\u00e9</td>\n        <td>France</td>\n        <td>1</td>\n        <td>37</td>\n        <td>3118</td>\n        <td>354</td>\n        <td>11666.90</td>\n        <td>0</td>\n    </tr>\n    <tr>\n        <td>24</td>\n        <td>Maria Larsson</td>\n        <td>Sweden</td>\n        <td>1</td>\n        <td>31</td>\n        <td>3286</td>\n        <td>1234</td>\n        <td>32555.55</td>\n        <td>0</td>\n    </tr>\n    <tr>\n        <td>25</td>\n        <td>Peter Franken</td>\n        <td>Germany</td>\n        <td>1</td>\n        <td>25</td>\n        <td>3281</td>\n        <td>1525</td>\n        <td>28722.71</td>\n        <td>0</td>\n    </tr>\n    <tr>\n        <td>26</td>\n        <td>Carine Schmitt</td>\n        <td>France</td>\n        <td>1</td>\n        <td>31</td>\n        <td>2866</td>\n        <td>69</td>\n        <td>3172.16</td>\n        <td>0</td>\n    </tr>\n    <tr>\n        <td>27</td>\n        <td>Paolo Accorti</td>\n        <td>Italy</td>\n        <td>1</td>\n        <td>35</td>\n        <td>3104</td>\n        <td>54</td>\n        <td>1545.70</td>\n        <td>0</td>\n    </tr>\n    <tr>\n        <td>28</td>\n        <td>Lino Rodriguez</td>\n        <td>Portugal</td>\n        <td>1</td>\n        <td>17</td>\n        <td>3204</td>\n        <td>349</td>\n        <td>7151.55</td>\n        <td>0</td>\n    </tr>\n    <tr>\n        <td>29</td>\n        <td>Eduardo Saavedra</td>\n        <td>Spain</td>\n        <td>0</td>\n        <td>18</td>\n        <td>3159</td>\n        <td>42</td>\n        <td>836.70</td>\n        <td>0</td>\n    </tr>\n    <tr>\n        <td>30</td>\n        <td>Jos\u00e9 Pedro Freyre</td>\n        <td>Spain</td>\n        <td>1</td>\n        <td>28</td>\n        <td>3237</td>\n        <td>395</td>\n        <td>11830.10</td>\n        <td>0</td>\n    </tr>\n    <tr>\n        <td>31</td>\n        <td>Andr\u00e9 Fonseca</td>\n        <td>Brazil</td>\n        <td>1</td>\n        <td>28</td>\n        <td>3103</td>\n        <td>315</td>\n        <td>8702.23</td>\n        <td>0</td>\n    </tr>\n    <tr>\n        <td>32</td>\n        <td>Howard Snyder</td>\n        <td>USA</td>\n        <td>1</td>\n        <td>23</td>\n        <td>3000</td>\n        <td>345</td>\n        <td>19711.13</td>\n        <td>0</td>\n    </tr>\n    <tr>\n        <td>33</td>\n        <td>Manuel Pereira</td>\n        <td>Venezuela</td>\n        <td>1</td>\n        <td>31</td>\n        <td>3280</td>\n        <td>34</td>\n        <td>1488.70</td>\n        <td>0</td>\n    </tr>\n    <tr>\n        <td>34</td>\n        <td>Mario Pontes</td>\n        <td>Brazil</td>\n        <td>1</td>\n        <td>31</td>\n        <td>3302</td>\n        <td>839</td>\n        <td>34101.15</td>\n        <td>0</td>\n    </tr>\n    <tr>\n        <td>35</td>\n        <td>Carlos Hern\u00e1ndez</td>\n        <td>Venezuela</td>\n        <td>1</td>\n        <td>35</td>\n        <td>3294</td>\n        <td>1096</td>\n        <td>23611.58</td>\n        <td>0</td>\n    </tr>\n    <tr>\n        <td>36</td>\n        <td>Yoshi Latimer</td>\n        <td>USA</td>\n        <td>1</td>\n        <td>17</td>\n        <td>3151</td>\n        <td>122</td>\n        <td>3063.20</td>\n        <td>0</td>\n    </tr>\n    <tr>\n        <td>37</td>\n        <td>Patricia McKenna</td>\n        <td>Ireland</td>\n        <td>1</td>\n        <td>28</td>\n        <td>3243</td>\n        <td>1684</td>\n        <td>57317.39</td>\n        <td>0</td>\n    </tr>\n    <tr>\n        <td>38</td>\n        <td>Helen Bennett</td>\n        <td>UK</td>\n        <td>1</td>\n        <td>25</td>\n        <td>3222</td>\n        <td>295</td>\n        <td>6146.30</td>\n        <td>0</td>\n    </tr>\n    <tr>\n        <td>39</td>\n        <td>Philip Cramer</td>\n        <td>Germany</td>\n        <td>1</td>\n        <td>37</td>\n        <td>3211</td>\n        <td>903</td>\n        <td>31745.75</td>\n        <td>0</td>\n    </tr>\n    <tr>\n        <td>40</td>\n        <td>Daniel Tonini</td>\n        <td>France</td>\n        <td>1</td>\n        <td>35</td>\n        <td>2732</td>\n        <td>83</td>\n        <td>1992.05</td>\n        <td>0</td>\n    </tr>\n    <tr>\n        <td>41</td>\n        <td>Annette Roulet</td>\n        <td>France</td>\n        <td>0</td>\n        <td>18</td>\n        <td>3176</td>\n        <td>442</td>\n        <td>10272.35</td>\n        <td>0</td>\n    </tr>\n    <tr>\n        <td>42</td>\n        <td>Yoshi Tannamuri</td>\n        <td>Canada</td>\n        <td>1</td>\n        <td>28</td>\n        <td>3033</td>\n        <td>62</td>\n        <td>522.50</td>\n        <td>0</td>\n    </tr>\n    <tr>\n        <td>43</td>\n        <td>John Steel</td>\n        <td>USA</td>\n        <td>1</td>\n        <td>26</td>\n        <td>3046</td>\n        <td>20</td>\n        <td>357.00</td>\n        <td>0</td>\n    </tr>\n    <tr>\n        <td>44</td>\n        <td>Renate Messner</td>\n        <td>Germany</td>\n        <td>1</td>\n        <td>17</td>\n        <td>3266</td>\n        <td>794</td>\n        <td>21282.02</td>\n        <td>0</td>\n    </tr>\n    <tr>\n        <td>45</td>\n        <td>Jaime Yorres</td>\n        <td>USA</td>\n        <td>1</td>\n        <td>30</td>\n        <td>2950</td>\n        <td>181</td>\n        <td>3490.02</td>\n        <td>0</td>\n    </tr>\n    <tr>\n        <td>46</td>\n        <td>Carlos Gonz\u00e1lez</td>\n        <td>Venezuela</td>\n        <td>1</td>\n        <td>17</td>\n        <td>3263</td>\n        <td>836</td>\n        <td>17825.06</td>\n        <td>0</td>\n    </tr>\n    <tr>\n        <td>47</td>\n        <td>Felipe Izquierdo</td>\n        <td>Venezuela</td>\n        <td>1</td>\n        <td>28</td>\n        <td>3120</td>\n        <td>970</td>\n        <td>17889.55</td>\n        <td>0</td>\n    </tr>\n    <tr>\n        <td>48</td>\n        <td>Fran Wilson</td>\n        <td>USA</td>\n        <td>1</td>\n        <td>37</td>\n        <td>3231</td>\n        <td>134</td>\n        <td>4258.60</td>\n        <td>0</td>\n    </tr>\n    <tr>\n        <td>49</td>\n        <td>Giovanni Rovelli</td>\n        <td>Italy</td>\n        <td>1</td>\n        <td>35</td>\n        <td>3272</td>\n        <td>433</td>\n        <td>7603.85</td>\n        <td>0</td>\n    </tr>\n    <tr>\n        <td>50</td>\n        <td>Catherine Dewey</td>\n        <td>Belgium</td>\n        <td>1</td>\n        <td>22</td>\n        <td>2999</td>\n        <td>320</td>\n        <td>10430.58</td>\n        <td>0</td>\n    </tr>\n    <tr>\n        <td>51</td>\n        <td>Jean Fresni\u00e8re</td>\n        <td>Canada</td>\n        <td>1</td>\n        <td>17</td>\n        <td>3201</td>\n        <td>966</td>\n        <td>32203.90</td>\n        <td>0</td>\n    </tr>\n    <tr>\n        <td>52</td>\n        <td>Bambang</td>\n        <td>Germany</td>\n        <td>1</td>\n        <td>37</td>\n        <td>3270</td>\n        <td>172</td>\n        <td>5042.20</td>\n        <td>0</td>\n    </tr>\n    <tr>\n        <td>53</td>\n        <td>Bamasta Crowther</td>\n        <td>UK</td>\n        <td>1</td>\n        <td>37</td>\n        <td>3012</td>\n        <td>30</td>\n        <td>649.00</td>\n        <td>0</td>\n    </tr>\n    <tr>\n        <td>54</td>\n        <td>Yvonne Moncada</td>\n        <td>Argentina</td>\n        <td>1</td>\n        <td>25</td>\n        <td>3117</td>\n        <td>132</td>\n        <td>3460.20</td>\n        <td>0</td>\n    </tr>\n    <tr>\n        <td>55</td>\n        <td>Rene Phillips</td>\n        <td>USA</td>\n        <td>1</td>\n        <td>17</td>\n        <td>3235</td>\n        <td>603</td>\n        <td>16325.15</td>\n        <td>0</td>\n    </tr>\n    <tr>\n        <td>56</td>\n        <td>Henriette Pfalzheim</td>\n        <td>Germany</td>\n        <td>1</td>\n        <td>22</td>\n        <td>3291</td>\n        <td>639</td>\n        <td>13157.50</td>\n        <td>0</td>\n    </tr>\n    <tr>\n        <td>57</td>\n        <td>Marie Bertrand</td>\n        <td>France</td>\n        <td>0</td>\n        <td>18</td>\n        <td>0</td>\n        <td>0</td>\n        <td>0.00</td>\n        <td>1</td>\n    </tr>\n    <tr>\n        <td>58</td>\n        <td>Guillermo Fern\u00e1ndez</td>\n        <td>Mexico</td>\n        <td>1</td>\n        <td>23</td>\n        <td>3214</td>\n        <td>208</td>\n        <td>4242.20</td>\n        <td>0</td>\n    </tr>\n    <tr>\n        <td>59</td>\n        <td>Georg Pipps</td>\n        <td>Austria</td>\n        <td>1</td>\n        <td>28</td>\n        <td>3174</td>\n        <td>624</td>\n        <td>26259.95</td>\n        <td>0</td>\n    </tr>\n    <tr>\n        <td>60</td>\n        <td>Isabel de Castro</td>\n        <td>Portugal</td>\n        <td>1</td>\n        <td>17</td>\n        <td>3195</td>\n        <td>184</td>\n        <td>5317.10</td>\n        <td>0</td>\n    </tr>\n    <tr>\n        <td>61</td>\n        <td>Bernardo Batista</td>\n        <td>Brazil</td>\n        <td>1</td>\n        <td>28</td>\n        <td>3291</td>\n        <td>394</td>\n        <td>6973.63</td>\n        <td>0</td>\n    </tr>\n    <tr>\n        <td>62</td>\n        <td>L\u00facia Carvalho</td>\n        <td>Brazil</td>\n        <td>1</td>\n        <td>26</td>\n        <td>3153</td>\n        <td>1031</td>\n        <td>30226.10</td>\n        <td>0</td>\n    </tr>\n    <tr>\n        <td>63</td>\n        <td>Horst Kloss</td>\n        <td>Germany</td>\n        <td>1</td>\n        <td>30</td>\n        <td>3274</td>\n        <td>3961</td>\n        <td>117483.39</td>\n        <td>0</td>\n    </tr>\n    <tr>\n        <td>64</td>\n        <td>Sergio Guti\u00e9rrez</td>\n        <td>Argentina</td>\n        <td>1</td>\n        <td>23</td>\n        <td>3078</td>\n        <td>92</td>\n        <td>2844.10</td>\n        <td>0</td>\n    </tr>\n    <tr>\n        <td>65</td>\n        <td>Paula Wilson</td>\n        <td>USA</td>\n        <td>1</td>\n        <td>26</td>\n        <td>3288</td>\n        <td>1383</td>\n        <td>52245.90</td>\n        <td>0</td>\n    </tr>\n    <tr>\n        <td>66</td>\n        <td>Maurizio Moroni</td>\n        <td>Italy</td>\n        <td>1</td>\n        <td>25</td>\n        <td>3256</td>\n        <td>335</td>\n        <td>7555.60</td>\n        <td>0</td>\n    </tr>\n    <tr>\n        <td>67</td>\n        <td>Janete Limeira</td>\n        <td>Brazil</td>\n        <td>1</td>\n        <td>28</td>\n        <td>3257</td>\n        <td>660</td>\n        <td>12924.40</td>\n        <td>0</td>\n    </tr>\n    <tr>\n        <td>68</td>\n        <td>Michael Holz</td>\n        <td>Switzerland</td>\n        <td>1</td>\n        <td>17</td>\n        <td>3298</td>\n        <td>810</td>\n        <td>20033.20</td>\n        <td>0</td>\n    </tr>\n    <tr>\n        <td>69</td>\n        <td>Alejandra Camino</td>\n        <td>Spain</td>\n        <td>1</td>\n        <td>35</td>\n        <td>3265</td>\n        <td>91</td>\n        <td>1467.29</td>\n        <td>0</td>\n    </tr>\n    <tr>\n        <td>70</td>\n        <td>Jonas Bergulfsen</td>\n        <td>Norway</td>\n        <td>1</td>\n        <td>23</td>\n        <td>3139</td>\n        <td>161</td>\n        <td>5735.15</td>\n        <td>0</td>\n    </tr>\n    <tr>\n        <td>71</td>\n        <td>Jose Pavarotti</td>\n        <td>USA</td>\n        <td>1</td>\n        <td>25</td>\n        <td>3210</td>\n        <td>4958</td>\n        <td>115673.39</td>\n        <td>0</td>\n    </tr>\n    <tr>\n        <td>72</td>\n        <td>Bamsoet Kumar</td>\n        <td>UK</td>\n        <td>1</td>\n        <td>22</td>\n        <td>3166</td>\n        <td>818</td>\n        <td>17172.05</td>\n        <td>0</td>\n    </tr>\n    <tr>\n        <td>73</td>\n        <td>Jytte Petersen</td>\n        <td>Denmark</td>\n        <td>1</td>\n        <td>37</td>\n        <td>3189</td>\n        <td>378</td>\n        <td>18138.45</td>\n        <td>0</td>\n    </tr>\n    <tr>\n        <td>74</td>\n        <td>Dominique Perrier</td>\n        <td>France</td>\n        <td>0</td>\n        <td>18</td>\n        <td>2810</td>\n        <td>48</td>\n        <td>2423.35</td>\n        <td>0</td>\n    </tr>\n    <tr>\n        <td>75</td>\n        <td>Art Braunschweiger</td>\n        <td>USA</td>\n        <td>1</td>\n        <td>35</td>\n        <td>3278</td>\n        <td>327</td>\n        <td>12489.70</td>\n        <td>0</td>\n    </tr>\n    <tr>\n        <td>76</td>\n        <td>Suratmi</td>\n        <td>Belgium</td>\n        <td>1</td>\n        <td>35</td>\n        <td>3301</td>\n        <td>1072</td>\n        <td>24704.40</td>\n        <td>0</td>\n    </tr>\n    <tr>\n        <td>77</td>\n        <td>Liz Nixon</td>\n        <td>USA</td>\n        <td>1</td>\n        <td>28</td>\n        <td>3228</td>\n        <td>46</td>\n        <td>3361.00</td>\n        <td>0</td>\n    </tr>\n    <tr>\n        <td>78</td>\n        <td>Liu Wong</td>\n        <td>USA</td>\n        <td>1</td>\n        <td>17</td>\n        <td>2907</td>\n        <td>59</td>\n        <td>1947.24</td>\n        <td>0</td>\n    </tr>\n    <tr>\n        <td>79</td>\n        <td>Karin Josephs</td>\n        <td>Germany</td>\n        <td>1</td>\n        <td>26</td>\n        <td>3305</td>\n        <td>253</td>\n        <td>4954.00</td>\n        <td>0</td>\n    </tr>\n    <tr>\n        <td>80</td>\n        <td>Miguel Angel Paolino</td>\n        <td>Mexico</td>\n        <td>0</td>\n        <td>18</td>\n        <td>3271</td>\n        <td>384</td>\n        <td>10812.15</td>\n        <td>0</td>\n    </tr>\n    <tr>\n        <td>81</td>\n        <td>Anabela Domingues</td>\n        <td>Brazil</td>\n        <td>1</td>\n        <td>22</td>\n        <td>3251</td>\n        <td>251</td>\n        <td>7310.62</td>\n        <td>0</td>\n    </tr>\n    <tr>\n        <td>82</td>\n        <td>Helvetius Nagy</td>\n        <td>USA</td>\n        <td>1</td>\n        <td>22</td>\n        <td>2956</td>\n        <td>89</td>\n        <td>1571.20</td>\n        <td>0</td>\n    </tr>\n    <tr>\n        <td>83</td>\n        <td>Palle Ibsen</td>\n        <td>Denmark</td>\n        <td>1</td>\n        <td>37</td>\n        <td>3159</td>\n        <td>792</td>\n        <td>16643.80</td>\n        <td>0</td>\n    </tr>\n    <tr>\n        <td>84</td>\n        <td>Mary Saveley</td>\n        <td>France</td>\n        <td>1</td>\n        <td>37</td>\n        <td>3302</td>\n        <td>434</td>\n        <td>9937.10</td>\n        <td>0</td>\n    </tr>\n    <tr>\n        <td>85</td>\n        <td>Paul Henriot</td>\n        <td>France</td>\n        <td>1</td>\n        <td>35</td>\n        <td>3306</td>\n        <td>98</td>\n        <td>1480.00</td>\n        <td>0</td>\n    </tr>\n    <tr>\n        <td>86</td>\n        <td>Rita M\u00fcller</td>\n        <td>Germany</td>\n        <td>1</td>\n        <td>31</td>\n        <td>3239</td>\n        <td>492</td>\n        <td>10653.85</td>\n        <td>0</td>\n    </tr>\n    <tr>\n        <td>87</td>\n        <td>Bela Koskitalo</td>\n        <td>Finland</td>\n        <td>1</td>\n        <td>23</td>\n        <td>3284</td>\n        <td>737</td>\n        <td>16617.10</td>\n        <td>0</td>\n    </tr>\n    <tr>\n        <td>88</td>\n        <td>Paula Parente</td>\n        <td>Brazil</td>\n        <td>1</td>\n        <td>28</td>\n        <td>3295</td>\n        <td>267</td>\n        <td>6480.70</td>\n        <td>0</td>\n    </tr>\n    <tr>\n        <td>89</td>\n        <td>Karl Jablonski</td>\n        <td>USA</td>\n        <td>1</td>\n        <td>28</td>\n        <td>3279</td>\n        <td>1063</td>\n        <td>29073.45</td>\n        <td>0</td>\n    </tr>\n    <tr>\n        <td>90</td>\n        <td>Matti Karttunen</td>\n        <td>Finland</td>\n        <td>1</td>\n        <td>30</td>\n        <td>2915</td>\n        <td>148</td>\n        <td>3161.35</td>\n        <td>0</td>\n    </tr>\n    <tr>\n        <td>91</td>\n        <td>Zbyszek Piestrzeniewicz</td>\n        <td>Poland</td>\n        <td>1</td>\n        <td>28</td>\n        <td>3152</td>\n        <td>205</td>\n        <td>3531.95</td>\n        <td>0</td>\n    </tr>\n</table>",
                        "text/plain": "[(1, 'Maria Anders', 'Germany', 1, 31, 2889, 174, Decimal('4596.20'), '0'),\n (2, 'UvuvwevwevweOnyetenvewveUgwemubwemOssas Trujillo', 'Mexico', 1, 26, 3230, 63, Decimal('1402.95'), '0'),\n (3, 'Antonio Moreno', 'Mexico', 1, 28, 3160, 359, Decimal('7515.35'), '0'),\n (4, 'Thomas Hardy', 'UK', 1, 30, 3172, 650, Decimal('13806.50'), '0'),\n (5, 'Christina Berglund', 'Sweden', 1, 25, 3267, 1001, Decimal('26968.15'), '0'),\n (6, 'Hanna Moos', 'Germany', 1, 35, 3027, 140, Decimal('3239.80'), '0'),\n (7, 'Fr\u00e9d\u00e9rique Citeaux', 'France', 1, 31, 3285, 666, Decimal('19088.00'), '0'),\n (8, 'Mart\u00edn Sommer', 'Spain', 1, 28, 3208, 190, Decimal('5297.80'), '0'),\n (9, 'Laurence Lebihan', 'France', 0, 18, 3202, 980, Decimal('23850.95'), '0'),\n (10, 'Elizabeth Lincoln', 'Canada', 1, 26, 3137, 956, Decimal('22607.70'), '0'),\n (11, 'Victoria Ashworth', 'UK', 1, 28, 3253, 293, Decimal('6089.90'), '0'),\n (12, 'Patricio Simpson', 'Argentina', 1, 23, 3007, 115, Decimal('1814.80'), '0'),\n (13, 'Francisco', 'Mexico', 0, 18, 3292, 11, Decimal('100.80'), '0'),\n (14, 'Yang Wang', 'Switzerland', 1, 23, 3299, 465, Decimal('12886.30'), '0'),\n (15, 'Pedro Afonso', 'Brazil', 1, 25, 3252, 133, Decimal('3810.75'), '0'),\n (16, 'Elizabeth Brown', 'UK', 1, 28, 3091, 87, Decimal('1719.10'), '0'),\n (17, 'Sven Ottlieb', 'Germany', 1, 37, 3161, 160, Decimal('3763.21'), '0'),\n (18, 'Janine Labrune', 'France', 1, 25, 3228, 80, Decimal('1615.90'), '0'),\n (19, 'Ann Devon', 'UK', 0, 18, 3161, 569, Decimal('15033.66'), '0'),\n (20, 'Roland Mendel', 'Austria', 1, 23, 3293, 4543, Decimal('113236.68'), '0'),\n (21, 'Aria Cruz', 'Brazil', 1, 22, 3181, 357, Decimal('4438.90'), '0'),\n (22, 'Diego Roel', 'Spain', 1, 17, 0, 0, Decimal('0.00'), '1'),\n (23, 'Martine Ranc\u00e9', 'France', 1, 37, 3118, 354, Decimal('11666.90'), '0'),\n (24, 'Maria Larsson', 'Sweden', 1, 31, 3286, 1234, Decimal('32555.55'), '0'),\n (25, 'Peter Franken', 'Germany', 1, 25, 3281, 1525, Decimal('28722.71'), '0'),\n (26, 'Carine Schmitt', 'France', 1, 31, 2866, 69, Decimal('3172.16'), '0'),\n (27, 'Paolo Accorti', 'Italy', 1, 35, 3104, 54, Decimal('1545.70'), '0'),\n (28, 'Lino Rodriguez', 'Portugal', 1, 17, 3204, 349, Decimal('7151.55'), '0'),\n (29, 'Eduardo Saavedra', 'Spain', 0, 18, 3159, 42, Decimal('836.70'), '0'),\n (30, 'Jos\u00e9 Pedro Freyre', 'Spain', 1, 28, 3237, 395, Decimal('11830.10'), '0'),\n (31, 'Andr\u00e9 Fonseca', 'Brazil', 1, 28, 3103, 315, Decimal('8702.23'), '0'),\n (32, 'Howard Snyder', 'USA', 1, 23, 3000, 345, Decimal('19711.13'), '0'),\n (33, 'Manuel Pereira', 'Venezuela', 1, 31, 3280, 34, Decimal('1488.70'), '0'),\n (34, 'Mario Pontes', 'Brazil', 1, 31, 3302, 839, Decimal('34101.15'), '0'),\n (35, 'Carlos Hern\u00e1ndez', 'Venezuela', 1, 35, 3294, 1096, Decimal('23611.58'), '0'),\n (36, 'Yoshi Latimer', 'USA', 1, 17, 3151, 122, Decimal('3063.20'), '0'),\n (37, 'Patricia McKenna', 'Ireland', 1, 28, 3243, 1684, Decimal('57317.39'), '0'),\n (38, 'Helen Bennett', 'UK', 1, 25, 3222, 295, Decimal('6146.30'), '0'),\n (39, 'Philip Cramer', 'Germany', 1, 37, 3211, 903, Decimal('31745.75'), '0'),\n (40, 'Daniel Tonini', 'France', 1, 35, 2732, 83, Decimal('1992.05'), '0'),\n (41, 'Annette Roulet', 'France', 0, 18, 3176, 442, Decimal('10272.35'), '0'),\n (42, 'Yoshi Tannamuri', 'Canada', 1, 28, 3033, 62, Decimal('522.50'), '0'),\n (43, 'John Steel', 'USA', 1, 26, 3046, 20, Decimal('357.00'), '0'),\n (44, 'Renate Messner', 'Germany', 1, 17, 3266, 794, Decimal('21282.02'), '0'),\n (45, 'Jaime Yorres', 'USA', 1, 30, 2950, 181, Decimal('3490.02'), '0'),\n (46, 'Carlos Gonz\u00e1lez', 'Venezuela', 1, 17, 3263, 836, Decimal('17825.06'), '0'),\n (47, 'Felipe Izquierdo', 'Venezuela', 1, 28, 3120, 970, Decimal('17889.55'), '0'),\n (48, 'Fran Wilson', 'USA', 1, 37, 3231, 134, Decimal('4258.60'), '0'),\n (49, 'Giovanni Rovelli', 'Italy', 1, 35, 3272, 433, Decimal('7603.85'), '0'),\n (50, 'Catherine Dewey', 'Belgium', 1, 22, 2999, 320, Decimal('10430.58'), '0'),\n (51, 'Jean Fresni\u00e8re', 'Canada', 1, 17, 3201, 966, Decimal('32203.90'), '0'),\n (52, 'Bambang', 'Germany', 1, 37, 3270, 172, Decimal('5042.20'), '0'),\n (53, 'Bamasta Crowther', 'UK', 1, 37, 3012, 30, Decimal('649.00'), '0'),\n (54, 'Yvonne Moncada', 'Argentina', 1, 25, 3117, 132, Decimal('3460.20'), '0'),\n (55, 'Rene Phillips', 'USA', 1, 17, 3235, 603, Decimal('16325.15'), '0'),\n (56, 'Henriette Pfalzheim', 'Germany', 1, 22, 3291, 639, Decimal('13157.50'), '0'),\n (57, 'Marie Bertrand', 'France', 0, 18, 0, 0, Decimal('0.00'), '1'),\n (58, 'Guillermo Fern\u00e1ndez', 'Mexico', 1, 23, 3214, 208, Decimal('4242.20'), '0'),\n (59, 'Georg Pipps', 'Austria', 1, 28, 3174, 624, Decimal('26259.95'), '0'),\n (60, 'Isabel de Castro', 'Portugal', 1, 17, 3195, 184, Decimal('5317.10'), '0'),\n (61, 'Bernardo Batista', 'Brazil', 1, 28, 3291, 394, Decimal('6973.63'), '0'),\n (62, 'L\u00facia Carvalho', 'Brazil', 1, 26, 3153, 1031, Decimal('30226.10'), '0'),\n (63, 'Horst Kloss', 'Germany', 1, 30, 3274, 3961, Decimal('117483.39'), '0'),\n (64, 'Sergio Guti\u00e9rrez', 'Argentina', 1, 23, 3078, 92, Decimal('2844.10'), '0'),\n (65, 'Paula Wilson', 'USA', 1, 26, 3288, 1383, Decimal('52245.90'), '0'),\n (66, 'Maurizio Moroni', 'Italy', 1, 25, 3256, 335, Decimal('7555.60'), '0'),\n (67, 'Janete Limeira', 'Brazil', 1, 28, 3257, 660, Decimal('12924.40'), '0'),\n (68, 'Michael Holz', 'Switzerland', 1, 17, 3298, 810, Decimal('20033.20'), '0'),\n (69, 'Alejandra Camino', 'Spain', 1, 35, 3265, 91, Decimal('1467.29'), '0'),\n (70, 'Jonas Bergulfsen', 'Norway', 1, 23, 3139, 161, Decimal('5735.15'), '0'),\n (71, 'Jose Pavarotti', 'USA', 1, 25, 3210, 4958, Decimal('115673.39'), '0'),\n (72, 'Bamsoet Kumar', 'UK', 1, 22, 3166, 818, Decimal('17172.05'), '0'),\n (73, 'Jytte Petersen', 'Denmark', 1, 37, 3189, 378, Decimal('18138.45'), '0'),\n (74, 'Dominique Perrier', 'France', 0, 18, 2810, 48, Decimal('2423.35'), '0'),\n (75, 'Art Braunschweiger', 'USA', 1, 35, 3278, 327, Decimal('12489.70'), '0'),\n (76, 'Suratmi', 'Belgium', 1, 35, 3301, 1072, Decimal('24704.40'), '0'),\n (77, 'Liz Nixon', 'USA', 1, 28, 3228, 46, Decimal('3361.00'), '0'),\n (78, 'Liu Wong', 'USA', 1, 17, 2907, 59, Decimal('1947.24'), '0'),\n (79, 'Karin Josephs', 'Germany', 1, 26, 3305, 253, Decimal('4954.00'), '0'),\n (80, 'Miguel Angel Paolino', 'Mexico', 0, 18, 3271, 384, Decimal('10812.15'), '0'),\n (81, 'Anabela Domingues', 'Brazil', 1, 22, 3251, 251, Decimal('7310.62'), '0'),\n (82, 'Helvetius Nagy', 'USA', 1, 22, 2956, 89, Decimal('1571.20'), '0'),\n (83, 'Palle Ibsen', 'Denmark', 1, 37, 3159, 792, Decimal('16643.80'), '0'),\n (84, 'Mary Saveley', 'France', 1, 37, 3302, 434, Decimal('9937.10'), '0'),\n (85, 'Paul Henriot', 'France', 1, 35, 3306, 98, Decimal('1480.00'), '0'),\n (86, 'Rita M\u00fcller', 'Germany', 1, 31, 3239, 492, Decimal('10653.85'), '0'),\n (87, 'Bela Koskitalo', 'Finland', 1, 23, 3284, 737, Decimal('16617.10'), '0'),\n (88, 'Paula Parente', 'Brazil', 1, 28, 3295, 267, Decimal('6480.70'), '0'),\n (89, 'Karl Jablonski', 'USA', 1, 28, 3279, 1063, Decimal('29073.45'), '0'),\n (90, 'Matti Karttunen', 'Finland', 1, 30, 2915, 148, Decimal('3161.35'), '0'),\n (91, 'Zbyszek Piestrzeniewicz', 'Poland', 1, 28, 3152, 205, Decimal('3531.95'), '0')]"
                    },
                    "execution_count": 286,
                    "metadata": {},
                    "output_type": "execute_result"
                }
            ],
            "source": "%%sql\nSELECT c.id, \n    COALESCE(firstname || ' ' ||lastname,firstname) AS name, \n    country,\n    CASE\n        WHEN phone IS NOT NULL \n            THEN 1\n            ELSE 0\n        END AS flag_phone, COALESCE(age,25) AS age,\n    COALESCE(LOS,0) AS LOS,\n    COALESCE(totalproduct,0) AS TotalProduct,\n    COALESCE(totalamount,0) AS TotalAmount,\n    COALESCE(paymenttype,1) AS PaymentType\n        \nFROM customer c LEFT JOIN \n\n    (SELECT customerid, (MAX(days('2021-07-23')-days(orderdate))) as LOS\n        from ORDER_TRANSACTION\n        GROUP BY customerid) o\n    \n    ON c.id = o.customerid\n    \nLEFT JOIN\n\n    (SELECT \n        customerid, \n        SUM(quantity) as totalproduct, \n        MIN(CASE \n            WHEN paymenttype = 'Cash' THEN '1' \n            ELSE '0'END) AS paymenttype\n    FROM \n        orderitem o LEFT JOIN ORDER_TRANSACTION ot\n        ON o.orderid = ot.id\n    GROUP BY customerid) t\n    \n    ON c.id = t.customerid\n    \nLEFT JOIN\n\n    (SELECT \n        customerid, \n         SUM(totalamount) as totalamount\n    FROM ORDER_TRANSACTION\n    GROUP BY customerid) ta\n    \n    ON c.id = ta.customerid\n    \n    \nORDER BY id;"
        }
    ],
    "metadata": {
        "kernelspec": {
            "display_name": "Python 3.7",
            "language": "python",
            "name": "python3"
        },
        "language_info": {
            "codemirror_mode": {
                "name": "ipython",
                "version": 3
            },
            "file_extension": ".py",
            "mimetype": "text/x-python",
            "name": "python",
            "nbconvert_exporter": "python",
            "pygments_lexer": "ipython3",
            "version": "3.7.10"
        }
    },
    "nbformat": 4,
    "nbformat_minor": 1
}